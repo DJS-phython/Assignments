{
  "nbformat": 4,
  "nbformat_minor": 0,
  "metadata": {
    "colab": {
      "name": "Assignment on Numpy_Deepak.ipynb",
      "provenance": [],
      "collapsed_sections": []
    },
    "kernelspec": {
      "name": "python3",
      "display_name": "Python 3"
    }
  },
  "cells": [
    {
      "cell_type": "code",
      "metadata": {
        "id": "MtJW-dubjmep"
      },
      "source": [
        "import numpy as np"
      ],
      "execution_count": 3,
      "outputs": []
    },
    {
      "cell_type": "markdown",
      "metadata": {
        "id": "Bxi-goQJkSic"
      },
      "source": [
        "1. Create a 5X2 integer array from a range between 100 to\r\n",
        "200 such that the difference between each element is 10"
      ]
    },
    {
      "cell_type": "code",
      "metadata": {
        "colab": {
          "base_uri": "https://localhost:8080/"
        },
        "id": "zqUoTExHkTkI",
        "outputId": "d0b5031e-200c-4099-975d-52a39e20413d"
      },
      "source": [
        "print (\"Create 5x2 integer range between 100 to 200\")\r\n",
        "sa = np.arange(100,200,10)\r\n",
        "sa = sa.reshape(5,2)\r\n",
        "print(sa)"
      ],
      "execution_count": 2,
      "outputs": [
        {
          "output_type": "stream",
          "text": [
            "Create 5x2 integer range between 100 to 200\n",
            "[[100 110]\n",
            " [120 130]\n",
            " [140 150]\n",
            " [160 170]\n",
            " [180 190]]\n"
          ],
          "name": "stdout"
        }
      ]
    },
    {
      "cell_type": "markdown",
      "metadata": {
        "id": "X6yPTMgKlgzm"
      },
      "source": [
        "2. Write a NumPy program to create a 3x3x3 array filled\r\n",
        "with arbitrary values and find the minimum and maximum\r\n",
        "values.\r\n"
      ]
    },
    {
      "cell_type": "code",
      "metadata": {
        "colab": {
          "base_uri": "https://localhost:8080/"
        },
        "id": "ZpDBgLx0lhqY",
        "outputId": "6dda4708-ebfb-4d5f-c3eb-940add4694a2"
      },
      "source": [
        "SampleA = np.random.random([3,3,3])\r\n",
        "print(SampleA)\r\n",
        "print(\"-------------------\")\r\n",
        "print(\"Minimum Value : \",SampleA.min())\r\n",
        "print(\"-----------------\")\r\n",
        "print(\"Maximum Value : \",SampleA.max())"
      ],
      "execution_count": null,
      "outputs": [
        {
          "output_type": "stream",
          "text": [
            "[[[0.09860706 0.46283371 0.80095953]\n",
            "  [0.21738563 0.34815141 0.30023045]\n",
            "  [0.78611328 0.73050742 0.77372311]]\n",
            "\n",
            " [[0.82552072 0.89393051 0.90388155]\n",
            "  [0.26115686 0.29183509 0.45573254]\n",
            "  [0.63315329 0.0853799  0.96494706]]\n",
            "\n",
            " [[0.42530943 0.14836844 0.4464967 ]\n",
            "  [0.25885102 0.28282309 0.51365886]\n",
            "  [0.58160449 0.24653806 0.8932476 ]]]\n",
            "-------------------\n",
            "Minimum Value :  0.08537990315350918\n",
            "-----------------\n",
            "Maximum Value :  0.9649470572563775\n"
          ],
          "name": "stdout"
        }
      ]
    },
    {
      "cell_type": "markdown",
      "metadata": {
        "id": "EKOBU4rJuDxF"
      },
      "source": [
        "3. Write a NumPy program to create a 5x5 zero matrix\r\n",
        "with elements on the main diagonal equal to 1, 2, 3, 4, 5."
      ]
    },
    {
      "cell_type": "code",
      "metadata": {
        "colab": {
          "base_uri": "https://localhost:8080/"
        },
        "id": "u-B_4t3sxj4L",
        "outputId": "12aa7e56-bd57-40b6-b355-157899d02c15"
      },
      "source": [
        "x=np.diag([1,2,3,4,5])\r\n",
        "print(x)"
      ],
      "execution_count": null,
      "outputs": [
        {
          "output_type": "stream",
          "text": [
            "[[1 0 0 0 0]\n",
            " [0 2 0 0 0]\n",
            " [0 0 3 0 0]\n",
            " [0 0 0 4 0]\n",
            " [0 0 0 0 5]]\n"
          ],
          "name": "stdout"
        }
      ]
    },
    {
      "cell_type": "markdown",
      "metadata": {
        "id": "AuwCMMqmyAt1"
      },
      "source": [
        "4. Given an array\r\n",
        "arr = np.array([0, 1, 2, 3, 4, 5, 6, 7, 8, 9\r\n",
        "i) Extract all odd numbers from arr\r\n",
        "ii) Replace all odd numbers in arr with -1"
      ]
    },
    {
      "cell_type": "code",
      "metadata": {
        "id": "jJJYsFb6lgJc",
        "colab": {
          "base_uri": "https://localhost:8080/"
        },
        "outputId": "288cc8c7-20f3-4b5c-dc90-f4a044a4c9f9"
      },
      "source": [
        "arr = np.array([0, 1, 2, 3, 4, 5, 6, 7, 8, 9])\r\n",
        "odd = []\r\n",
        "\r\n",
        "for i in arr:\r\n",
        "  if i%2 == 0:\r\n",
        "    print(f\"{i} its an even number\")\r\n",
        "  else:\r\n",
        "    print(f\"{i} odd number\")\r\n",
        "    odd.append(i)\r\n",
        "\r\n",
        "print(np.array(odd))\r\n",
        "odd = np.array(odd)-1\r\n",
        "print(np.array(odd))\r\n",
        "\r\n",
        "print(\"After Replacement : \",odd)"
      ],
      "execution_count": null,
      "outputs": [
        {
          "output_type": "stream",
          "text": [
            "0 its an even number\n",
            "1 odd number\n",
            "2 its an even number\n",
            "3 odd number\n",
            "4 its an even number\n",
            "5 odd number\n",
            "6 its an even number\n",
            "7 odd number\n",
            "8 its an even number\n",
            "9 odd number\n",
            "[1 3 5 7 9]\n",
            "[0 2 4 6 8]\n",
            "After Replacement :  [0 2 4 6 8]\n"
          ],
          "name": "stdout"
        }
      ]
    },
    {
      "cell_type": "markdown",
      "metadata": {
        "id": "uuRMXL_6vOIS"
      },
      "source": [
        "5. Write a NumPy program to create a 3x3 identity matrix,\r\n",
        "i.e. diagonal elements are 1,the rest are 0."
      ]
    },
    {
      "cell_type": "code",
      "metadata": {
        "colab": {
          "base_uri": "https://localhost:8080/"
        },
        "id": "PWfEEac8vOxK",
        "outputId": "b5f9e372-aaa4-409c-daa0-c11ccae31c81"
      },
      "source": [
        "x = np.diag([1,1,1])\r\n",
        "print(x)"
      ],
      "execution_count": null,
      "outputs": [
        {
          "output_type": "stream",
          "text": [
            "[[1 0 0]\n",
            " [0 1 0]\n",
            " [0 0 1]]\n"
          ],
          "name": "stdout"
        }
      ]
    },
    {
      "cell_type": "markdown",
      "metadata": {
        "id": "pGSeQKOPvkUD"
      },
      "source": [
        "6. Write a NumPy program to convert an array to a float\r\n",
        "type."
      ]
    },
    {
      "cell_type": "code",
      "metadata": {
        "colab": {
          "base_uri": "https://localhost:8080/"
        },
        "id": "HLaCvsBIvkzU",
        "outputId": "51f2c8d1-6d12-455f-c5e2-32114562955c"
      },
      "source": [
        "x2 = [1,2,3,4]\r\n",
        "print(x2)\r\n",
        "y = np.asfarray(x2)\r\n",
        "print(\"Array converted to float : \")\r\n",
        "print(y)\r\n"
      ],
      "execution_count": null,
      "outputs": [
        {
          "output_type": "stream",
          "text": [
            "[1, 2, 3, 4]\n",
            "Array converted to float : \n",
            "[1. 2. 3. 4.]\n"
          ],
          "name": "stdout"
        }
      ]
    },
    {
      "cell_type": "markdown",
      "metadata": {
        "id": "sz7Lka9uw4a5"
      },
      "source": [
        "7. Write a NumPy program to generate five random\r\n",
        "numbers from the normal distribution."
      ]
    },
    {
      "cell_type": "code",
      "metadata": {
        "colab": {
          "base_uri": "https://localhost:8080/"
        },
        "id": "pZv2vzELw5Vi",
        "outputId": "260a8a0b-0449-4b05-c6b8-84bf00a799d5"
      },
      "source": [
        "x3 = np.random.normal (size = 5)\r\n",
        "print(x3)\r\n"
      ],
      "execution_count": null,
      "outputs": [
        {
          "output_type": "stream",
          "text": [
            "[-0.38130768  0.24318708  0.51589788 -0.59179507 -1.53396057]\n"
          ],
          "name": "stdout"
        }
      ]
    },
    {
      "cell_type": "markdown",
      "metadata": {
        "id": "ixvL4qoWyprq"
      },
      "source": [
        "8. Following is the input NumPy array delete column two\r\n",
        "and insert following new column in its place.\r\n",
        "\r\n",
        "\r\n",
        "sampleArray=numpy.array([[34,43,73],[82,22,12],[53,94,\r\n",
        "66]])\r\n",
        "\r\n",
        "\r\n",
        "newColumn = numpy.array([[10,10,10]])"
      ]
    },
    {
      "cell_type": "code",
      "metadata": {
        "id": "-6ts1-xYyzqD",
        "colab": {
          "base_uri": "https://localhost:8080/"
        },
        "outputId": "f0d74c73-92d0-4f0f-cc66-ecf1c121d1fb"
      },
      "source": [
        "sampleArray=np.array([[34,43,73],[82,22,12],[53,94,66]])\r\n",
        "newColumn = np.array([[10,10,10]])\r\n",
        "print(sampleArray)\r\n",
        "\r\n",
        "print(\"----------------\")\r\n",
        "print(\"After delete\")\r\n",
        "sampleArray = np.delete(sampleArray,1,axis=1)\r\n",
        "print(sampleArray)\r\n",
        "\r\n",
        "print(\"----------------\")\r\n",
        "print(\"After Insert\")\r\n",
        "sampleArray = np.insert(sampleArray,1,newColumn,axis=1)\r\n",
        "print(sampleArray)"
      ],
      "execution_count": null,
      "outputs": [
        {
          "output_type": "stream",
          "text": [
            "[[34 43 73]\n",
            " [82 22 12]\n",
            " [53 94 66]]\n",
            "----------------\n",
            "After delete\n",
            "[[34 73]\n",
            " [82 12]\n",
            " [53 66]]\n",
            "----------------\n",
            "After Insert\n",
            "[[34 10 73]\n",
            " [82 10 12]\n",
            " [53 10 66]]\n"
          ],
          "name": "stdout"
        }
      ]
    },
    {
      "cell_type": "markdown",
      "metadata": {
        "id": "0UF7FPqevNZS"
      },
      "source": [
        "9. Write a NumPy program to compute the multiplication\r\n",
        "of two given matrices."
      ]
    },
    {
      "cell_type": "code",
      "metadata": {
        "colab": {
          "base_uri": "https://localhost:8080/"
        },
        "id": "71c224LbvMNb",
        "outputId": "af251911-a232-413c-c8e9-df652bbba48c"
      },
      "source": [
        "mat1 = [1,2],[3,4]\r\n",
        "mat2 = [4,3],[2,1]\r\n",
        "print(mat1)\r\n",
        "print(mat2)\r\n",
        "print(\"-----\")\r\n",
        "s = np.multiply(mat1,mat2)\r\n",
        "s"
      ],
      "execution_count": null,
      "outputs": [
        {
          "output_type": "stream",
          "text": [
            "([1, 2], [3, 4])\n",
            "([4, 3], [2, 1])\n",
            "-----\n"
          ],
          "name": "stdout"
        },
        {
          "output_type": "execute_result",
          "data": {
            "text/plain": [
              "array([[4, 6],\n",
              "       [6, 4]])"
            ]
          },
          "metadata": {
            "tags": []
          },
          "execution_count": 26
        }
      ]
    },
    {
      "cell_type": "markdown",
      "metadata": {
        "id": "21usqrvKz6bl"
      },
      "source": [
        "10. Write a NumPy program to create a random vector of\r\n",
        "size 10 and sort it."
      ]
    },
    {
      "cell_type": "code",
      "metadata": {
        "id": "0lna57Y2z-tf",
        "colab": {
          "base_uri": "https://localhost:8080/"
        },
        "outputId": "a3c4d5b1-d765-45c2-f0b5-395813c051d4"
      },
      "source": [
        "x = np.random.random(10)\r\n",
        "print(\"X value\")\r\n",
        "print(x)\r\n",
        "\r\n",
        "print(\"-------------  \")\r\n",
        "print(\"Sorted X Value\")\r\n",
        "x.sort()\r\n",
        "print(x)"
      ],
      "execution_count": 17,
      "outputs": [
        {
          "output_type": "stream",
          "text": [
            "X value\n",
            "[0.66426817 0.23792484 0.82646223 0.47148495 0.26679201 0.57908916\n",
            " 0.07579241 0.66758798 0.54020534 0.90520105]\n",
            "-------------\n",
            "Sorted X Value\n",
            "[0.07579241 0.23792484 0.26679201 0.47148495 0.54020534 0.57908916\n",
            " 0.66426817 0.66758798 0.82646223 0.90520105]\n"
          ],
          "name": "stdout"
        }
      ]
    },
    {
      "cell_type": "markdown",
      "metadata": {
        "id": "qsIuiYD-lByn"
      },
      "source": [
        "11. Write a NumPy program to compute the covariance\r\n",
        "matrix of two arrays."
      ]
    },
    {
      "cell_type": "code",
      "metadata": {
        "colab": {
          "base_uri": "https://localhost:8080/"
        },
        "id": "iEIL_qnplAfy",
        "outputId": "3757cb0d-2ab2-45cd-cf8b-79f722be6d71"
      },
      "source": [
        "x = np.array([0,1,2])\r\n",
        "y = np.array([-2,-1,0])\r\n",
        "z = np.cov(x,y)\r\n",
        "print(z)"
      ],
      "execution_count": 18,
      "outputs": [
        {
          "output_type": "stream",
          "text": [
            "[[1. 1.]\n",
            " [1. 1.]]\n"
          ],
          "name": "stdout"
        }
      ]
    },
    {
      "cell_type": "markdown",
      "metadata": {
        "id": "NeyEGBXfnDmV"
      },
      "source": [
        "12.Create a 4X2 integer array and Prints its :\r\n",
        "\r\n",
        "i)The shape of an array.\r\n",
        "\r\n",
        "ii) Array dimensions.\r\n",
        "\r\n",
        "iii) The Length of each element of the array in bytes"
      ]
    },
    {
      "cell_type": "code",
      "metadata": {
        "colab": {
          "base_uri": "https://localhost:8080/"
        },
        "id": "wgUqjvLVnLeM",
        "outputId": "e00baf23-eb4b-422f-8b3b-578e90f858c0"
      },
      "source": [
        "x = np.empty([4,2], dtype = int)\r\n",
        "print(x)\r\n",
        "print(\"Shape: \",x.shape)\r\n",
        "print(\"Dimension :\", x.ndim)\r\n",
        "print(\"Length in bytes:\", x.itemsize)"
      ],
      "execution_count": 27,
      "outputs": [
        {
          "output_type": "stream",
          "text": [
            "[[           50801856      13683765805067]\n",
            " [1040894463876887040         66337112064]\n",
            " [8390326431219980890 8388353894424474719]\n",
            " [8318823012416185902      18083581027118]]\n",
            "Shape:  (4, 2)\n",
            "Dimension : 2\n",
            "Length in bytes: 8\n"
          ],
          "name": "stdout"
        }
      ]
    },
    {
      "cell_type": "markdown",
      "metadata": {
        "id": "UNkxD219or5K"
      },
      "source": [
        "13. Write a NumPy program to concatenate element-wise\r\n",
        "two arrays of string."
      ]
    },
    {
      "cell_type": "code",
      "metadata": {
        "colab": {
          "base_uri": "https://localhost:8080/"
        },
        "id": "9tAJkkHIotJw",
        "outputId": "3f4f4d88-cca2-4040-9982-5efed1551346"
      },
      "source": [
        "x1 = np.array(['Fruit', 'Color'],dtype= str)\r\n",
        "x2 = np.array([' Mango',' Yellow'],dtype = str)\r\n",
        "print(x1)\r\n",
        "print(x2)\r\n",
        "x3 = np.char.add(x1,x2)\r\n",
        "print(x3)\r\n",
        "x3.shape\r\n",
        "x3"
      ],
      "execution_count": 35,
      "outputs": [
        {
          "output_type": "stream",
          "text": [
            "['Fruit' 'Color']\n",
            "[' Mango' ' Yellow']\n",
            "['Fruit Mango' 'Color Yellow']\n"
          ],
          "name": "stdout"
        },
        {
          "output_type": "execute_result",
          "data": {
            "text/plain": [
              "array(['Fruit Mango', 'Color Yellow'], dtype='<U12')"
            ]
          },
          "metadata": {
            "tags": []
          },
          "execution_count": 35
        }
      ]
    },
    {
      "cell_type": "markdown",
      "metadata": {
        "id": "CmKZd417qBdy"
      },
      "source": [
        "14. Write a NumPy program to \r\n",
        "\r\n",
        "capitalize the first letter,\r\n",
        "\r\n",
        "lowercase, \r\n",
        "\r\n",
        "uppercase, \r\n",
        "\r\n",
        "swapcase, \r\n",
        "\r\n",
        "title-case \r\n",
        "\r\n",
        "of all the elements of a given array."
      ]
    },
    {
      "cell_type": "code",
      "metadata": {
        "colab": {
          "base_uri": "https://localhost:8080/"
        },
        "id": "9_X3As7NqKJ7",
        "outputId": "76e07944-8a2d-4ead-ecfb-5d39d9fb053e"
      },
      "source": [
        "x4 = np.array(['deepak','virar','india'],dtype=str)\r\n",
        "print(x4)\r\n",
        "print(\"Capitalize\", np.char.capitalize(x4))\r\n",
        "print(\"Lower Case: \", np.char.lower(x4))\r\n",
        "print(\"Upper Case: \", np.char.upper(x4))\r\n",
        "print(\"Swap Case: \", np.char.swapcase(x4))\r\n",
        "print(\"Titled Case\",np.char.title(x4))"
      ],
      "execution_count": 42,
      "outputs": [
        {
          "output_type": "stream",
          "text": [
            "['deepak' 'virar' 'india']\n",
            "Capitalize ['Deepak' 'Virar' 'India']\n",
            "Lower Case:  ['deepak' 'virar' 'india']\n",
            "Upper Case:  ['DEEPAK' 'VIRAR' 'INDIA']\n",
            "Swap Case:  ['DEEPAK' 'VIRAR' 'INDIA']\n",
            "Titled Case ['Deepak' 'Virar' 'India']\n"
          ],
          "name": "stdout"
        }
      ]
    },
    {
      "cell_type": "markdown",
      "metadata": {
        "id": "JjGiW_kvvee-"
      },
      "source": [
        "15. Write a NumPy program to convert a given array into\r\n",
        "a list."
      ]
    },
    {
      "cell_type": "code",
      "metadata": {
        "colab": {
          "base_uri": "https://localhost:8080/"
        },
        "id": "6ER9CLpbvfIR",
        "outputId": "70632ba0-3189-4442-d94f-26dae797afc7"
      },
      "source": [
        "x5 = ([1,2],[3,4])\r\n",
        "b = np.array(x5)\r\n",
        "b1 = b.tolist()\r\n",
        "print(b1)"
      ],
      "execution_count": 44,
      "outputs": [
        {
          "output_type": "stream",
          "text": [
            "[[1, 2], [3, 4]]\n"
          ],
          "name": "stdout"
        }
      ]
    },
    {
      "cell_type": "markdown",
      "metadata": {
        "id": "Gc0FoehRw94D"
      },
      "source": [
        "16. Write a NumPy program to compute the \r\n",
        "\r\n",
        "sum of all elements, \r\n",
        "\r\n",
        "sum of each column and \r\n",
        "\r\n",
        "sum of each row of a given array."
      ]
    },
    {
      "cell_type": "code",
      "metadata": {
        "colab": {
          "base_uri": "https://localhost:8080/"
        },
        "id": "r6I_s4DnxDR7",
        "outputId": "6bc14f1e-b91e-4615-acd0-3b1cedc81853"
      },
      "source": [
        "x6 = np.array([[1,2],[3,4]])\r\n",
        "print(x6)\r\n",
        "print(\"Sum: \",np.sum(x6))\r\n",
        "print(\"Sum of Column: \",np.sum(x6,axis=0))\r\n",
        "print(\"Sum of Rows: \",np.sum(x6,axis=1))"
      ],
      "execution_count": 52,
      "outputs": [
        {
          "output_type": "stream",
          "text": [
            "[[1 2]\n",
            " [3 4]]\n",
            "Sum:  10\n",
            "Sum of Column:  [4 6]\n",
            "Sum of Rows:  [3 7]\n"
          ],
          "name": "stdout"
        }
      ]
    },
    {
      "cell_type": "markdown",
      "metadata": {
        "id": "7_7MdueNzTkK"
      },
      "source": [
        "17. Write a NumPy program to create a random 10x4 array and \r\n",
        "\r\n",
        "extract the first five rows of the array and \r\n",
        "\r\n",
        "store them into a variable."
      ]
    },
    {
      "cell_type": "code",
      "metadata": {
        "colab": {
          "base_uri": "https://localhost:8080/"
        },
        "id": "and-ewqXzZno",
        "outputId": "c5596bf6-bda3-4a60-9912-eac87ac697d2"
      },
      "source": [
        "x7 = np.random.rand(10,4)\r\n",
        "print(x7)\r\n",
        "print(\"----- First 5 Rows-----\")\r\n",
        "y = x7[ :5]\r\n",
        "print(y)"
      ],
      "execution_count": 64,
      "outputs": [
        {
          "output_type": "stream",
          "text": [
            "[[0.75581573 0.4745236  0.57269579 0.47648989]\n",
            " [0.87528533 0.45840564 0.25716616 0.60672158]\n",
            " [0.32552138 0.82954271 0.59694736 0.17001385]\n",
            " [0.57979118 0.61018405 0.71020791 0.88850287]\n",
            " [0.46670692 0.48911477 0.42571658 0.0177804 ]\n",
            " [0.64294561 0.68280388 0.05886706 0.33764582]\n",
            " [0.04404812 0.83024006 0.60022969 0.59003079]\n",
            " [0.40621775 0.6105587  0.12029356 0.59768247]\n",
            " [0.47075677 0.7669968  0.41934462 0.67922922]\n",
            " [0.29891311 0.47828811 0.02122541 0.69320741]]\n",
            "----- First 5 Rows-----\n",
            "[[0.75581573 0.4745236  0.57269579 0.47648989]\n",
            " [0.87528533 0.45840564 0.25716616 0.60672158]\n",
            " [0.32552138 0.82954271 0.59694736 0.17001385]\n",
            " [0.57979118 0.61018405 0.71020791 0.88850287]\n",
            " [0.46670692 0.48911477 0.42571658 0.0177804 ]]\n"
          ],
          "name": "stdout"
        }
      ]
    },
    {
      "cell_type": "markdown",
      "metadata": {
        "id": "D20QOHU_2CNZ"
      },
      "source": [
        "18. Write a NumPy program to get the unique elements of\r\n",
        "a 1D and 2D array."
      ]
    },
    {
      "cell_type": "code",
      "metadata": {
        "colab": {
          "base_uri": "https://localhost:8080/"
        },
        "id": "3pa7YnAG2DAH",
        "outputId": "03c96bb1-b94e-475e-c5c9-ee9f610ca85a"
      },
      "source": [
        "x8 = np.array([10,10,10,20,20,30,30,30])\r\n",
        "print(\"Unique Number: \",np.unique(x8))\r\n",
        "\r\n",
        "x9 = np.array([[10,30],[30,40]])\r\n",
        "print(\"Unique Number: \",np.unique(x9))"
      ],
      "execution_count": 69,
      "outputs": [
        {
          "output_type": "stream",
          "text": [
            "Unique Number:  [10 20 30]\n",
            "Unique Number:  [10 30 40]\n"
          ],
          "name": "stdout"
        }
      ]
    }
  ]
}