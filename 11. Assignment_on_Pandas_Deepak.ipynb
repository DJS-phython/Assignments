{
  "nbformat": 4,
  "nbformat_minor": 0,
  "metadata": {
    "colab": {
      "name": "Assignment on Pandas - Deepak",
      "provenance": [],
      "collapsed_sections": []
    },
    "kernelspec": {
      "name": "python3",
      "display_name": "Python 3"
    }
  },
  "cells": [
    {
      "cell_type": "code",
      "metadata": {
        "id": "mf3W3paytGUx"
      },
      "source": [
        "import pandas as pd\r\n",
        "import numpy as np"
      ],
      "execution_count": 48,
      "outputs": []
    },
    {
      "cell_type": "markdown",
      "metadata": {
        "id": "nLy9ct515PSf"
      },
      "source": [
        "1. Define and create a Dataframe using Pandas."
      ]
    },
    {
      "cell_type": "code",
      "metadata": {
        "colab": {
          "base_uri": "https://localhost:8080/",
          "height": 136
        },
        "id": "ULBmX_-45DyV",
        "outputId": "7ae658cc-8045-4c6f-f8d5-0b3146ecd8cd"
      },
      "source": [
        "#DataFrame is a 2-dimensional labeled data structure with columns of potentially different types. You can think of it like a spreadsheet.\r\n",
        "\r\n",
        "data = [['tom', 10], ['nick', 15], ['juli', 14]] \r\n",
        "df = pd.DataFrame(data, columns = ['Name', 'Age']) \r\n",
        "  \r\n",
        "# print dataframe. \r\n",
        "df "
      ],
      "execution_count": 33,
      "outputs": [
        {
          "output_type": "execute_result",
          "data": {
            "text/html": [
              "<div>\n",
              "<style scoped>\n",
              "    .dataframe tbody tr th:only-of-type {\n",
              "        vertical-align: middle;\n",
              "    }\n",
              "\n",
              "    .dataframe tbody tr th {\n",
              "        vertical-align: top;\n",
              "    }\n",
              "\n",
              "    .dataframe thead th {\n",
              "        text-align: right;\n",
              "    }\n",
              "</style>\n",
              "<table border=\"1\" class=\"dataframe\">\n",
              "  <thead>\n",
              "    <tr style=\"text-align: right;\">\n",
              "      <th></th>\n",
              "      <th>Name</th>\n",
              "      <th>Age</th>\n",
              "    </tr>\n",
              "  </thead>\n",
              "  <tbody>\n",
              "    <tr>\n",
              "      <th>0</th>\n",
              "      <td>tom</td>\n",
              "      <td>10</td>\n",
              "    </tr>\n",
              "    <tr>\n",
              "      <th>1</th>\n",
              "      <td>nick</td>\n",
              "      <td>15</td>\n",
              "    </tr>\n",
              "    <tr>\n",
              "      <th>2</th>\n",
              "      <td>juli</td>\n",
              "      <td>14</td>\n",
              "    </tr>\n",
              "  </tbody>\n",
              "</table>\n",
              "</div>"
            ],
            "text/plain": [
              "   Name  Age\n",
              "0   tom   10\n",
              "1  nick   15\n",
              "2  juli   14"
            ]
          },
          "metadata": {
            "tags": []
          },
          "execution_count": 33
        }
      ]
    },
    {
      "cell_type": "markdown",
      "metadata": {
        "id": "AHfw9kjQvScg"
      },
      "source": [
        "2. How can we calculate the standard deviation from the series."
      ]
    },
    {
      "cell_type": "code",
      "metadata": {
        "colab": {
          "base_uri": "https://localhost:8080/"
        },
        "id": "lA8B3UMTvVLW",
        "outputId": "0a3d47dd-6a2b-4fa1-d646-14ec1450a003"
      },
      "source": [
        "sr = pd.Series([10,20,30,40,50])\r\n",
        "print(sr)\r\n",
        "print(\"Standard Deviation: \",sr.std())  "
      ],
      "execution_count": 11,
      "outputs": [
        {
          "output_type": "stream",
          "text": [
            "0    10\n",
            "1    20\n",
            "2    30\n",
            "3    40\n",
            "4    50\n",
            "dtype: int64\n",
            "Standard Deviation:  15.811388300841896\n"
          ],
          "name": "stdout"
        }
      ]
    },
    {
      "cell_type": "markdown",
      "metadata": {
        "id": "sbcVcdxGzW33"
      },
      "source": [
        "3. Create a Dataframe using List given below:\r\n",
        "lis=[‘Python’,’Numpy’,’Pandas’]"
      ]
    },
    {
      "cell_type": "code",
      "metadata": {
        "colab": {
          "base_uri": "https://localhost:8080/",
          "height": 136
        },
        "id": "R7HQcC6kzYdV",
        "outputId": "329f273f-fbc6-4714-a0f4-56bb1a70b4d7"
      },
      "source": [
        "lis=['Python','Numpy','Pandas']\r\n",
        "df = pd.DataFrame(lis)\r\n",
        "df"
      ],
      "execution_count": 17,
      "outputs": [
        {
          "output_type": "execute_result",
          "data": {
            "text/html": [
              "<div>\n",
              "<style scoped>\n",
              "    .dataframe tbody tr th:only-of-type {\n",
              "        vertical-align: middle;\n",
              "    }\n",
              "\n",
              "    .dataframe tbody tr th {\n",
              "        vertical-align: top;\n",
              "    }\n",
              "\n",
              "    .dataframe thead th {\n",
              "        text-align: right;\n",
              "    }\n",
              "</style>\n",
              "<table border=\"1\" class=\"dataframe\">\n",
              "  <thead>\n",
              "    <tr style=\"text-align: right;\">\n",
              "      <th></th>\n",
              "      <th>0</th>\n",
              "    </tr>\n",
              "  </thead>\n",
              "  <tbody>\n",
              "    <tr>\n",
              "      <th>0</th>\n",
              "      <td>Python</td>\n",
              "    </tr>\n",
              "    <tr>\n",
              "      <th>1</th>\n",
              "      <td>Numpy</td>\n",
              "    </tr>\n",
              "    <tr>\n",
              "      <th>2</th>\n",
              "      <td>Pandas</td>\n",
              "    </tr>\n",
              "  </tbody>\n",
              "</table>\n",
              "</div>"
            ],
            "text/plain": [
              "        0\n",
              "0  Python\n",
              "1   Numpy\n",
              "2  Pandas"
            ]
          },
          "metadata": {
            "tags": []
          },
          "execution_count": 17
        }
      ]
    },
    {
      "cell_type": "markdown",
      "metadata": {
        "id": "C93Aw7f40H0y"
      },
      "source": [
        "4. Create a Series from dictionary given below:\r\n",
        "\r\n",
        "info = {'x' : 0., 'y' : 1., 'z' : 2.}"
      ]
    },
    {
      "cell_type": "code",
      "metadata": {
        "colab": {
          "base_uri": "https://localhost:8080/"
        },
        "id": "bU_gbNdR0SKP",
        "outputId": "5721eacf-b283-4e51-89fb-d3a2f61beab2"
      },
      "source": [
        "info = {'x' : 0., 'y' : 1., 'z' : 2.}\r\n",
        "ds = pd.Series(info)\r\n",
        "ds"
      ],
      "execution_count": 18,
      "outputs": [
        {
          "output_type": "execute_result",
          "data": {
            "text/plain": [
              "x    0.0\n",
              "y    1.0\n",
              "z    2.0\n",
              "dtype: float64"
            ]
          },
          "metadata": {
            "tags": []
          },
          "execution_count": 18
        }
      ]
    },
    {
      "cell_type": "markdown",
      "metadata": {
        "id": "SqqdSVNP0brg"
      },
      "source": [
        "5. How will you create an empty Dataframe in Pandas?"
      ]
    },
    {
      "cell_type": "code",
      "metadata": {
        "colab": {
          "base_uri": "https://localhost:8080/"
        },
        "id": "YOrARKGX0esT",
        "outputId": "6a7f1797-c4c4-4a38-a7ec-6c695a634f8d"
      },
      "source": [
        "emp_df = pd.DataFrame()\r\n",
        "print(emp_df)\r\n"
      ],
      "execution_count": 23,
      "outputs": [
        {
          "output_type": "stream",
          "text": [
            "Empty DataFrame\n",
            "Columns: []\n",
            "Index: []\n"
          ],
          "name": "stdout"
        }
      ]
    },
    {
      "cell_type": "markdown",
      "metadata": {
        "id": "hK2kuUFm2MSE"
      },
      "source": [
        "6. i) Add a column to that pandas Dataframe that you created in Q1\r\n",
        "\r\n",
        "ii) Change index of that Dataframe."
      ]
    },
    {
      "cell_type": "code",
      "metadata": {
        "colab": {
          "base_uri": "https://localhost:8080/"
        },
        "id": "46H7Mzie2Nqy",
        "outputId": "aec7b2f3-e63b-4035-eed9-6d5c8e7985bb"
      },
      "source": [
        "df.insert(2,'Std',[7,12,11])\r\n",
        "print(df)\r\n",
        "\r\n"
      ],
      "execution_count": 34,
      "outputs": [
        {
          "output_type": "stream",
          "text": [
            "   Name  Age  Std\n",
            "0   tom   10    7\n",
            "1  nick   15   12\n",
            "2  juli   14   11\n"
          ],
          "name": "stdout"
        }
      ]
    },
    {
      "cell_type": "code",
      "metadata": {
        "colab": {
          "base_uri": "https://localhost:8080/"
        },
        "id": "93OfOwW14-bS",
        "outputId": "90e635d6-1610-4801-f65d-c34e6b0d6f37"
      },
      "source": [
        "# after indexing\r\n",
        "df.set_index(\"Name\",inplace = True)\r\n",
        "print(df)"
      ],
      "execution_count": 35,
      "outputs": [
        {
          "output_type": "stream",
          "text": [
            "      Age  Std\n",
            "Name          \n",
            "tom    10    7\n",
            "nick   15   12\n",
            "juli   14   11\n"
          ],
          "name": "stdout"
        }
      ]
    },
    {
      "cell_type": "markdown",
      "metadata": {
        "id": "_wcfpZKE5IJK"
      },
      "source": [
        "7. Get the following from this dataframe:\r\n",
        "import random\r\n",
        "A = [ random.randint(0,100) for i in range(10) ]\r\n",
        "B = [ random.randint(0,100) for i in range(10) ]\r\n",
        "df = pd.DataFrame({ 'field_A': A, 'field_B': B })\r\n",
        "\r\n",
        "i) mean\r\n",
        "\r\n",
        "ii) median\r\n",
        "\r\n",
        "iii) mode\r\n",
        "\r\n",
        "iv) 75th percentile\r\n",
        "\r\n",
        "v) 90th percentile\r\n",
        "\r\n",
        "vi) 99th percentile"
      ]
    },
    {
      "cell_type": "code",
      "metadata": {
        "colab": {
          "base_uri": "https://localhost:8080/"
        },
        "id": "gGWGAvwV5UAa",
        "outputId": "bb870757-e973-4b2a-9248-d272934a7111"
      },
      "source": [
        "import random\r\n",
        "A = [ random.randint(0,100) for i in range(10) ]\r\n",
        "B = [ random.randint(0,100) for i in range(10) ]\r\n",
        "df1 = pd.DataFrame({ 'field_A': A, 'field_B': B })\r\n",
        "print(df1)\r\n",
        "print(\"---\")\r\n",
        "print(\"Mean:\",\"\\n\",df1.mean())\r\n",
        "print(\"---\")\r\n",
        "print(\"Median:\",\"\\n\",df1.median())\r\n",
        "print(\"---\")\r\n",
        "print(\"Mode:\",\"\\n\",df1.mode())\r\n",
        "print(\"---\")\r\n",
        "print(\"75th Percentile:\",\"\\n\",df1.quantile(0.75))\r\n",
        "print(\"---\")\r\n",
        "print(\"90th Percentile:\",\"\\n\",df1.quantile(0.90))\r\n",
        "print(\"---\")\r\n",
        "print(\"99th Percentile:\",\"\\n\",df1.quantile(0.99))"
      ],
      "execution_count": 46,
      "outputs": [
        {
          "output_type": "stream",
          "text": [
            "   field_A  field_B\n",
            "0       21       97\n",
            "1       51       29\n",
            "2       78       11\n",
            "3       68       37\n",
            "4       20       52\n",
            "5       28       95\n",
            "6       88       84\n",
            "7       89        9\n",
            "8       59       16\n",
            "9       40       88\n",
            "---\n",
            "Mean: \n",
            " field_A    54.2\n",
            "field_B    51.8\n",
            "dtype: float64\n",
            "---\n",
            "Median: \n",
            " field_A    55.0\n",
            "field_B    44.5\n",
            "dtype: float64\n",
            "---\n",
            "Mode: \n",
            "    field_A  field_B\n",
            "0       20        9\n",
            "1       21       11\n",
            "2       28       16\n",
            "3       40       29\n",
            "4       51       37\n",
            "5       59       52\n",
            "6       68       84\n",
            "7       78       88\n",
            "8       88       95\n",
            "9       89       97\n",
            "---\n",
            "75th Percentile: \n",
            " field_A    75.5\n",
            "field_B    87.0\n",
            "Name: 0.75, dtype: float64\n",
            "---\n",
            "90th Percentile: \n",
            " field_A    88.1\n",
            "field_B    95.2\n",
            "Name: 0.9, dtype: float64\n",
            "---\n",
            "99th Percentile: \n",
            " field_A    88.91\n",
            "field_B    96.82\n",
            "Name: 0.99, dtype: float64\n"
          ],
          "name": "stdout"
        }
      ]
    },
    {
      "cell_type": "markdown",
      "metadata": {
        "id": "oXD0jzZ_9-rv"
      },
      "source": [
        "8. How do you count how many unique rows a DataFrame has (i.e.\r\n",
        "ignore all rows that are duplicates)?"
      ]
    },
    {
      "cell_type": "code",
      "metadata": {
        "id": "gdfQDdoG9_yK"
      },
      "source": [
        "using .value_count()\r\n",
        "#value count first finds unique departments a\r\n",
        "#it then counts n(rows) in that dept"
      ],
      "execution_count": null,
      "outputs": []
    },
    {
      "cell_type": "markdown",
      "metadata": {
        "id": "Erxe5nDa_FR3"
      },
      "source": [
        "9. How to keep only top 2 most frequent values as it is and replace\r\n",
        "everything else as ‘Other’? Take the following as input.\r\n",
        "np.random.RandomState(100)\r\n",
        "ser = pd.Series(np.random.randint(1, 5, [12]))"
      ]
    },
    {
      "cell_type": "code",
      "metadata": {
        "colab": {
          "base_uri": "https://localhost:8080/"
        },
        "id": "3Sm7m4zV_ceB",
        "outputId": "be935ff8-2914-42df-9f59-d4ebbd2e1e78"
      },
      "source": [
        "np.random.RandomState(100)\r\n",
        "ser = pd.Series(np.random.randint(1, 5, [12]))\r\n",
        "print(ser)\r\n",
        "print(\"Top 2 freq values: \\n\",ser.value_counts())\r\n",
        "ser[~ser.isin(ser.value_counts().index[:1])]='Others'\r\n",
        "print(ser)"
      ],
      "execution_count": 85,
      "outputs": [
        {
          "output_type": "stream",
          "text": [
            "0     4\n",
            "1     2\n",
            "2     4\n",
            "3     3\n",
            "4     2\n",
            "5     4\n",
            "6     4\n",
            "7     2\n",
            "8     4\n",
            "9     4\n",
            "10    4\n",
            "11    4\n",
            "dtype: int64\n",
            "Top 2 freq values: \n",
            " 4    8\n",
            "2    3\n",
            "3    1\n",
            "dtype: int64\n",
            "0          4\n",
            "1     Others\n",
            "2          4\n",
            "3     Others\n",
            "4     Others\n",
            "5          4\n",
            "6          4\n",
            "7     Others\n",
            "8          4\n",
            "9          4\n",
            "10         4\n",
            "11         4\n",
            "dtype: object\n"
          ],
          "name": "stdout"
        }
      ]
    },
    {
      "cell_type": "markdown",
      "metadata": {
        "id": "40jmNl44I7PD"
      },
      "source": [
        "10. A DataFrame has a column of groups 'grps' and and column of\r\n",
        "integer values 'vals':\r\n",
        "\r\n",
        "df = pd.DataFrame({'grps':\r\n",
        "list('aaabbcaabcccbbc'),\r\n",
        "'vals': [12, 345, 3, 1, 45, 14 , 4, 52, 54, 23, 235,\r\n",
        "21, 57, 3, 87]})\r\n",
        "\r\n",
        "For each group, find the sum of the three greatest values. You\r\n",
        "should end up with the answer as follows:\r\n",
        "grps\r\n",
        "a 409\r\n",
        "b 156\r\n",
        "c 345\r\n",
        "\r\n",
        "*Create a dataframe for the following to answer the next few questions\r\n",
        "data = {'animal': ['cat', 'cat', 'snake', 'dog', 'dog', 'cat',\r\n",
        "'snake', 'cat', 'dog', 'dog'],\r\n",
        "'age': [2.5, 3, 0.5, np.nan, 5, 2, 4.5, np.nan, 7, 3],\r\n",
        "'visits': [1, 3, 2, 3, 2, 3, 1, 1, 2, 1],\r\n",
        "'priority': ['yes', 'yes', 'no', 'yes', 'no', 'no', 'no', 'yes', 'no',\r\n",
        "'no']}\r\n",
        "\r\n",
        "labels = ['a', 'b', 'c', 'd', 'e', 'f', 'g', 'h', 'i', 'j']"
      ]
    },
    {
      "cell_type": "code",
      "metadata": {
        "colab": {
          "base_uri": "https://localhost:8080/"
        },
        "id": "X2cpElM_JFRh",
        "outputId": "5ad6dd5e-b803-42af-abdc-afb660ab4d06"
      },
      "source": [
        "df = pd.DataFrame({'grps':list('aaabbcaabcccbbc'),\r\n",
        "'vals': [12, 345, 3, 1, 45, 14 , 4, 52, 54, 23, 235, 21, 57, 3, 87]})\r\n",
        "print(df)\r\n",
        "\r\n",
        "print(df.groupby('grps')['vals'].nlargest(3).sum(level=0))"
      ],
      "execution_count": 97,
      "outputs": [
        {
          "output_type": "stream",
          "text": [
            "   grps  vals\n",
            "0     a    12\n",
            "1     a   345\n",
            "2     a     3\n",
            "3     b     1\n",
            "4     b    45\n",
            "5     c    14\n",
            "6     a     4\n",
            "7     a    52\n",
            "8     b    54\n",
            "9     c    23\n",
            "10    c   235\n",
            "11    c    21\n",
            "12    b    57\n",
            "13    b     3\n",
            "14    c    87\n",
            "grps\n",
            "a    409\n",
            "b    156\n",
            "c    345\n",
            "Name: vals, dtype: int64\n"
          ],
          "name": "stdout"
        }
      ]
    },
    {
      "cell_type": "code",
      "metadata": {
        "colab": {
          "base_uri": "https://localhost:8080/",
          "height": 343
        },
        "id": "1XFgntN_L3aO",
        "outputId": "c16abb25-e8b9-407f-c253-a3514547ed5e"
      },
      "source": [
        "data = {'animal': ['cat', 'cat', 'snake', 'dog', 'dog', 'cat', 'snake', 'cat', 'dog', 'dog'], 'age': [2.5, 3, 0.5, np.nan, 5, 2, 4.5, np.nan, 7, 3], 'visits': [1, 3, 2, 3, 2, 3, 1, 1, 2, 1], 'priority': ['yes', 'yes', 'no', 'yes', 'no', 'no', 'no', 'yes', 'no', 'no']}\r\n",
        "\r\n",
        "labels = ['a', 'b', 'c', 'd', 'e', 'f', 'g', 'h', 'i', 'j']\r\n",
        "df_vet = pd.DataFrame(data,index=labels)\r\n",
        "df_vet"
      ],
      "execution_count": 144,
      "outputs": [
        {
          "output_type": "execute_result",
          "data": {
            "text/html": [
              "<div>\n",
              "<style scoped>\n",
              "    .dataframe tbody tr th:only-of-type {\n",
              "        vertical-align: middle;\n",
              "    }\n",
              "\n",
              "    .dataframe tbody tr th {\n",
              "        vertical-align: top;\n",
              "    }\n",
              "\n",
              "    .dataframe thead th {\n",
              "        text-align: right;\n",
              "    }\n",
              "</style>\n",
              "<table border=\"1\" class=\"dataframe\">\n",
              "  <thead>\n",
              "    <tr style=\"text-align: right;\">\n",
              "      <th></th>\n",
              "      <th>animal</th>\n",
              "      <th>age</th>\n",
              "      <th>visits</th>\n",
              "      <th>priority</th>\n",
              "    </tr>\n",
              "  </thead>\n",
              "  <tbody>\n",
              "    <tr>\n",
              "      <th>a</th>\n",
              "      <td>cat</td>\n",
              "      <td>2.5</td>\n",
              "      <td>1</td>\n",
              "      <td>yes</td>\n",
              "    </tr>\n",
              "    <tr>\n",
              "      <th>b</th>\n",
              "      <td>cat</td>\n",
              "      <td>3.0</td>\n",
              "      <td>3</td>\n",
              "      <td>yes</td>\n",
              "    </tr>\n",
              "    <tr>\n",
              "      <th>c</th>\n",
              "      <td>snake</td>\n",
              "      <td>0.5</td>\n",
              "      <td>2</td>\n",
              "      <td>no</td>\n",
              "    </tr>\n",
              "    <tr>\n",
              "      <th>d</th>\n",
              "      <td>dog</td>\n",
              "      <td>NaN</td>\n",
              "      <td>3</td>\n",
              "      <td>yes</td>\n",
              "    </tr>\n",
              "    <tr>\n",
              "      <th>e</th>\n",
              "      <td>dog</td>\n",
              "      <td>5.0</td>\n",
              "      <td>2</td>\n",
              "      <td>no</td>\n",
              "    </tr>\n",
              "    <tr>\n",
              "      <th>f</th>\n",
              "      <td>cat</td>\n",
              "      <td>2.0</td>\n",
              "      <td>3</td>\n",
              "      <td>no</td>\n",
              "    </tr>\n",
              "    <tr>\n",
              "      <th>g</th>\n",
              "      <td>snake</td>\n",
              "      <td>4.5</td>\n",
              "      <td>1</td>\n",
              "      <td>no</td>\n",
              "    </tr>\n",
              "    <tr>\n",
              "      <th>h</th>\n",
              "      <td>cat</td>\n",
              "      <td>NaN</td>\n",
              "      <td>1</td>\n",
              "      <td>yes</td>\n",
              "    </tr>\n",
              "    <tr>\n",
              "      <th>i</th>\n",
              "      <td>dog</td>\n",
              "      <td>7.0</td>\n",
              "      <td>2</td>\n",
              "      <td>no</td>\n",
              "    </tr>\n",
              "    <tr>\n",
              "      <th>j</th>\n",
              "      <td>dog</td>\n",
              "      <td>3.0</td>\n",
              "      <td>1</td>\n",
              "      <td>no</td>\n",
              "    </tr>\n",
              "  </tbody>\n",
              "</table>\n",
              "</div>"
            ],
            "text/plain": [
              "  animal  age  visits priority\n",
              "a    cat  2.5       1      yes\n",
              "b    cat  3.0       3      yes\n",
              "c  snake  0.5       2       no\n",
              "d    dog  NaN       3      yes\n",
              "e    dog  5.0       2       no\n",
              "f    cat  2.0       3       no\n",
              "g  snake  4.5       1       no\n",
              "h    cat  NaN       1      yes\n",
              "i    dog  7.0       2       no\n",
              "j    dog  3.0       1       no"
            ]
          },
          "metadata": {
            "tags": []
          },
          "execution_count": 144
        }
      ]
    },
    {
      "cell_type": "markdown",
      "metadata": {
        "id": "d05YOYmKOhh9"
      },
      "source": [
        "11. Display a summary of the basic information about this\r\n",
        "DataFrame and its data (hint: there is a single method that can\r\n",
        "be called on the DataFrame)."
      ]
    },
    {
      "cell_type": "code",
      "metadata": {
        "colab": {
          "base_uri": "https://localhost:8080/"
        },
        "id": "BglAzNDLODXG",
        "outputId": "7057b3d7-4110-40e4-9ba8-0bccb0a99c1e"
      },
      "source": [
        "df_vet.info()"
      ],
      "execution_count": 113,
      "outputs": [
        {
          "output_type": "stream",
          "text": [
            "<class 'pandas.core.frame.DataFrame'>\n",
            "Index: 10 entries, a to j\n",
            "Data columns (total 4 columns):\n",
            " #   Column    Non-Null Count  Dtype  \n",
            "---  ------    --------------  -----  \n",
            " 0   animal    10 non-null     object \n",
            " 1   age       8 non-null      float64\n",
            " 2   visits    10 non-null     int64  \n",
            " 3   priority  10 non-null     object \n",
            "dtypes: float64(1), int64(1), object(2)\n",
            "memory usage: 400.0+ bytes\n"
          ],
          "name": "stdout"
        }
      ]
    },
    {
      "cell_type": "markdown",
      "metadata": {
        "id": "MIFHSIKTOkjB"
      },
      "source": [
        "12. Select the rows where the age is between 2 and 4 (inclusive)."
      ]
    },
    {
      "cell_type": "code",
      "metadata": {
        "colab": {
          "base_uri": "https://localhost:8080/",
          "height": 166
        },
        "id": "4cKXbUY1OlKb",
        "outputId": "3f84a970-fe67-4f9f-dc93-159d71a9f04f"
      },
      "source": [
        "df_vet[df_vet['age'].between(2,4)]"
      ],
      "execution_count": 122,
      "outputs": [
        {
          "output_type": "execute_result",
          "data": {
            "text/html": [
              "<div>\n",
              "<style scoped>\n",
              "    .dataframe tbody tr th:only-of-type {\n",
              "        vertical-align: middle;\n",
              "    }\n",
              "\n",
              "    .dataframe tbody tr th {\n",
              "        vertical-align: top;\n",
              "    }\n",
              "\n",
              "    .dataframe thead th {\n",
              "        text-align: right;\n",
              "    }\n",
              "</style>\n",
              "<table border=\"1\" class=\"dataframe\">\n",
              "  <thead>\n",
              "    <tr style=\"text-align: right;\">\n",
              "      <th></th>\n",
              "      <th>animal</th>\n",
              "      <th>age</th>\n",
              "      <th>visits</th>\n",
              "      <th>priority</th>\n",
              "    </tr>\n",
              "  </thead>\n",
              "  <tbody>\n",
              "    <tr>\n",
              "      <th>a</th>\n",
              "      <td>cat</td>\n",
              "      <td>2.5</td>\n",
              "      <td>1</td>\n",
              "      <td>yes</td>\n",
              "    </tr>\n",
              "    <tr>\n",
              "      <th>b</th>\n",
              "      <td>cat</td>\n",
              "      <td>3.0</td>\n",
              "      <td>3</td>\n",
              "      <td>yes</td>\n",
              "    </tr>\n",
              "    <tr>\n",
              "      <th>f</th>\n",
              "      <td>cat</td>\n",
              "      <td>2.0</td>\n",
              "      <td>3</td>\n",
              "      <td>no</td>\n",
              "    </tr>\n",
              "    <tr>\n",
              "      <th>j</th>\n",
              "      <td>dog</td>\n",
              "      <td>3.0</td>\n",
              "      <td>1</td>\n",
              "      <td>no</td>\n",
              "    </tr>\n",
              "  </tbody>\n",
              "</table>\n",
              "</div>"
            ],
            "text/plain": [
              "  animal  age  visits priority\n",
              "a    cat  2.5       1      yes\n",
              "b    cat  3.0       3      yes\n",
              "f    cat  2.0       3       no\n",
              "j    dog  3.0       1       no"
            ]
          },
          "metadata": {
            "tags": []
          },
          "execution_count": 122
        }
      ]
    },
    {
      "cell_type": "markdown",
      "metadata": {
        "id": "c0fAgRtAPCv2"
      },
      "source": [
        "13. Select the data in rows [3, 4, 8] and in columns ['animal', 'age']."
      ]
    },
    {
      "cell_type": "code",
      "metadata": {
        "colab": {
          "base_uri": "https://localhost:8080/",
          "height": 136
        },
        "id": "qCxuNYwGPDrV",
        "outputId": "c1bc06fb-2b3c-431c-9667-2cb8fcfe7b3e"
      },
      "source": [
        "df_vet.loc[df_vet.index[[3,4,8]],['animal','age']]"
      ],
      "execution_count": 123,
      "outputs": [
        {
          "output_type": "execute_result",
          "data": {
            "text/html": [
              "<div>\n",
              "<style scoped>\n",
              "    .dataframe tbody tr th:only-of-type {\n",
              "        vertical-align: middle;\n",
              "    }\n",
              "\n",
              "    .dataframe tbody tr th {\n",
              "        vertical-align: top;\n",
              "    }\n",
              "\n",
              "    .dataframe thead th {\n",
              "        text-align: right;\n",
              "    }\n",
              "</style>\n",
              "<table border=\"1\" class=\"dataframe\">\n",
              "  <thead>\n",
              "    <tr style=\"text-align: right;\">\n",
              "      <th></th>\n",
              "      <th>animal</th>\n",
              "      <th>age</th>\n",
              "    </tr>\n",
              "  </thead>\n",
              "  <tbody>\n",
              "    <tr>\n",
              "      <th>d</th>\n",
              "      <td>dog</td>\n",
              "      <td>NaN</td>\n",
              "    </tr>\n",
              "    <tr>\n",
              "      <th>e</th>\n",
              "      <td>dog</td>\n",
              "      <td>5.0</td>\n",
              "    </tr>\n",
              "    <tr>\n",
              "      <th>i</th>\n",
              "      <td>dog</td>\n",
              "      <td>7.0</td>\n",
              "    </tr>\n",
              "  </tbody>\n",
              "</table>\n",
              "</div>"
            ],
            "text/plain": [
              "  animal  age\n",
              "d    dog  NaN\n",
              "e    dog  5.0\n",
              "i    dog  7.0"
            ]
          },
          "metadata": {
            "tags": []
          },
          "execution_count": 123
        }
      ]
    },
    {
      "cell_type": "markdown",
      "metadata": {
        "id": "Ojvbv4fXP5Mx"
      },
      "source": [
        "14. Select the rows where the age is missing, i.e. it is NaN."
      ]
    },
    {
      "cell_type": "code",
      "metadata": {
        "colab": {
          "base_uri": "https://localhost:8080/",
          "height": 106
        },
        "id": "xluHvl7uP6D4",
        "outputId": "7150a7b0-30b9-4d68-b078-d4356f18ec1a"
      },
      "source": [
        "df_vet[df_vet['age'].isnull()]"
      ],
      "execution_count": 126,
      "outputs": [
        {
          "output_type": "execute_result",
          "data": {
            "text/html": [
              "<div>\n",
              "<style scoped>\n",
              "    .dataframe tbody tr th:only-of-type {\n",
              "        vertical-align: middle;\n",
              "    }\n",
              "\n",
              "    .dataframe tbody tr th {\n",
              "        vertical-align: top;\n",
              "    }\n",
              "\n",
              "    .dataframe thead th {\n",
              "        text-align: right;\n",
              "    }\n",
              "</style>\n",
              "<table border=\"1\" class=\"dataframe\">\n",
              "  <thead>\n",
              "    <tr style=\"text-align: right;\">\n",
              "      <th></th>\n",
              "      <th>animal</th>\n",
              "      <th>age</th>\n",
              "      <th>visits</th>\n",
              "      <th>priority</th>\n",
              "    </tr>\n",
              "  </thead>\n",
              "  <tbody>\n",
              "    <tr>\n",
              "      <th>d</th>\n",
              "      <td>dog</td>\n",
              "      <td>NaN</td>\n",
              "      <td>3</td>\n",
              "      <td>yes</td>\n",
              "    </tr>\n",
              "    <tr>\n",
              "      <th>h</th>\n",
              "      <td>cat</td>\n",
              "      <td>NaN</td>\n",
              "      <td>1</td>\n",
              "      <td>yes</td>\n",
              "    </tr>\n",
              "  </tbody>\n",
              "</table>\n",
              "</div>"
            ],
            "text/plain": [
              "  animal  age  visits priority\n",
              "d    dog  NaN       3      yes\n",
              "h    cat  NaN       1      yes"
            ]
          },
          "metadata": {
            "tags": []
          },
          "execution_count": 126
        }
      ]
    },
    {
      "cell_type": "markdown",
      "metadata": {
        "id": "nco-TJpRQe6r"
      },
      "source": [
        "15. Select the rows where the animal is a cat and the age is less than 3."
      ]
    },
    {
      "cell_type": "code",
      "metadata": {
        "colab": {
          "base_uri": "https://localhost:8080/",
          "height": 106
        },
        "id": "ABFAFGqJQgkj",
        "outputId": "3b399e28-4988-4abf-8736-32b79c3dc4b1"
      },
      "source": [
        "df_vet[(df_vet['animal']=='cat') & (df_vet['age']<3)]"
      ],
      "execution_count": 129,
      "outputs": [
        {
          "output_type": "execute_result",
          "data": {
            "text/html": [
              "<div>\n",
              "<style scoped>\n",
              "    .dataframe tbody tr th:only-of-type {\n",
              "        vertical-align: middle;\n",
              "    }\n",
              "\n",
              "    .dataframe tbody tr th {\n",
              "        vertical-align: top;\n",
              "    }\n",
              "\n",
              "    .dataframe thead th {\n",
              "        text-align: right;\n",
              "    }\n",
              "</style>\n",
              "<table border=\"1\" class=\"dataframe\">\n",
              "  <thead>\n",
              "    <tr style=\"text-align: right;\">\n",
              "      <th></th>\n",
              "      <th>animal</th>\n",
              "      <th>age</th>\n",
              "      <th>visits</th>\n",
              "      <th>priority</th>\n",
              "    </tr>\n",
              "  </thead>\n",
              "  <tbody>\n",
              "    <tr>\n",
              "      <th>a</th>\n",
              "      <td>cat</td>\n",
              "      <td>2.5</td>\n",
              "      <td>1</td>\n",
              "      <td>yes</td>\n",
              "    </tr>\n",
              "    <tr>\n",
              "      <th>f</th>\n",
              "      <td>cat</td>\n",
              "      <td>2.0</td>\n",
              "      <td>3</td>\n",
              "      <td>no</td>\n",
              "    </tr>\n",
              "  </tbody>\n",
              "</table>\n",
              "</div>"
            ],
            "text/plain": [
              "  animal  age  visits priority\n",
              "a    cat  2.5       1      yes\n",
              "f    cat  2.0       3       no"
            ]
          },
          "metadata": {
            "tags": []
          },
          "execution_count": 129
        }
      ]
    },
    {
      "cell_type": "markdown",
      "metadata": {
        "id": "JnXSQ5N8RQF9"
      },
      "source": [
        "16. Change the age in row 'f' to 1.5."
      ]
    },
    {
      "cell_type": "code",
      "metadata": {
        "colab": {
          "base_uri": "https://localhost:8080/"
        },
        "id": "g_cDBI9sRRWx",
        "outputId": "99607e7d-198e-4cde-82b8-3b7b9f2e8968"
      },
      "source": [
        "df_vet.loc['f','age'] = 1.5\r\n",
        "df_vet['age']"
      ],
      "execution_count": 132,
      "outputs": [
        {
          "output_type": "execute_result",
          "data": {
            "text/plain": [
              "a    2.5\n",
              "b    3.0\n",
              "c    0.5\n",
              "d    NaN\n",
              "e    5.0\n",
              "f    1.5\n",
              "g    4.5\n",
              "h    NaN\n",
              "i    7.0\n",
              "j    3.0\n",
              "Name: age, dtype: float64"
            ]
          },
          "metadata": {
            "tags": []
          },
          "execution_count": 132
        }
      ]
    },
    {
      "cell_type": "markdown",
      "metadata": {
        "id": "iR-sn3XARp77"
      },
      "source": [
        "17. In the 'animal' column, change the 'snake' entries to 'python'."
      ]
    },
    {
      "cell_type": "code",
      "metadata": {
        "colab": {
          "base_uri": "https://localhost:8080/"
        },
        "id": "vmG4B-T7RqpL",
        "outputId": "9fe7ba30-39da-43fa-e51b-68f8e3ab8492"
      },
      "source": [
        "df_vet['animal'] = df_vet['animal'].replace(\"snake\",\"Python\")\r\n",
        "df_vet['animal']"
      ],
      "execution_count": 147,
      "outputs": [
        {
          "output_type": "execute_result",
          "data": {
            "text/plain": [
              "a       cat\n",
              "b       cat\n",
              "c    Python\n",
              "d       dog\n",
              "e       dog\n",
              "f       cat\n",
              "g    Python\n",
              "h       cat\n",
              "i       dog\n",
              "j       dog\n",
              "Name: animal, dtype: object"
            ]
          },
          "metadata": {
            "tags": []
          },
          "execution_count": 147
        }
      ]
    },
    {
      "cell_type": "markdown",
      "metadata": {
        "id": "9plw8kkISTFl"
      },
      "source": [
        "18. Count the number of each type of animal in df."
      ]
    },
    {
      "cell_type": "code",
      "metadata": {
        "colab": {
          "base_uri": "https://localhost:8080/"
        },
        "id": "CDNTiJSGSTyQ",
        "outputId": "46cf2172-9fce-463a-d664-34265d25d3c5"
      },
      "source": [
        "df_vet['animal'].value_counts()"
      ],
      "execution_count": 140,
      "outputs": [
        {
          "output_type": "execute_result",
          "data": {
            "text/plain": [
              "cat       4\n",
              "dog       4\n",
              "Python    2\n",
              "Name: animal, dtype: int64"
            ]
          },
          "metadata": {
            "tags": []
          },
          "execution_count": 140
        }
      ]
    },
    {
      "cell_type": "markdown",
      "metadata": {
        "id": "IpNPn3V1SldP"
      },
      "source": [
        "19. The 'priority' column contains the values 'yes' and 'no'. Replace\r\n",
        "this column with a column of boolean values: 'yes' should\r\n",
        "be True and 'no' should be False."
      ]
    },
    {
      "cell_type": "code",
      "metadata": {
        "colab": {
          "base_uri": "https://localhost:8080/"
        },
        "id": "pXw_cm20Sl9U",
        "outputId": "1993b885-be3c-4204-b333-1c5cadc58971"
      },
      "source": [
        "r = {'yes':True,'no':False}\r\n",
        "df_vet['priority']=df_vet['priority'].map(r)\r\n",
        "df_vet['priority']"
      ],
      "execution_count": 145,
      "outputs": [
        {
          "output_type": "execute_result",
          "data": {
            "text/plain": [
              "a     True\n",
              "b     True\n",
              "c    False\n",
              "d     True\n",
              "e    False\n",
              "f    False\n",
              "g    False\n",
              "h     True\n",
              "i    False\n",
              "j    False\n",
              "Name: priority, dtype: bool"
            ]
          },
          "metadata": {
            "tags": []
          },
          "execution_count": 145
        }
      ]
    },
    {
      "cell_type": "markdown",
      "metadata": {
        "id": "MWdjQHH_TjhU"
      },
      "source": [
        "20. For each animal type and each number of visits, find the mean\r\n",
        "age. In other words, each row is an animal, each column is a\r\n",
        "number of visits and the values are the mean ages (hint: use a\r\n",
        "pivot table)."
      ]
    },
    {
      "cell_type": "code",
      "metadata": {
        "colab": {
          "base_uri": "https://localhost:8080/",
          "height": 166
        },
        "id": "vP-K9q_XTkXs",
        "outputId": "cd1b47f9-09c3-404f-d837-00ecff9157aa"
      },
      "source": [
        "df_vet.pivot_table(values = 'age', index='animal',columns='visits',aggfunc = \"mean\")"
      ],
      "execution_count": 149,
      "outputs": [
        {
          "output_type": "execute_result",
          "data": {
            "text/html": [
              "<div>\n",
              "<style scoped>\n",
              "    .dataframe tbody tr th:only-of-type {\n",
              "        vertical-align: middle;\n",
              "    }\n",
              "\n",
              "    .dataframe tbody tr th {\n",
              "        vertical-align: top;\n",
              "    }\n",
              "\n",
              "    .dataframe thead th {\n",
              "        text-align: right;\n",
              "    }\n",
              "</style>\n",
              "<table border=\"1\" class=\"dataframe\">\n",
              "  <thead>\n",
              "    <tr style=\"text-align: right;\">\n",
              "      <th>visits</th>\n",
              "      <th>1</th>\n",
              "      <th>2</th>\n",
              "      <th>3</th>\n",
              "    </tr>\n",
              "    <tr>\n",
              "      <th>animal</th>\n",
              "      <th></th>\n",
              "      <th></th>\n",
              "      <th></th>\n",
              "    </tr>\n",
              "  </thead>\n",
              "  <tbody>\n",
              "    <tr>\n",
              "      <th>Python</th>\n",
              "      <td>4.5</td>\n",
              "      <td>0.5</td>\n",
              "      <td>NaN</td>\n",
              "    </tr>\n",
              "    <tr>\n",
              "      <th>cat</th>\n",
              "      <td>2.5</td>\n",
              "      <td>NaN</td>\n",
              "      <td>2.5</td>\n",
              "    </tr>\n",
              "    <tr>\n",
              "      <th>dog</th>\n",
              "      <td>3.0</td>\n",
              "      <td>6.0</td>\n",
              "      <td>NaN</td>\n",
              "    </tr>\n",
              "  </tbody>\n",
              "</table>\n",
              "</div>"
            ],
            "text/plain": [
              "visits    1    2    3\n",
              "animal               \n",
              "Python  4.5  0.5  NaN\n",
              "cat     2.5  NaN  2.5\n",
              "dog     3.0  6.0  NaN"
            ]
          },
          "metadata": {
            "tags": []
          },
          "execution_count": 149
        }
      ]
    }
  ]
}