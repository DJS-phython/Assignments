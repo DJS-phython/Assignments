{
  "nbformat": 4,
  "nbformat_minor": 0,
  "metadata": {
    "colab": {
      "name": "Python Assignment - Conditional Statements - Deepak.ipynb",
      "provenance": [],
      "collapsed_sections": []
    },
    "kernelspec": {
      "name": "python3",
      "display_name": "Python 3"
    }
  },
  "cells": [
    {
      "cell_type": "markdown",
      "metadata": {
        "id": "KZqV3YoNzBAK"
      },
      "source": [
        "1. Take two integer values from the user and print greatest\r\n",
        "among them."
      ]
    },
    {
      "cell_type": "code",
      "metadata": {
        "colab": {
          "base_uri": "https://localhost:8080/"
        },
        "id": "1qCwGkONy2op",
        "outputId": "b43c2a9f-5643-4b15-fddc-084491408b5b"
      },
      "source": [
        "int1 = int(input(\"Enter first value to compare : \"))\r\n",
        "int2 = int(input(\"Enter second value to compare: \"))\r\n",
        "\r\n",
        "if int1>int2:\r\n",
        "    print(f\"{int1} is greater than {int2}\")\r\n",
        "else:\r\n",
        "  print(f\"{int2} is greater than {int1}\")"
      ],
      "execution_count": null,
      "outputs": [
        {
          "output_type": "stream",
          "text": [
            "Enter first value to compare : 12\n",
            "Enter second value to compare: 35\n",
            "35 is greater than 12\n"
          ],
          "name": "stdout"
        }
      ]
    },
    {
      "cell_type": "markdown",
      "metadata": {
        "id": "DFuLWbgY6Zmi"
      },
      "source": [
        "2. Write a program that reads an integer from the user. Then\r\n",
        "your program should display a message indicating\r\n",
        "whether the integer is even or odd."
      ]
    },
    {
      "cell_type": "code",
      "metadata": {
        "colab": {
          "base_uri": "https://localhost:8080/"
        },
        "id": "S4LTbOJr6a8X",
        "outputId": "620391c3-74ce-4b3c-bf0f-1ebd63bea856"
      },
      "source": [
        "int3 = input(\"Enter number : \")\r\n",
        "\r\n",
        "if int3.isdigit() == True:\r\n",
        "  int3 = int(int3)\r\n",
        "  if int3 > 0:\r\n",
        "    if int3 % 2 == 0:\r\n",
        "      print(\"Its an EVEN number\")\r\n",
        "    elif int3 % 2 ==1:\r\n",
        "      print(\"Its an ODD number\")\r\n",
        "  else:\r\n",
        "      print('enter number greater than 0')\r\n",
        "else:\r\n",
        "  print('its not a number')\r\n"
      ],
      "execution_count": null,
      "outputs": [
        {
          "output_type": "stream",
          "text": [
            "Enter number : 6\n",
            "Its an EVEN number\n"
          ],
          "name": "stdout"
        }
      ]
    },
    {
      "cell_type": "markdown",
      "metadata": {
        "id": "woYja16_9k-I"
      },
      "source": [
        "3. Create a program that reads a letter of the alphabet from\r\n",
        "the user. If the user enters a, e, i, o or u then your program\r\n",
        "should display a message indicating that the entered letter is\r\n",
        "a vowel. If the user enters y then your program should\r\n",
        "display a message indicating that sometimes y is a vowel,\r\n",
        "and sometimes y is a consonant. Otherwise your program\r\n",
        "should display a message indicating that the letter is a\r\n",
        "consonant."
      ]
    },
    {
      "cell_type": "code",
      "metadata": {
        "colab": {
          "base_uri": "https://localhost:8080/"
        },
        "id": "xbgYTJVd9lea",
        "outputId": "80746695-65e8-478a-cdc1-b19c1788de63"
      },
      "source": [
        "str1 = input('enter character: ')\r\n",
        "str1 = str1.lower()\r\n",
        "\r\n",
        "for i in str1:\r\n",
        "    if i in ['a','e','i','o','u']:\r\n",
        "      print('its an vowel')\r\n",
        "    elif i == 'y':\r\n",
        "      print('sometimes y is a vowel, and sometimes y is a consonant')\r\n",
        "    else:\r\n",
        "      print(f'{str1} is a consonant')"
      ],
      "execution_count": null,
      "outputs": [
        {
          "output_type": "stream",
          "text": [
            "enter character: i\n",
            "its an vowel\n"
          ],
          "name": "stdout"
        }
      ]
    },
    {
      "cell_type": "markdown",
      "metadata": {
        "id": "WS5IyB54HSlR"
      },
      "source": [
        "4. A triangle can be classified based on the lengths of its\r\n",
        "sides as equilateral, isosceles or scalene. All three sides of an\r\n",
        "equilateral triangle have the same length. An isosceles\r\n",
        "triangle has two sides that are the same length, and a third\r\n",
        "side that is a different length. If all of the sides have different\r\n",
        "lengths then the triangle is scalene. Write a program that\r\n",
        "reads the lengths of the three sides of a triangle from the user.\r\n",
        "Then display a message that states the triangle’s type."
      ]
    },
    {
      "cell_type": "code",
      "metadata": {
        "colab": {
          "base_uri": "https://localhost:8080/"
        },
        "id": "DLrEJlzXHTDD",
        "outputId": "7d7a9a96-3101-4e68-9330-4a1f4c506079"
      },
      "source": [
        "side1 = float(input(\"Enter side one of the triangle : \"))\r\n",
        "side2 = float(input(\"Enter side two of the triangle : \"))\r\n",
        "side3 = float(input(\"Enter side three of the triangle : \"))\r\n",
        "\r\n",
        "if side1 == side2 == side3: \r\n",
        "  print(\"its a Equilateral triangle\")\r\n",
        "elif side1==side2 or side2==side3 or side1==side3:\r\n",
        "  print(\"its an Isosceles Triangle \")\r\n",
        "else:\r\n",
        "  side1 != side2 != side3 \r\n",
        "  print(\"its a scalene triangle\")"
      ],
      "execution_count": null,
      "outputs": [
        {
          "output_type": "stream",
          "text": [
            "Enter side one of the triangle : 12\n",
            "Enter side two of the triangle : 12\n",
            "Enter side three of the triangle : 12\n",
            "its a Equilateral triangle\n"
          ],
          "name": "stdout"
        }
      ]
    },
    {
      "cell_type": "markdown",
      "metadata": {
        "id": "-9QtbyNGt5wB"
      },
      "source": [
        "5. Write a program that determines the name of a shape\r\n",
        "from its number of sides. Read the number of sides from the\r\n",
        "user and then report the appropriate name as part of a\r\n",
        "meaningful message. Your program should support shapes\r\n",
        "with anywhere from 3 up to (and including) 10 sides. If a\r\n",
        "number of sides outside of this range is entered then your\r\n",
        "program should display an appropriate error message."
      ]
    },
    {
      "cell_type": "code",
      "metadata": {
        "colab": {
          "base_uri": "https://localhost:8080/"
        },
        "id": "rbUemvJguBTR",
        "outputId": "0ff4377a-536b-4b62-d7e0-3a296b3487b1"
      },
      "source": [
        "side4 = input('Enter side of the geometry between 3 and 10: ')\r\n",
        "\r\n",
        "if side4 == \"3\":\r\n",
        "  print('its a triangle')\r\n",
        "elif side4 == \"4\":\r\n",
        "  print(\"Its an Rhombus or Quadrilateral\")\r\n",
        "elif side4 == \"5\":\r\n",
        "  print('Its an Polygon')\r\n",
        "elif side4 == \"6\":\r\n",
        "  print('its an Hexagon')\r\n",
        "elif side4 == \"7\":\r\n",
        "  print(\"Its an Heptagon\")\r\n",
        "elif side4 == \"8\":\r\n",
        "  print(\"Its an Octagon\")\r\n",
        "elif side4 == \"9\":\r\n",
        "  print(\"Its an Nonagon\")\r\n",
        "elif side4 == \"10\":\r\n",
        "  print(\"Its an Decagon\")\r\n",
        "else:\r\n",
        "  print('Print side greater than 3 and less than 10')"
      ],
      "execution_count": null,
      "outputs": [
        {
          "output_type": "stream",
          "text": [
            "Enter side of the geometry between 3 and 10: 3\n",
            "its a triangle\n"
          ],
          "name": "stdout"
        }
      ]
    },
    {
      "cell_type": "markdown",
      "metadata": {
        "id": "OKHzyg9A6dNs"
      },
      "source": [
        "6. A shop will give a discount of 10% if the cost of the\r\n",
        "purchased quantity is more than 1000. Ask the user for\r\n",
        "quantity, suppose, one unit will cost 100. Judge and print\r\n",
        "total cost for user."
      ]
    },
    {
      "cell_type": "code",
      "metadata": {
        "colab": {
          "base_uri": "https://localhost:8080/"
        },
        "id": "KHoUURe-6dvQ",
        "outputId": "b943cf30-4b68-4b87-980e-a78d5cc13cf4"
      },
      "source": [
        "quantity = int(input(\"Number of quantity Purchased : \"))\r\n",
        "pur_val = quantity*100\r\n",
        "if pur_val > 1000:\r\n",
        "  discount=pur_val-(pur_val*0.1)\r\n",
        "  print(f\"Any product of INR 100.00. You purchased {quantity} quantity. \")\r\n",
        "  print(f\"Total Purchase value {pur_val}.00\")\r\n",
        "  print(f\"Discount of 10% i.e. INR {pur_val*0.1} applied, You pay only INR {discount}\")\r\n",
        "else:\r\n",
        "  print(f\"Your Total Purchase {pur_val}, No Discount applicable\") "
      ],
      "execution_count": null,
      "outputs": [
        {
          "output_type": "stream",
          "text": [
            "Number of quantity Purchased : 20\n",
            "Any product of INR 100.00. You purchased 20 quantity. \n",
            "Total Purchase value 2000.00\n",
            "Discount of 10% i.e. INR 200.0 applied, You pay only INR 1800.0\n"
          ],
          "name": "stdout"
        }
      ]
    },
    {
      "cell_type": "markdown",
      "metadata": {
        "id": "1MLhPeGiBJlY"
      },
      "source": [
        "7. Take input of age of 3 people by user and determine\r\n",
        "oldest and youngest among them."
      ]
    },
    {
      "cell_type": "code",
      "metadata": {
        "colab": {
          "base_uri": "https://localhost:8080/"
        },
        "id": "A6rn6Hp7BKK_",
        "outputId": "75523c6b-ad32-432a-c69c-7037e850364a"
      },
      "source": [
        "name1 = input(\"First Persons Name: \")\r\n",
        "age1 = int(input(\"First Persons Age: \"))\r\n",
        "name2 = input(\"Second Persons Name: \")\r\n",
        "age2 = int(input(\"Second Persons Age: \"))\r\n",
        "name3 = input(\"Third Persons Age: \")\r\n",
        "age3 = int(input(\"Third Persons Age: \"))\r\n",
        "\r\n",
        "print(\"---------------\")\r\n",
        "if age1>age2 and age1>age3:\r\n",
        "  print(f\"{name1} is eldest person\")\r\n",
        "elif age2>age1 and age2>age3:\r\n",
        "  print(f\"{name2} is eldest person\")\r\n",
        "elif age3>age1 and age3>age1:\r\n",
        "  print(f\"{name3} is eldest person\")\r\n",
        "print(\"---------------\")\r\n",
        "\r\n",
        "if age1<age2 and age1<age3:\r\n",
        "  print(f\"{name1} is youngest person\")\r\n",
        "elif age2<age1 and age2<age3:\r\n",
        "  print(f\"{name2} is youngest person\")\r\n",
        "elif age3<age1 and age3<age1:\r\n",
        "  print(f\"{name3} is youngest person\")\r\n"
      ],
      "execution_count": null,
      "outputs": [
        {
          "output_type": "stream",
          "text": [
            "First Persons Name: Deepak\n",
            "First Persons Age: 35\n",
            "Second Persons Name: Jagdish\n",
            "Second Persons Age: 45\n",
            "Third Persons Age: Singh\n",
            "Third Persons Age: 25\n",
            "---------------\n",
            "Jagdish is eldest person\n",
            "---------------\n",
            "Singh is youngest person\n"
          ],
          "name": "stdout"
        }
      ]
    },
    {
      "cell_type": "markdown",
      "metadata": {
        "id": "G3K4CNMDOKg4"
      },
      "source": [
        "8. A company decided to give a bonus of 5% to an employee\r\n",
        "if his/her year of service is more than 5 years. Ask user for\r\n",
        "their salary and year of service and print the net bonus\r\n",
        "amount."
      ]
    },
    {
      "cell_type": "code",
      "metadata": {
        "id": "U6buP7P1OLA8",
        "colab": {
          "base_uri": "https://localhost:8080/"
        },
        "outputId": "892731c5-811d-4c80-e4c2-6ca4acda24cc"
      },
      "source": [
        "sal = int(input(\"Input your Salary : \"))\r\n",
        "serv = int(input(\"Years of Service provided : \"))\r\n",
        "\r\n",
        "if serv>=5:\r\n",
        "  bonus = sal*0.05\r\n",
        "  print(\"Revised Net bonus\",sal + bonus)\r\n",
        "else:\r\n",
        "  print(\"No bonus applied, Salary remains same as\",sal)"
      ],
      "execution_count": null,
      "outputs": [
        {
          "output_type": "stream",
          "text": [
            "Input your Salary : 5000\n",
            "Years of Service provided : 3\n",
            "No bonus applied, Salary remains same as  5000\n"
          ],
          "name": "stdout"
        }
      ]
    },
    {
      "cell_type": "markdown",
      "metadata": {
        "id": "-GA90DldotVn"
      },
      "source": [
        "9. Write a program to check if a year is leap year or not.\r\n",
        "If a year is divisible by 4 then it is leap year but if the year is\r\n",
        "a century year like 2000, 1900, 2100 then it must be divisible\r\n",
        "by 400."
      ]
    },
    {
      "cell_type": "code",
      "metadata": {
        "colab": {
          "base_uri": "https://localhost:8080/"
        },
        "id": "jjyE2704otu5",
        "outputId": "3f0d539f-1cee-4732-abc2-744f7ba6f4fd"
      },
      "source": [
        "year1 = int(input(\"Enter Year to check if leap year : \"))\r\n",
        "\r\n",
        "if (year1 % 4) == 0:\r\n",
        "  if(year1 % 100) == 0:\r\n",
        "    if(year1 % 400) == 0:\r\n",
        "      print(f\"{year1} is a leap year\")\r\n",
        "    else:\r\n",
        "      print(f\"{year1} is not a leap year\")\r\n",
        "  else:\r\n",
        "    print(f\"{year1} is a leap year\")\r\n",
        "else:\r\n",
        "  print(f\"{year1} is not a leap year\")"
      ],
      "execution_count": null,
      "outputs": [
        {
          "output_type": "stream",
          "text": [
            "Enter Year to check if leap year : 2004\n",
            "2004 is a leap year\n"
          ],
          "name": "stdout"
        }
      ]
    },
    {
      "cell_type": "markdown",
      "metadata": {
        "id": "TiwA2nO7Cd-m"
      },
      "source": [
        "10. Accept d1 and d2 as input. First, check to see that they\r\n",
        "are in the proper range for dice. If not, print a message.\r\n",
        "Otherwise, determine the outcome if this is the come out roll.\r\n",
        "If the sum is 7 or 11, print the winner. If the sum is 2, 3 or\r\n",
        "12, print loser. Otherwise print the point."
      ]
    },
    {
      "cell_type": "code",
      "metadata": {
        "colab": {
          "base_uri": "https://localhost:8080/"
        },
        "id": "9NTRXcq8zTv4",
        "outputId": "2b0422d0-02e0-47a8-d249-650fde1b30af"
      },
      "source": [
        "d1 = int(input(\"enter 1st dice number : \"))\r\n",
        "d2 = int(input(\"enter 2nd dice number : \"))\r\n",
        "dice = [1,2,3,4,5,6]\r\n",
        "tot = d1 + d2\r\n",
        "\r\n",
        "\r\n",
        "if d1 in range(1,7):\r\n",
        "  if d2 in range(1,7):\r\n",
        "    if tot in [7,11]:\r\n",
        "      print(\"Congratulations, you are a WINNER\")\r\n",
        "    elif tot in [2,3,12]:\r\n",
        "      print(\"You Lose, Better luck next time\")\r\n",
        "    else:\r\n",
        "      print(\"You got a Point\")\r\n",
        "  else:\r\n",
        "    print(\"2nd Number is out of Dice range\")\r\n",
        "else:\r\n",
        "  print(\"1st Number is out of Dice Range\")"
      ],
      "execution_count": null,
      "outputs": [
        {
          "output_type": "stream",
          "text": [
            "enter 1st dice number : 3\n",
            "enter 2nd dice number : 4\n",
            "Congratulations, you are a WINNER\n"
          ],
          "name": "stdout"
        }
      ]
    },
    {
      "cell_type": "markdown",
      "metadata": {
        "id": "Mzg0W_Lp4Mm2"
      },
      "source": [
        "11. Write a python program to display the number of days in\r\n",
        "a month name from the given list of months or month\r\n",
        "number entered by user."
      ]
    },
    {
      "cell_type": "code",
      "metadata": {
        "colab": {
          "base_uri": "https://localhost:8080/"
        },
        "id": "cs5yW7UJV93g",
        "outputId": "823a409f-3798-4a43-ccde-e060e4a248de"
      },
      "source": [
        "print(\"List of months: January, February, March, April, May, June, July, August, September, October, November, December\")\r\n",
        "mn1 = input(\"Month name or Number of Month: \")\r\n",
        "\r\n",
        "\r\n",
        "if mn1 == \"February\":\r\n",
        "  print(\"Number of days is 28\")\r\n",
        "elif mn1 in (\"April\",\"June\",\"September\",\"November\"):\r\n",
        "  print(\"NUmber of days is 30. \")\r\n",
        "else:\r\n",
        "  print(\"Number of days is 31\")\r\n"
      ],
      "execution_count": null,
      "outputs": [
        {
          "output_type": "stream",
          "text": [
            "List of months: January, February, March, April, May, June, July, August, September, October, November, December\n",
            "Month name or Number of Month: June\n",
            "NUmber of days is 30. \n"
          ],
          "name": "stdout"
        }
      ]
    },
    {
      "cell_type": "markdown",
      "metadata": {
        "id": "Wtit5nGJf1kH"
      },
      "source": [
        "12. Write a Python program to get next day of a given date."
      ]
    },
    {
      "cell_type": "code",
      "metadata": {
        "colab": {
          "base_uri": "https://localhost:8080/"
        },
        "id": "6N2n9Id0f17q",
        "outputId": "9c6004e7-2f3a-4ab5-f2a1-a5827c89509c"
      },
      "source": [
        "y1 = int(input(\"Enter year: \"))\r\n",
        "m1 = int(input(\"Enter Month: \"))\r\n",
        "d1 = int(input(\"Enter Day: \"))\r\n",
        "\r\n",
        "import datetime\r\n",
        "inp_date = datetime.date(y1,m1,d1)\r\n",
        "nxt_date = datetime.date(y1,m1,d1)+ datetime.timedelta(days=1)\r\n",
        "\r\n",
        "\r\n",
        "print(inp_date)\r\n",
        "print(\"Next day to your given date\")\r\n",
        "print(nxt_date)"
      ],
      "execution_count": null,
      "outputs": [
        {
          "output_type": "stream",
          "text": [
            "Enter year: 2020\n",
            "Enter Month: 12\n",
            "Enter Day: 31\n",
            "2020-12-31\n",
            "Next day to your given date\n",
            "2021-01-01\n"
          ],
          "name": "stdout"
        }
      ]
    }
  ]
}