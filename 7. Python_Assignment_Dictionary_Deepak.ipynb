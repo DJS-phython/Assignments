{
  "nbformat": 4,
  "nbformat_minor": 0,
  "metadata": {
    "colab": {
      "name": "Python Assignment Dictionary - Deepak.ipynb",
      "provenance": [],
      "collapsed_sections": []
    },
    "kernelspec": {
      "name": "python3",
      "display_name": "Python 3"
    }
  },
  "cells": [
    {
      "cell_type": "markdown",
      "metadata": {
        "id": "1Svc-aXqgTdE"
      },
      "source": [
        "Given a dictionary:\r\n",
        " car = {\"brand\": \"Ford”, “model\":\"Mustang\",\"year\":1964}\r\n",
        "1. Print the value of the \"model\" key of the car dictionary.\r\n",
        "2. Change the \"year\" value from 1964 to 2020.\r\n",
        "3. Add the key/value pair \"colour”: \"red\" to the car dictionary\r\n"
      ]
    },
    {
      "cell_type": "code",
      "metadata": {
        "colab": {
          "base_uri": "https://localhost:8080/"
        },
        "id": "MR_VxAuDf2g-",
        "outputId": "0731ad28-72ea-4e8d-ca3b-169bef42a910"
      },
      "source": [
        "car = {\"brand\":\"Ford\",\"model\":\"Mustang\",\"year\":1964}\r\n",
        "##1.\r\n",
        "print(car[\"model\"])\r\n",
        "\r\n",
        "##2.\r\n",
        "car[\"year\"] = 2020\r\n",
        "print(car[\"year\"])\r\n",
        "print(car)\r\n",
        "\r\n",
        "##3.\r\n",
        "car[\"color\"] = \"red\"\r\n",
        "print(car)"
      ],
      "execution_count": null,
      "outputs": [
        {
          "output_type": "stream",
          "text": [
            "Mustang\n",
            "2020\n",
            "{'brand': 'Ford', 'model': 'Mustang', 'year': 2020}\n",
            "{'brand': 'Ford', 'model': 'Mustang', 'year': 2020, 'color': 'red'}\n"
          ],
          "name": "stdout"
        }
      ]
    },
    {
      "cell_type": "markdown",
      "metadata": {
        "id": "xXN95z-AC7AG"
      },
      "source": [
        "Given a dictionary inventory :\r\n",
        "inventory = {'gold' : 500, 'pouch' : ['flint', 'twine', 'gemstone'],\r\n",
        "'backpack' : ['xylophone’, ‘dagger', 'bedroll’, ‘bread’, ‘loaf']}"
      ]
    },
    {
      "cell_type": "code",
      "metadata": {
        "colab": {
          "base_uri": "https://localhost:8080/"
        },
        "id": "D0KG21YWC_Vt",
        "outputId": "d15cdaba-101b-45cb-83f7-d03efd9b7b37"
      },
      "source": [
        "inventory = {'gold' : 500, 'pouch' : ['flint', 'twine', 'gemstone'],'backpack' : ['xylophone', 'dagger', 'bedroll', 'bread', 'loaf']}\r\n",
        "\r\n",
        "## 4. Add a key to inventory called 'pocket' and Set the value of\r\n",
        "##'pocket' to be a list consisting of the strings 'seashell', 'strange\r\n",
        "##berry', and 'lint'.\r\n",
        "\r\n",
        "inventory[\"pocket\"] = [\"seashell\", \"strange\", \"berry\",\"lint\"]\r\n",
        "print(inventory)"
      ],
      "execution_count": null,
      "outputs": [
        {
          "output_type": "stream",
          "text": [
            "{'gold': 500, 'pouch': ['flint', 'twine', 'gemstone'], 'backpack': ['xylophone', 'dagger', 'bedroll', 'bread', 'loaf'], 'pocket': ['seashell', 'strange', 'berry', 'lint']}\n"
          ],
          "name": "stdout"
        }
      ]
    },
    {
      "cell_type": "code",
      "metadata": {
        "colab": {
          "base_uri": "https://localhost:8080/"
        },
        "id": "vQMraVYjC8zR",
        "outputId": "4505644c-fc24-4eb1-b9a3-ff94bef2b0a0"
      },
      "source": [
        "##5. Sort the items in the list stored under the 'backpack' key.\r\n",
        "inventory[\"backpack\"].sort()\r\n",
        "print(inventory)\r\n"
      ],
      "execution_count": null,
      "outputs": [
        {
          "output_type": "stream",
          "text": [
            "{'gold': 500, 'pouch': ['flint', 'twine', 'gemstone'], 'backpack': ['bedroll', 'bread', 'dagger', 'loaf', 'xylophone'], 'pocket': ['seashell', 'strange', 'berry', 'lint']}\n"
          ],
          "name": "stdout"
        }
      ]
    },
    {
      "cell_type": "code",
      "metadata": {
        "colab": {
          "base_uri": "https://localhost:8080/"
        },
        "id": "0euvuxxHG0KB",
        "outputId": "76f09228-07e9-4cb6-a2a6-a5bd14387070"
      },
      "source": [
        "## 6.Remove 'dagger' from the list of items stored under the 'backpack' key.\r\n",
        "inventory[\"backpack\"].remove(\"dagger\")\r\n",
        "print(inventory)"
      ],
      "execution_count": null,
      "outputs": [
        {
          "output_type": "stream",
          "text": [
            "{'gold': 500, 'pouch': ['flint', 'twine', 'gemstone'], 'backpack': ['bedroll', 'bread', 'loaf', 'xylophone'], 'pocket': ['seashell', 'strange', 'berry', 'lint']}\n"
          ],
          "name": "stdout"
        }
      ]
    },
    {
      "cell_type": "code",
      "metadata": {
        "colab": {
          "base_uri": "https://localhost:8080/"
        },
        "id": "KDDxcHRMTLKP",
        "outputId": "5f8f4e69-b29c-4553-c1b9-9b51e034e080"
      },
      "source": [
        "##7. Add 50 to the number stored under the 'gold' key.\r\n",
        "inventory[\"gold\"] +=50\r\n",
        "print(inventory)"
      ],
      "execution_count": null,
      "outputs": [
        {
          "output_type": "stream",
          "text": [
            "{'gold': 550, 'pouch': ['flint', 'twine', 'gemstone'], 'backpack': ['bedroll', 'bread', 'loaf', 'xylophone'], 'pocket': ['seashell', 'strange', 'berry', 'lint']}\n"
          ],
          "name": "stdout"
        }
      ]
    },
    {
      "cell_type": "code",
      "metadata": {
        "colab": {
          "base_uri": "https://localhost:8080/"
        },
        "id": "KyCtMQqLUMJP",
        "outputId": "50a04967-05d1-4ab6-ffda-6add3321073a"
      },
      "source": [
        "##8. Write a Python script to concatenate three dictionaries to create a new one. Make dictionaries yourself.\r\n",
        "fruits = {\"red\":\"apple\",\"yellow\":\"mango\"}\r\n",
        "flag = {\"india\":\"tricolor\",\"Australia\":\"Yellow\"}\r\n",
        "birds = {\"small\":\"pigeon\",\"big\":\"Eagle\"}\r\n",
        "all = {}\r\n",
        "\r\n",
        "for i in (fruits, flag, birds):all.update(i)\r\n",
        "print(all)"
      ],
      "execution_count": null,
      "outputs": [
        {
          "output_type": "stream",
          "text": [
            "{'red': 'apple', 'yellow': 'mango', 'india': 'tricolor', 'Australia': 'Yellow', 'small': 'pigeon', 'big': 'Eagle'}\n"
          ],
          "name": "stdout"
        }
      ]
    },
    {
      "cell_type": "code",
      "metadata": {
        "colab": {
          "base_uri": "https://localhost:8080/"
        },
        "id": "sH3gbUvqVwAU",
        "outputId": "4480b40b-6fd1-4a64-ee8a-2d4eb4bd0d34"
      },
      "source": [
        "##9. Write a Python program to sum all the items in a dictionary.\r\n",
        "\r\n",
        "number1 = {\"n1\":10,\"n2\":50,\"n3\":100}\r\n",
        "print(sum(number1.values()))"
      ],
      "execution_count": null,
      "outputs": [
        {
          "output_type": "stream",
          "text": [
            "160\n"
          ],
          "name": "stdout"
        }
      ]
    },
    {
      "cell_type": "code",
      "metadata": {
        "colab": {
          "base_uri": "https://localhost:8080/"
        },
        "id": "gK4zUOnlXOQC",
        "outputId": "583ab889-54dc-44e4-e75b-921d32026795"
      },
      "source": [
        "#10. Write a Python script to check whether a given key already exists in a dictionary.\r\n",
        "d = {'foo': 100, 'bar': 200, 'baz': 300}\r\n",
        "e = d.keys()\r\n",
        "for e in d:\r\n",
        "  print(f\"{e}, exist in dictionary\")\r\n",
        "else:\r\n",
        "  print(f\"{e} not in dictionary\")\r\n"
      ],
      "execution_count": 1,
      "outputs": [
        {
          "output_type": "stream",
          "text": [
            "foo, exist in dictionary\n",
            "bar, exist in dictionary\n",
            "baz, exist in dictionary\n",
            "baz not in dictionary\n"
          ],
          "name": "stdout"
        }
      ]
    },
    {
      "cell_type": "code",
      "metadata": {
        "id": "ocMnfshBVFDP"
      },
      "source": [
        "## 11. What method call will delete the entry whose value is 200?\r\n",
        "test = {'foo': 100, 'bar': 200, 'baz': 300}\r\n",
        "\r\n",
        "for i in test.values() :\r\n",
        "  if i == 200:\r\n",
        "   ##unable to complete.....please assist\r\n",
        "  else:\r\n",
        "    print(\"Exit\")\r\n"
      ],
      "execution_count": 44,
      "outputs": []
    },
    {
      "cell_type": "code",
      "metadata": {
        "colab": {
          "base_uri": "https://localhost:8080/"
        },
        "id": "3MKYotWoc67m",
        "outputId": "ec2ce2de-09e5-49be-abf7-7899d0c218b1"
      },
      "source": [
        "## 12. Write a Python program to check multiple keys exists in a dictionary.\r\n",
        "sports = {\"cricket\":1,\"batminton\":2,\"football\":3}\r\n",
        "print(sports.keys() >= {\"cricket\",\"batminton\"})\r\n",
        "print(sports.keys() >= {\"football\",\"rocket\"})"
      ],
      "execution_count": 34,
      "outputs": [
        {
          "output_type": "stream",
          "text": [
            "True\n",
            "False\n"
          ],
          "name": "stdout"
        }
      ]
    },
    {
      "cell_type": "code",
      "metadata": {
        "id": "KZij1tJRVCiT"
      },
      "source": [
        ""
      ],
      "execution_count": null,
      "outputs": []
    }
  ]
}