{
  "nbformat": 4,
  "nbformat_minor": 0,
  "metadata": {
    "colab": {
      "name": "Python project - Functions",
      "provenance": [],
      "collapsed_sections": []
    },
    "kernelspec": {
      "name": "python3",
      "display_name": "Python 3"
    }
  },
  "cells": [
    {
      "cell_type": "markdown",
      "metadata": {
        "id": "OVVMYWctU4f7"
      },
      "source": [
        "1. Write a Python function that accepts a string and\r\n",
        "calculates the number of uppercase letters and lowercase\r\n",
        "letters."
      ]
    },
    {
      "cell_type": "code",
      "metadata": {
        "colab": {
          "base_uri": "https://localhost:8080/"
        },
        "id": "NLH5bwijU6Ex",
        "outputId": "01b4be4b-344b-4207-e3ce-c3f9e98eb7ad"
      },
      "source": [
        "up=0\r\n",
        "low=0\r\n",
        "\r\n",
        "str1 = input(\"Enter any string : \")\r\n",
        "for i in str1:\r\n",
        "    if i.isupper() ==True:\r\n",
        "      up = up+1\r\n",
        "    else:\r\n",
        "      low = low + 1\r\n",
        "\r\n",
        "print(\"Upper Case character : \", up)\r\n",
        "print(\"lower case character : \", low)"
      ],
      "execution_count": null,
      "outputs": [
        {
          "output_type": "stream",
          "text": [
            "Enter any string : DeEpAk\n",
            "Upper Case character :  3\n",
            "lower case character :  3\n"
          ],
          "name": "stdout"
        }
      ]
    },
    {
      "cell_type": "markdown",
      "metadata": {
        "id": "ubGbPnHcY6Jj"
      },
      "source": [
        "2. Write a Python function to create and print a list where\r\n",
        "the values are squares of numbers between 1 and 30 (both\r\n",
        "included)."
      ]
    },
    {
      "cell_type": "code",
      "metadata": {
        "colab": {
          "base_uri": "https://localhost:8080/"
        },
        "id": "XonBuvIWY8Hm",
        "outputId": "1508185c-d5c3-421e-fb15-cf1422ce6007"
      },
      "source": [
        "num=1\r\n",
        "sq1=0\r\n",
        "for num in range(1,30):\r\n",
        "  sq = num*num\r\n",
        "  sq1 = sq+sq1\r\n",
        "  print(sq, end = \" \")\r\n",
        "print(\"\\n\")\r\n",
        "print(\"Total of the square numbers \", sq1)"
      ],
      "execution_count": 8,
      "outputs": [
        {
          "output_type": "stream",
          "text": [
            "1 4 9 16 25 36 49 64 81 100 121 144 169 196 225 256 289 324 361 400 441 484 529 576 625 676 729 784 841 \n",
            "\n",
            "Total of the square numbers  8555\n"
          ],
          "name": "stdout"
        }
      ]
    },
    {
      "cell_type": "markdown",
      "metadata": {
        "id": "45vPDMJ3legp"
      },
      "source": [
        "3.Create a function that counts the number of elements\r\n",
        "within a list that are greater than 30."
      ]
    },
    {
      "cell_type": "code",
      "metadata": {
        "colab": {
          "base_uri": "https://localhost:8080/"
        },
        "id": "9-dTgYW4lfBx",
        "outputId": "6863c6df-a3cf-4db9-e982-faa25162cf06"
      },
      "source": [
        "num_li = [2,5,15,30,35,45,60,100,20]\r\n",
        "def numgret30():\r\n",
        "  for i in num_li:\r\n",
        "    if i > 30:\r\n",
        "      print(i)\r\n",
        "\r\n",
        "numgret30()"
      ],
      "execution_count": 20,
      "outputs": [
        {
          "output_type": "stream",
          "text": [
            "35\n",
            "45\n",
            "60\n",
            "100\n"
          ],
          "name": "stdout"
        }
      ]
    },
    {
      "cell_type": "markdown",
      "metadata": {
        "id": "pf5iJJTum6Tk"
      },
      "source": [
        "4. Write a Python function that takes a list and returns a\r\n",
        "new list with unique elements of the first list."
      ]
    },
    {
      "cell_type": "code",
      "metadata": {
        "colab": {
          "base_uri": "https://localhost:8080/"
        },
        "id": "iWugOLQfm6vF",
        "outputId": "8079152a-57fe-48f0-9cec-e747f587c4b7"
      },
      "source": [
        "flist = [2,25,30,12,45,2,45,2,25,30,65]\r\n",
        "\r\n",
        "def uniquet():\r\n",
        "  sflist = set(flist)\r\n",
        "  print(sflist)\r\n",
        "\r\n",
        "uniquet()\r\n"
      ],
      "execution_count": 21,
      "outputs": [
        {
          "output_type": "stream",
          "text": [
            "{65, 2, 12, 45, 25, 30}\n"
          ],
          "name": "stdout"
        }
      ]
    },
    {
      "cell_type": "markdown",
      "metadata": {
        "id": "ONWzJYS9n_Wi"
      },
      "source": [
        "5. Create a function showEmployee() in such a way that it\r\n",
        "should accept employee name, and it’s salary and display\r\n",
        "both, and if the salary is missing in function call it should\r\n",
        "show it as 9000"
      ]
    },
    {
      "cell_type": "code",
      "metadata": {
        "colab": {
          "base_uri": "https://localhost:8080/"
        },
        "id": "6BU7y026n_xB",
        "outputId": "9bc51ec2-a35d-4f95-db60-e44efa84bfd8"
      },
      "source": [
        "def showEmployee(name,salary = \"9000\"):\r\n",
        "  print(\"Employee\",name,\"salary is:\",salary)\r\n",
        "\r\n",
        "showEmployee(\"Deepak\",9000)\r\n",
        "showEmployee(\"Deepak\")"
      ],
      "execution_count": 27,
      "outputs": [
        {
          "output_type": "stream",
          "text": [
            "Employee Deepak salary is: 9000\n",
            "Employee Deepak salary is: 9000\n"
          ],
          "name": "stdout"
        }
      ]
    },
    {
      "cell_type": "markdown",
      "metadata": {
        "id": "wqyWzwuMrn-d"
      },
      "source": [
        "6. Write a Python program to count the even, odd\r\n",
        "numbers in a given array of integers using Lambda."
      ]
    },
    {
      "cell_type": "code",
      "metadata": {
        "colab": {
          "base_uri": "https://localhost:8080/"
        },
        "id": "trZ45xM2rogQ",
        "outputId": "4e267821-72fd-4f78-dc91-be3ada532b9b"
      },
      "source": [
        "array = [1,2,3,4,5,6,7,8,9]\r\n",
        "odd_num = len(list(filter(lambda x: (x%2 != 0),array)))\r\n",
        "even_num = len(list(filter(lambda x: (x%2 == 0),array)))\r\n",
        "print(\"Count of Odd numbers: \", odd_num)\r\n",
        "print(\"Count of Even numbers: \", even_num)"
      ],
      "execution_count": 35,
      "outputs": [
        {
          "output_type": "stream",
          "text": [
            "Count of Odd numbers:  5\n",
            "Count of Even numbers:  4\n"
          ],
          "name": "stdout"
        }
      ]
    },
    {
      "cell_type": "markdown",
      "metadata": {
        "id": "EJ8h3Vurt0mO"
      },
      "source": [
        "7. Write a Python program to add two given lists using\r\n",
        "map and lambda"
      ]
    },
    {
      "cell_type": "code",
      "metadata": {
        "colab": {
          "base_uri": "https://localhost:8080/"
        },
        "id": "x-kzzpGht05C",
        "outputId": "7892de2e-4642-4f96-e006-0c4e896cf184"
      },
      "source": [
        "list1 = [1,3,5,7]\r\n",
        "list2 = [2,4,6,8]\r\n",
        "\r\n",
        "print(list1)\r\n",
        "print(list2)\r\n",
        "\r\n",
        "adding = map(lambda x,y: x + y, list1,list2)\r\n",
        "print(\"----------------\")\r\n",
        "print('list after adding two list is ')\r\n",
        "print(list(adding))"
      ],
      "execution_count": 41,
      "outputs": [
        {
          "output_type": "stream",
          "text": [
            "[1, 3, 5, 7]\n",
            "[2, 4, 6, 8]\n",
            "----------------\n",
            "list after adding two list is \n",
            "[3, 7, 11, 15]\n"
          ],
          "name": "stdout"
        }
      ]
    },
    {
      "cell_type": "markdown",
      "metadata": {
        "id": "MoDg_2Jau6t2"
      },
      "source": [
        "8. Write a Python program to rearrange positive and\r\n",
        "negative numbers in a given array using Lambda and filter"
      ]
    },
    {
      "cell_type": "code",
      "metadata": {
        "colab": {
          "base_uri": "https://localhost:8080/"
        },
        "id": "EL7_kOAeu7Jk",
        "outputId": "49d0e218-9b80-4c6f-be34-5ec4a905f6bc"
      },
      "source": [
        "arr1 = [1,-5,6,-9,-1]\r\n",
        "resu = sorted(arr1,key = lambda x: 0 if x==0 else -1/x)\r\n",
        "\r\n",
        "print(resu)"
      ],
      "execution_count": 43,
      "outputs": [
        {
          "output_type": "stream",
          "text": [
            "[1, 6, -9, -5, -1]\n"
          ],
          "name": "stdout"
        }
      ]
    },
    {
      "cell_type": "markdown",
      "metadata": {
        "id": "__AJ-B5bv-d7"
      },
      "source": [
        "9. Write a Python program to filter a list of integers using\r\n",
        "Lambda."
      ]
    },
    {
      "cell_type": "code",
      "metadata": {
        "colab": {
          "base_uri": "https://localhost:8080/"
        },
        "id": "Ot8kyFeMv_QR",
        "outputId": "9f64a971-3606-4f17-e326-a6b66d829a98"
      },
      "source": [
        "array = [1,2,3,4,5,6,7,8,9,10]\r\n",
        "odd_num = list(filter(lambda x: (x%2 != 0),array))\r\n",
        "even_num = list(filter(lambda x: (x%2 == 0),array))\r\n",
        "print(\"Odd numbers: \", odd_num)\r\n",
        "print(\" Even numbers: \", even_num)"
      ],
      "execution_count": 46,
      "outputs": [
        {
          "output_type": "stream",
          "text": [
            "Odd numbers:  [1, 3, 5, 7, 9]\n",
            " Even numbers:  [2, 4, 6, 8, 10]\n"
          ],
          "name": "stdout"
        }
      ]
    },
    {
      "cell_type": "markdown",
      "metadata": {
        "id": "jSOB7n0kwkwQ"
      },
      "source": [
        "10. Write a Python program to find the intersection of two\r\n",
        "given arrays using Lambda and filter."
      ]
    },
    {
      "cell_type": "code",
      "metadata": {
        "colab": {
          "base_uri": "https://localhost:8080/"
        },
        "id": "1S-LF76swlZ-",
        "outputId": "84ab56dc-383e-416b-874a-d3477b00eeed"
      },
      "source": [
        "intlist1 = [1,2,3,4,6,7,8,9]\r\n",
        "intlist2 = [1,3,5,7,9]\r\n",
        "\r\n",
        "intsec = list(filter(lambda x: x in intlist1,intlist2))\r\n",
        "\r\n",
        "print(intsec)"
      ],
      "execution_count": 50,
      "outputs": [
        {
          "output_type": "stream",
          "text": [
            "[1, 3, 7, 9]\n"
          ],
          "name": "stdout"
        }
      ]
    }
  ]
}