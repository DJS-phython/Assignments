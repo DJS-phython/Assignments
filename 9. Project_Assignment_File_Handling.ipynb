{
  "nbformat": 4,
  "nbformat_minor": 0,
  "metadata": {
    "colab": {
      "name": "Project Assignment - File Handling.ipynb",
      "provenance": [],
      "collapsed_sections": []
    },
    "kernelspec": {
      "name": "python3",
      "display_name": "Python 3"
    }
  },
  "cells": [
    {
      "cell_type": "code",
      "metadata": {
        "id": "gtrG40wJ3kfg"
      },
      "source": [
        ""
      ],
      "execution_count": null,
      "outputs": []
    },
    {
      "cell_type": "markdown",
      "metadata": {
        "id": "Qb3AiNB531vR"
      },
      "source": [
        "Note : Use a sample file to answer the below questions.\r\n",
        "1. Write a python code to open a file for appending data"
      ]
    },
    {
      "cell_type": "code",
      "metadata": {
        "colab": {
          "base_uri": "https://localhost:8080/"
        },
        "id": "GsRqAvRo35dT",
        "outputId": "a509377f-711d-4f89-f097-4565b5ae961b"
      },
      "source": [
        "fop = open(\"Assignment.txt\",\"w\")\r\n",
        "fop.write(\"This is a test\")\r\n",
        "fop.close()\r\n",
        "\r\n",
        "fop=open(\"Assignment.txt\",'a+')\r\n",
        "fop.write('\\n appending the data')\r\n",
        "fop.seek(0)\r\n",
        "str = fop.read()\r\n",
        "print('Read string is : ',str)\r\n",
        "\r\n",
        "fop.close()"
      ],
      "execution_count": null,
      "outputs": [
        {
          "output_type": "stream",
          "text": [
            "Read string is :  This is a test\n",
            " appending the data\n"
          ],
          "name": "stdout"
        }
      ]
    },
    {
      "cell_type": "markdown",
      "metadata": {
        "id": "fxq-m5EGHwGg"
      },
      "source": [
        "2. How would you read two characters from a file ."
      ]
    },
    {
      "cell_type": "code",
      "metadata": {
        "colab": {
          "base_uri": "https://localhost:8080/"
        },
        "id": "GX9WadzlHwiX",
        "outputId": "35180921-5c93-455f-bc71-deac17c43a34"
      },
      "source": [
        "fop = open('Assignment.txt','r+')\r\n",
        "fop.seek(0)\r\n",
        "str = fop.read(2)\r\n",
        "print(str)\r\n",
        "fop.close()"
      ],
      "execution_count": null,
      "outputs": [
        {
          "output_type": "stream",
          "text": [
            "Th\n"
          ],
          "name": "stdout"
        }
      ]
    },
    {
      "cell_type": "markdown",
      "metadata": {
        "id": "vhpXKpa6NUU2"
      },
      "source": [
        "3. Which command is used to read the entire content of\r\n",
        "the file as a string."
      ]
    },
    {
      "cell_type": "code",
      "metadata": {
        "id": "7Yh7c9yoNVjJ"
      },
      "source": [
        ".readlines()"
      ],
      "execution_count": null,
      "outputs": []
    },
    {
      "cell_type": "markdown",
      "metadata": {
        "id": "_9etV9xzNcJf"
      },
      "source": [
        "4. How to read the next line of the file ."
      ]
    },
    {
      "cell_type": "code",
      "metadata": {
        "id": "ITc2-Rk6Nbrl"
      },
      "source": [
        ".readline()"
      ],
      "execution_count": null,
      "outputs": []
    },
    {
      "cell_type": "markdown",
      "metadata": {
        "id": "Auv-nABSOWsQ"
      },
      "source": [
        "5. Which command is used to open a file for reading in\r\n",
        "binary format only?"
      ]
    },
    {
      "cell_type": "code",
      "metadata": {
        "id": "qVmMcNo7OXh4"
      },
      "source": [
        "bin = open('Assingment.txt','b') ## b will open file in binary format."
      ],
      "execution_count": null,
      "outputs": []
    }
  ]
}