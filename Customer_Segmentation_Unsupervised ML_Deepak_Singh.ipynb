{
  "nbformat": 4,
  "nbformat_minor": 0,
  "metadata": {
    "colab": {
      "name": "Capstone Project 2 - Unsupervised ML - Customer Segmentation - Deepak Singh.ipynb",
      "provenance": [],
      "collapsed_sections": []
    },
    "kernelspec": {
      "name": "python3",
      "display_name": "Python 3"
    },
    "language_info": {
      "name": "python"
    }
  },
  "cells": [
    {
      "cell_type": "code",
      "metadata": {
        "id": "9_WXoi36JeeC"
      },
      "source": [
        "import pandas as pd\n",
        "import matplotlib.pyplot as plt\n",
        "import seaborn as sns\n",
        "from scipy import stats\n",
        "import numpy as np"
      ],
      "execution_count": 4,
      "outputs": []
    },
    {
      "cell_type": "code",
      "metadata": {
        "colab": {
          "resources": {
            "http://localhost:8080/nbextensions/google.colab/files.js": {
              "data": "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",
              "ok": true,
              "headers": [
                [
                  "content-type",
                  "application/javascript"
                ]
              ],
              "status": 200,
              "status_text": ""
            }
          },
          "base_uri": "https://localhost:8080/",
          "height": 73
        },
        "id": "gDOJLtqaI3AZ",
        "outputId": "e86b87b2-a424-402b-a4b5-5769719f8059"
      },
      "source": [
        "from google.colab import files\n",
        "files.upload()"
      ],
      "execution_count": 5,
      "outputs": [
        {
          "output_type": "display_data",
          "data": {
            "text/html": [
              "\n",
              "     <input type=\"file\" id=\"files-4aa33439-fe10-4814-a491-67d93640e13b\" name=\"files[]\" multiple disabled\n",
              "        style=\"border:none\" />\n",
              "     <output id=\"result-4aa33439-fe10-4814-a491-67d93640e13b\">\n",
              "      Upload widget is only available when the cell has been executed in the\n",
              "      current browser session. Please rerun this cell to enable.\n",
              "      </output>\n",
              "      <script src=\"/nbextensions/google.colab/files.js\"></script> "
            ],
            "text/plain": [
              "<IPython.core.display.HTML object>"
            ]
          },
          "metadata": {}
        },
        {
          "output_type": "stream",
          "text": [
            "Saving OnlineRetails.csv to OnlineRetails.csv\n"
          ],
          "name": "stdout"
        }
      ]
    },
    {
      "cell_type": "code",
      "metadata": {
        "id": "L9jVa4R8JU3z"
      },
      "source": [
        "df = pd.read_csv('OnlineRetails.csv',encoding= 'unicode_escape')\n"
      ],
      "execution_count": 6,
      "outputs": []
    },
    {
      "cell_type": "code",
      "metadata": {
        "colab": {
          "base_uri": "https://localhost:8080/",
          "height": 110
        },
        "id": "dmFvqJs2YQuZ",
        "outputId": "15d0b9ad-8ff0-4657-8777-3031b95b2ec2"
      },
      "source": [
        "df.head(2)"
      ],
      "execution_count": 7,
      "outputs": [
        {
          "output_type": "execute_result",
          "data": {
            "text/html": [
              "<div>\n",
              "<style scoped>\n",
              "    .dataframe tbody tr th:only-of-type {\n",
              "        vertical-align: middle;\n",
              "    }\n",
              "\n",
              "    .dataframe tbody tr th {\n",
              "        vertical-align: top;\n",
              "    }\n",
              "\n",
              "    .dataframe thead th {\n",
              "        text-align: right;\n",
              "    }\n",
              "</style>\n",
              "<table border=\"1\" class=\"dataframe\">\n",
              "  <thead>\n",
              "    <tr style=\"text-align: right;\">\n",
              "      <th></th>\n",
              "      <th>InvoiceNo</th>\n",
              "      <th>StockCode</th>\n",
              "      <th>Description</th>\n",
              "      <th>Quantity</th>\n",
              "      <th>InvoiceDate</th>\n",
              "      <th>UnitPrice</th>\n",
              "      <th>CustomerID</th>\n",
              "      <th>Country</th>\n",
              "    </tr>\n",
              "  </thead>\n",
              "  <tbody>\n",
              "    <tr>\n",
              "      <th>0</th>\n",
              "      <td>536365</td>\n",
              "      <td>85123A</td>\n",
              "      <td>WHITE HANGING HEART T-LIGHT HOLDER</td>\n",
              "      <td>6</td>\n",
              "      <td>12/1/2010 8:26</td>\n",
              "      <td>2.55</td>\n",
              "      <td>17850.0</td>\n",
              "      <td>United Kingdom</td>\n",
              "    </tr>\n",
              "    <tr>\n",
              "      <th>1</th>\n",
              "      <td>536365</td>\n",
              "      <td>71053</td>\n",
              "      <td>WHITE METAL LANTERN</td>\n",
              "      <td>6</td>\n",
              "      <td>12/1/2010 8:26</td>\n",
              "      <td>3.39</td>\n",
              "      <td>17850.0</td>\n",
              "      <td>United Kingdom</td>\n",
              "    </tr>\n",
              "  </tbody>\n",
              "</table>\n",
              "</div>"
            ],
            "text/plain": [
              "  InvoiceNo StockCode  ... CustomerID         Country\n",
              "0    536365    85123A  ...    17850.0  United Kingdom\n",
              "1    536365     71053  ...    17850.0  United Kingdom\n",
              "\n",
              "[2 rows x 8 columns]"
            ]
          },
          "metadata": {},
          "execution_count": 7
        }
      ]
    },
    {
      "cell_type": "code",
      "metadata": {
        "id": "vUA_xTCTU2Ae"
      },
      "source": [
        "# selecting only notna details\n",
        "df = df[df['CustomerID'].notna()]"
      ],
      "execution_count": 8,
      "outputs": []
    },
    {
      "cell_type": "code",
      "metadata": {
        "id": "MDXJRzsRUdnA"
      },
      "source": [
        "# since the data is huge for analysis, we are just considering 20000 records for our analysis purpose.\n",
        "df_sel = df.sample(20000,random_state=42)\n"
      ],
      "execution_count": 9,
      "outputs": []
    },
    {
      "cell_type": "code",
      "metadata": {
        "colab": {
          "base_uri": "https://localhost:8080/",
          "height": 408
        },
        "id": "cP0c-62kYYhX",
        "outputId": "21e87b28-e0d3-41ab-8366-376a64ca55a8"
      },
      "source": [
        "df_sel.head()"
      ],
      "execution_count": 11,
      "outputs": [
        {
          "output_type": "execute_result",
          "data": {
            "text/html": [
              "<div>\n",
              "<style scoped>\n",
              "    .dataframe tbody tr th:only-of-type {\n",
              "        vertical-align: middle;\n",
              "    }\n",
              "\n",
              "    .dataframe tbody tr th {\n",
              "        vertical-align: top;\n",
              "    }\n",
              "\n",
              "    .dataframe thead th {\n",
              "        text-align: right;\n",
              "    }\n",
              "</style>\n",
              "<table border=\"1\" class=\"dataframe\">\n",
              "  <thead>\n",
              "    <tr style=\"text-align: right;\">\n",
              "      <th></th>\n",
              "      <th>InvoiceNo</th>\n",
              "      <th>StockCode</th>\n",
              "      <th>Description</th>\n",
              "      <th>Quantity</th>\n",
              "      <th>InvoiceDate</th>\n",
              "      <th>UnitPrice</th>\n",
              "      <th>CustomerID</th>\n",
              "      <th>Country</th>\n",
              "    </tr>\n",
              "  </thead>\n",
              "  <tbody>\n",
              "    <tr>\n",
              "      <th>47912</th>\n",
              "      <td>540456</td>\n",
              "      <td>48185</td>\n",
              "      <td>DOORMAT FAIRY CAKE</td>\n",
              "      <td>2</td>\n",
              "      <td>1/7/2011 12:14</td>\n",
              "      <td>7.95</td>\n",
              "      <td>13534.0</td>\n",
              "      <td>United Kingdom</td>\n",
              "    </tr>\n",
              "    <tr>\n",
              "      <th>342630</th>\n",
              "      <td>566891</td>\n",
              "      <td>23013</td>\n",
              "      <td>GLASS APOTHECARY BOTTLE TONIC</td>\n",
              "      <td>4</td>\n",
              "      <td>9/15/2011 13:51</td>\n",
              "      <td>3.95</td>\n",
              "      <td>14894.0</td>\n",
              "      <td>United Kingdom</td>\n",
              "    </tr>\n",
              "    <tr>\n",
              "      <th>288183</th>\n",
              "      <td>C562139</td>\n",
              "      <td>21313</td>\n",
              "      <td>GLASS HEART T-LIGHT HOLDER</td>\n",
              "      <td>-4</td>\n",
              "      <td>8/3/2011 10:10</td>\n",
              "      <td>0.85</td>\n",
              "      <td>12921.0</td>\n",
              "      <td>United Kingdom</td>\n",
              "    </tr>\n",
              "    <tr>\n",
              "      <th>325368</th>\n",
              "      <td>565438</td>\n",
              "      <td>22382</td>\n",
              "      <td>LUNCH BAG SPACEBOY DESIGN</td>\n",
              "      <td>4</td>\n",
              "      <td>9/4/2011 13:56</td>\n",
              "      <td>1.65</td>\n",
              "      <td>17229.0</td>\n",
              "      <td>United Kingdom</td>\n",
              "    </tr>\n",
              "    <tr>\n",
              "      <th>331450</th>\n",
              "      <td>566016</td>\n",
              "      <td>21212</td>\n",
              "      <td>PACK OF 72 RETROSPOT CAKE CASES</td>\n",
              "      <td>24</td>\n",
              "      <td>9/8/2011 12:20</td>\n",
              "      <td>0.55</td>\n",
              "      <td>15144.0</td>\n",
              "      <td>United Kingdom</td>\n",
              "    </tr>\n",
              "  </tbody>\n",
              "</table>\n",
              "</div>"
            ],
            "text/plain": [
              "       InvoiceNo StockCode  ... CustomerID         Country\n",
              "47912     540456     48185  ...    13534.0  United Kingdom\n",
              "342630    566891     23013  ...    14894.0  United Kingdom\n",
              "288183   C562139     21313  ...    12921.0  United Kingdom\n",
              "325368    565438     22382  ...    17229.0  United Kingdom\n",
              "331450    566016     21212  ...    15144.0  United Kingdom\n",
              "\n",
              "[5 rows x 8 columns]"
            ]
          },
          "metadata": {},
          "execution_count": 11
        }
      ]
    },
    {
      "cell_type": "code",
      "metadata": {
        "colab": {
          "base_uri": "https://localhost:8080/"
        },
        "id": "TyVs9S7UVHZ4",
        "outputId": "3fb2e123-faf8-45d8-a59f-c97685afb299"
      },
      "source": [
        "df_sel.info()"
      ],
      "execution_count": 12,
      "outputs": [
        {
          "output_type": "stream",
          "text": [
            "<class 'pandas.core.frame.DataFrame'>\n",
            "Int64Index: 20000 entries, 47912 to 166372\n",
            "Data columns (total 8 columns):\n",
            " #   Column       Non-Null Count  Dtype  \n",
            "---  ------       --------------  -----  \n",
            " 0   InvoiceNo    20000 non-null  object \n",
            " 1   StockCode    20000 non-null  object \n",
            " 2   Description  20000 non-null  object \n",
            " 3   Quantity     20000 non-null  int64  \n",
            " 4   InvoiceDate  20000 non-null  object \n",
            " 5   UnitPrice    20000 non-null  float64\n",
            " 6   CustomerID   20000 non-null  float64\n",
            " 7   Country      20000 non-null  object \n",
            "dtypes: float64(2), int64(1), object(5)\n",
            "memory usage: 1.4+ MB\n"
          ],
          "name": "stdout"
        }
      ]
    },
    {
      "cell_type": "code",
      "metadata": {
        "id": "wsQRryLIYd2r"
      },
      "source": [
        "# Note InoviceDate is an Object Type and not Date Type"
      ],
      "execution_count": 13,
      "outputs": []
    },
    {
      "cell_type": "code",
      "metadata": {
        "colab": {
          "base_uri": "https://localhost:8080/"
        },
        "id": "oAXFRPnfVPZd",
        "outputId": "0ff1480d-0c81-4f3f-fcdc-70e1c77dc056"
      },
      "source": [
        "df_sel.shape"
      ],
      "execution_count": 14,
      "outputs": [
        {
          "output_type": "execute_result",
          "data": {
            "text/plain": [
              "(20000, 8)"
            ]
          },
          "metadata": {},
          "execution_count": 14
        }
      ]
    },
    {
      "cell_type": "code",
      "metadata": {
        "id": "C9HzYGV4VXvv"
      },
      "source": [
        "# we have successfully extracted the random sample data for 20000 records\n",
        "# Let move on to data cleaning\n",
        "# since we need to categorize the customer based on shopping experience, we will need the timestamp\n",
        "# Timestamp is available but we need only the date data for analysis.\n",
        "# Hence, we will clean the data field and then will move ahead with analyze data along with below factors\n",
        "# Last transaction, Order Frequency and total shopping"
      ],
      "execution_count": 15,
      "outputs": []
    },
    {
      "cell_type": "code",
      "metadata": {
        "id": "7xlFMWkPWoXu"
      },
      "source": [
        "# Cleaning data for date\n",
        "from datetime import datetime\n",
        "df_sel[\"InvoiceDate\"] = pd.to_datetime(df_sel[\"InvoiceDate\"])\n"
      ],
      "execution_count": 16,
      "outputs": []
    },
    {
      "cell_type": "code",
      "metadata": {
        "colab": {
          "base_uri": "https://localhost:8080/"
        },
        "id": "ugG34OIBaiMF",
        "outputId": "a045ac9b-b805-4bc9-905c-a59c59ad551a"
      },
      "source": [
        "df_sel[\"InvoiceDate\"]"
      ],
      "execution_count": 17,
      "outputs": [
        {
          "output_type": "execute_result",
          "data": {
            "text/plain": [
              "47912    2011-01-07 12:14:00\n",
              "342630   2011-09-15 13:51:00\n",
              "288183   2011-08-03 10:10:00\n",
              "325368   2011-09-04 13:56:00\n",
              "331450   2011-09-08 12:20:00\n",
              "                 ...        \n",
              "64239    2011-01-19 16:18:00\n",
              "373369   2011-10-03 12:47:00\n",
              "412598   2011-10-23 13:10:00\n",
              "7287     2010-12-03 16:35:00\n",
              "166372   2011-04-21 13:29:00\n",
              "Name: InvoiceDate, Length: 20000, dtype: datetime64[ns]"
            ]
          },
          "metadata": {},
          "execution_count": 17
        }
      ]
    },
    {
      "cell_type": "code",
      "metadata": {
        "colab": {
          "base_uri": "https://localhost:8080/"
        },
        "id": "1P2RRfgwZN0b",
        "outputId": "1710f23c-eb0f-4cf9-8b7f-037f30b63030"
      },
      "source": [
        "df_sel.info()"
      ],
      "execution_count": 18,
      "outputs": [
        {
          "output_type": "stream",
          "text": [
            "<class 'pandas.core.frame.DataFrame'>\n",
            "Int64Index: 20000 entries, 47912 to 166372\n",
            "Data columns (total 8 columns):\n",
            " #   Column       Non-Null Count  Dtype         \n",
            "---  ------       --------------  -----         \n",
            " 0   InvoiceNo    20000 non-null  object        \n",
            " 1   StockCode    20000 non-null  object        \n",
            " 2   Description  20000 non-null  object        \n",
            " 3   Quantity     20000 non-null  int64         \n",
            " 4   InvoiceDate  20000 non-null  datetime64[ns]\n",
            " 5   UnitPrice    20000 non-null  float64       \n",
            " 6   CustomerID   20000 non-null  float64       \n",
            " 7   Country      20000 non-null  object        \n",
            "dtypes: datetime64[ns](1), float64(2), int64(1), object(4)\n",
            "memory usage: 1.4+ MB\n"
          ],
          "name": "stdout"
        }
      ]
    },
    {
      "cell_type": "code",
      "metadata": {
        "id": "vRMX6MhHZK5t"
      },
      "source": [
        "# Note: InvoiceDate field is in Datetime format now.\n",
        "# this will help us to extract only date data"
      ],
      "execution_count": 19,
      "outputs": []
    },
    {
      "cell_type": "code",
      "metadata": {
        "id": "wEpf7qE1Zx3P"
      },
      "source": [
        "df_sel[\"InvoiceDate\"] = df_sel[\"InvoiceDate\"].dt.date"
      ],
      "execution_count": 20,
      "outputs": []
    },
    {
      "cell_type": "code",
      "metadata": {
        "colab": {
          "base_uri": "https://localhost:8080/"
        },
        "id": "of7p9witaD3U",
        "outputId": "11342656-905c-45bd-e2bd-f49b665f427b"
      },
      "source": [
        "df_sel[\"InvoiceDate\"]"
      ],
      "execution_count": 21,
      "outputs": [
        {
          "output_type": "execute_result",
          "data": {
            "text/plain": [
              "47912     2011-01-07\n",
              "342630    2011-09-15\n",
              "288183    2011-08-03\n",
              "325368    2011-09-04\n",
              "331450    2011-09-08\n",
              "             ...    \n",
              "64239     2011-01-19\n",
              "373369    2011-10-03\n",
              "412598    2011-10-23\n",
              "7287      2010-12-03\n",
              "166372    2011-04-21\n",
              "Name: InvoiceDate, Length: 20000, dtype: object"
            ]
          },
          "metadata": {},
          "execution_count": 21
        }
      ]
    },
    {
      "cell_type": "code",
      "metadata": {
        "colab": {
          "base_uri": "https://localhost:8080/",
          "height": 408
        },
        "id": "yu3CIEiqaHvZ",
        "outputId": "a46aa2ef-5c6a-4320-9768-85469c399854"
      },
      "source": [
        "# Total Value of shopping \n",
        "df_sel[\"TotalSum\"] = df_sel[\"Quantity\"] * df_sel[\"UnitPrice\"]\n",
        "df_sel.head()"
      ],
      "execution_count": 22,
      "outputs": [
        {
          "output_type": "execute_result",
          "data": {
            "text/html": [
              "<div>\n",
              "<style scoped>\n",
              "    .dataframe tbody tr th:only-of-type {\n",
              "        vertical-align: middle;\n",
              "    }\n",
              "\n",
              "    .dataframe tbody tr th {\n",
              "        vertical-align: top;\n",
              "    }\n",
              "\n",
              "    .dataframe thead th {\n",
              "        text-align: right;\n",
              "    }\n",
              "</style>\n",
              "<table border=\"1\" class=\"dataframe\">\n",
              "  <thead>\n",
              "    <tr style=\"text-align: right;\">\n",
              "      <th></th>\n",
              "      <th>InvoiceNo</th>\n",
              "      <th>StockCode</th>\n",
              "      <th>Description</th>\n",
              "      <th>Quantity</th>\n",
              "      <th>InvoiceDate</th>\n",
              "      <th>UnitPrice</th>\n",
              "      <th>CustomerID</th>\n",
              "      <th>Country</th>\n",
              "      <th>TotalSum</th>\n",
              "    </tr>\n",
              "  </thead>\n",
              "  <tbody>\n",
              "    <tr>\n",
              "      <th>47912</th>\n",
              "      <td>540456</td>\n",
              "      <td>48185</td>\n",
              "      <td>DOORMAT FAIRY CAKE</td>\n",
              "      <td>2</td>\n",
              "      <td>2011-01-07</td>\n",
              "      <td>7.95</td>\n",
              "      <td>13534.0</td>\n",
              "      <td>United Kingdom</td>\n",
              "      <td>15.9</td>\n",
              "    </tr>\n",
              "    <tr>\n",
              "      <th>342630</th>\n",
              "      <td>566891</td>\n",
              "      <td>23013</td>\n",
              "      <td>GLASS APOTHECARY BOTTLE TONIC</td>\n",
              "      <td>4</td>\n",
              "      <td>2011-09-15</td>\n",
              "      <td>3.95</td>\n",
              "      <td>14894.0</td>\n",
              "      <td>United Kingdom</td>\n",
              "      <td>15.8</td>\n",
              "    </tr>\n",
              "    <tr>\n",
              "      <th>288183</th>\n",
              "      <td>C562139</td>\n",
              "      <td>21313</td>\n",
              "      <td>GLASS HEART T-LIGHT HOLDER</td>\n",
              "      <td>-4</td>\n",
              "      <td>2011-08-03</td>\n",
              "      <td>0.85</td>\n",
              "      <td>12921.0</td>\n",
              "      <td>United Kingdom</td>\n",
              "      <td>-3.4</td>\n",
              "    </tr>\n",
              "    <tr>\n",
              "      <th>325368</th>\n",
              "      <td>565438</td>\n",
              "      <td>22382</td>\n",
              "      <td>LUNCH BAG SPACEBOY DESIGN</td>\n",
              "      <td>4</td>\n",
              "      <td>2011-09-04</td>\n",
              "      <td>1.65</td>\n",
              "      <td>17229.0</td>\n",
              "      <td>United Kingdom</td>\n",
              "      <td>6.6</td>\n",
              "    </tr>\n",
              "    <tr>\n",
              "      <th>331450</th>\n",
              "      <td>566016</td>\n",
              "      <td>21212</td>\n",
              "      <td>PACK OF 72 RETROSPOT CAKE CASES</td>\n",
              "      <td>24</td>\n",
              "      <td>2011-09-08</td>\n",
              "      <td>0.55</td>\n",
              "      <td>15144.0</td>\n",
              "      <td>United Kingdom</td>\n",
              "      <td>13.2</td>\n",
              "    </tr>\n",
              "  </tbody>\n",
              "</table>\n",
              "</div>"
            ],
            "text/plain": [
              "       InvoiceNo StockCode  ...         Country  TotalSum\n",
              "47912     540456     48185  ...  United Kingdom      15.9\n",
              "342630    566891     23013  ...  United Kingdom      15.8\n",
              "288183   C562139     21313  ...  United Kingdom      -3.4\n",
              "325368    565438     22382  ...  United Kingdom       6.6\n",
              "331450    566016     21212  ...  United Kingdom      13.2\n",
              "\n",
              "[5 rows x 9 columns]"
            ]
          },
          "metadata": {},
          "execution_count": 22
        }
      ]
    },
    {
      "cell_type": "code",
      "metadata": {
        "id": "ZP9zatdAcXZb"
      },
      "source": [
        "# Recent purchased date\n",
        "import datetime\n",
        "Rec_Date = max(df_sel.InvoiceDate) + datetime.timedelta(days=1)"
      ],
      "execution_count": 23,
      "outputs": []
    },
    {
      "cell_type": "code",
      "metadata": {
        "colab": {
          "base_uri": "https://localhost:8080/"
        },
        "id": "J2A3e9kydBaa",
        "outputId": "25215784-1699-4f5b-b165-0a840e61affd"
      },
      "source": [
        "Rec_Date"
      ],
      "execution_count": 24,
      "outputs": [
        {
          "output_type": "execute_result",
          "data": {
            "text/plain": [
              "datetime.date(2011, 12, 10)"
            ]
          },
          "metadata": {},
          "execution_count": 24
        }
      ]
    },
    {
      "cell_type": "code",
      "metadata": {
        "colab": {
          "base_uri": "https://localhost:8080/",
          "height": 408
        },
        "id": "x4rE4NkudLVk",
        "outputId": "ea43bb21-41f9-481e-a9f4-12f58c064301"
      },
      "source": [
        "df_sel.head()"
      ],
      "execution_count": 25,
      "outputs": [
        {
          "output_type": "execute_result",
          "data": {
            "text/html": [
              "<div>\n",
              "<style scoped>\n",
              "    .dataframe tbody tr th:only-of-type {\n",
              "        vertical-align: middle;\n",
              "    }\n",
              "\n",
              "    .dataframe tbody tr th {\n",
              "        vertical-align: top;\n",
              "    }\n",
              "\n",
              "    .dataframe thead th {\n",
              "        text-align: right;\n",
              "    }\n",
              "</style>\n",
              "<table border=\"1\" class=\"dataframe\">\n",
              "  <thead>\n",
              "    <tr style=\"text-align: right;\">\n",
              "      <th></th>\n",
              "      <th>InvoiceNo</th>\n",
              "      <th>StockCode</th>\n",
              "      <th>Description</th>\n",
              "      <th>Quantity</th>\n",
              "      <th>InvoiceDate</th>\n",
              "      <th>UnitPrice</th>\n",
              "      <th>CustomerID</th>\n",
              "      <th>Country</th>\n",
              "      <th>TotalSum</th>\n",
              "    </tr>\n",
              "  </thead>\n",
              "  <tbody>\n",
              "    <tr>\n",
              "      <th>47912</th>\n",
              "      <td>540456</td>\n",
              "      <td>48185</td>\n",
              "      <td>DOORMAT FAIRY CAKE</td>\n",
              "      <td>2</td>\n",
              "      <td>2011-01-07</td>\n",
              "      <td>7.95</td>\n",
              "      <td>13534.0</td>\n",
              "      <td>United Kingdom</td>\n",
              "      <td>15.9</td>\n",
              "    </tr>\n",
              "    <tr>\n",
              "      <th>342630</th>\n",
              "      <td>566891</td>\n",
              "      <td>23013</td>\n",
              "      <td>GLASS APOTHECARY BOTTLE TONIC</td>\n",
              "      <td>4</td>\n",
              "      <td>2011-09-15</td>\n",
              "      <td>3.95</td>\n",
              "      <td>14894.0</td>\n",
              "      <td>United Kingdom</td>\n",
              "      <td>15.8</td>\n",
              "    </tr>\n",
              "    <tr>\n",
              "      <th>288183</th>\n",
              "      <td>C562139</td>\n",
              "      <td>21313</td>\n",
              "      <td>GLASS HEART T-LIGHT HOLDER</td>\n",
              "      <td>-4</td>\n",
              "      <td>2011-08-03</td>\n",
              "      <td>0.85</td>\n",
              "      <td>12921.0</td>\n",
              "      <td>United Kingdom</td>\n",
              "      <td>-3.4</td>\n",
              "    </tr>\n",
              "    <tr>\n",
              "      <th>325368</th>\n",
              "      <td>565438</td>\n",
              "      <td>22382</td>\n",
              "      <td>LUNCH BAG SPACEBOY DESIGN</td>\n",
              "      <td>4</td>\n",
              "      <td>2011-09-04</td>\n",
              "      <td>1.65</td>\n",
              "      <td>17229.0</td>\n",
              "      <td>United Kingdom</td>\n",
              "      <td>6.6</td>\n",
              "    </tr>\n",
              "    <tr>\n",
              "      <th>331450</th>\n",
              "      <td>566016</td>\n",
              "      <td>21212</td>\n",
              "      <td>PACK OF 72 RETROSPOT CAKE CASES</td>\n",
              "      <td>24</td>\n",
              "      <td>2011-09-08</td>\n",
              "      <td>0.55</td>\n",
              "      <td>15144.0</td>\n",
              "      <td>United Kingdom</td>\n",
              "      <td>13.2</td>\n",
              "    </tr>\n",
              "  </tbody>\n",
              "</table>\n",
              "</div>"
            ],
            "text/plain": [
              "       InvoiceNo StockCode  ...         Country  TotalSum\n",
              "47912     540456     48185  ...  United Kingdom      15.9\n",
              "342630    566891     23013  ...  United Kingdom      15.8\n",
              "288183   C562139     21313  ...  United Kingdom      -3.4\n",
              "325368    565438     22382  ...  United Kingdom       6.6\n",
              "331450    566016     21212  ...  United Kingdom      13.2\n",
              "\n",
              "[5 rows x 9 columns]"
            ]
          },
          "metadata": {},
          "execution_count": 25
        }
      ]
    },
    {
      "cell_type": "code",
      "metadata": {
        "id": "FCWX1h0SdIoa"
      },
      "source": [
        "# at this point we have Date field without time, we have total row value and Recent shopping date.\n",
        "# Lets create a new table dataframe with data required for further analysis"
      ],
      "execution_count": 26,
      "outputs": []
    },
    {
      "cell_type": "code",
      "metadata": {
        "id": "5i7cEsJiduFd"
      },
      "source": [
        "# Creating or grouping the data of customer \n",
        "Summarized = df_sel.groupby(['CustomerID']).agg({\n",
        "    'InvoiceDate':lambda x:(Rec_Date - x.max()).days,\n",
        "    'InvoiceNo':'count',\n",
        "    'TotalSum':'sum'})"
      ],
      "execution_count": 27,
      "outputs": []
    },
    {
      "cell_type": "code",
      "metadata": {
        "colab": {
          "base_uri": "https://localhost:8080/",
          "height": 234
        },
        "id": "AJNlLabdeqtL",
        "outputId": "613971cb-6a2c-43cb-c662-f0fd1508826e"
      },
      "source": [
        "Summarized.head()"
      ],
      "execution_count": 28,
      "outputs": [
        {
          "output_type": "execute_result",
          "data": {
            "text/html": [
              "<div>\n",
              "<style scoped>\n",
              "    .dataframe tbody tr th:only-of-type {\n",
              "        vertical-align: middle;\n",
              "    }\n",
              "\n",
              "    .dataframe tbody tr th {\n",
              "        vertical-align: top;\n",
              "    }\n",
              "\n",
              "    .dataframe thead th {\n",
              "        text-align: right;\n",
              "    }\n",
              "</style>\n",
              "<table border=\"1\" class=\"dataframe\">\n",
              "  <thead>\n",
              "    <tr style=\"text-align: right;\">\n",
              "      <th></th>\n",
              "      <th>InvoiceDate</th>\n",
              "      <th>InvoiceNo</th>\n",
              "      <th>TotalSum</th>\n",
              "    </tr>\n",
              "    <tr>\n",
              "      <th>CustomerID</th>\n",
              "      <th></th>\n",
              "      <th></th>\n",
              "      <th></th>\n",
              "    </tr>\n",
              "  </thead>\n",
              "  <tbody>\n",
              "    <tr>\n",
              "      <th>12347.0</th>\n",
              "      <td>40</td>\n",
              "      <td>11</td>\n",
              "      <td>233.40</td>\n",
              "    </tr>\n",
              "    <tr>\n",
              "      <th>12348.0</th>\n",
              "      <td>249</td>\n",
              "      <td>4</td>\n",
              "      <td>282.64</td>\n",
              "    </tr>\n",
              "    <tr>\n",
              "      <th>12349.0</th>\n",
              "      <td>19</td>\n",
              "      <td>4</td>\n",
              "      <td>338.55</td>\n",
              "    </tr>\n",
              "    <tr>\n",
              "      <th>12352.0</th>\n",
              "      <td>37</td>\n",
              "      <td>10</td>\n",
              "      <td>164.90</td>\n",
              "    </tr>\n",
              "    <tr>\n",
              "      <th>12353.0</th>\n",
              "      <td>205</td>\n",
              "      <td>1</td>\n",
              "      <td>17.70</td>\n",
              "    </tr>\n",
              "  </tbody>\n",
              "</table>\n",
              "</div>"
            ],
            "text/plain": [
              "            InvoiceDate  InvoiceNo  TotalSum\n",
              "CustomerID                                  \n",
              "12347.0              40         11    233.40\n",
              "12348.0             249          4    282.64\n",
              "12349.0              19          4    338.55\n",
              "12352.0              37         10    164.90\n",
              "12353.0             205          1     17.70"
            ]
          },
          "metadata": {},
          "execution_count": 28
        }
      ]
    },
    {
      "cell_type": "code",
      "metadata": {
        "id": "OTGoO0IWfo1c"
      },
      "source": [
        "#Reneming the column name for better understanding\n",
        "Summarized.rename(columns = {\"InvoiceDate\":\"Last_Purchased\",\n",
        "                             \"InvoiceNo\":\"Order_Frequency\",\n",
        "                             \"TotalSum\": \"Total_Purchase\"},inplace=True)"
      ],
      "execution_count": 29,
      "outputs": []
    },
    {
      "cell_type": "code",
      "metadata": {
        "colab": {
          "base_uri": "https://localhost:8080/",
          "height": 234
        },
        "id": "1UsA_6QhgXb8",
        "outputId": "1bb741f0-7b55-4914-ae7d-f44def270e6c"
      },
      "source": [
        "Summarized.head()"
      ],
      "execution_count": 30,
      "outputs": [
        {
          "output_type": "execute_result",
          "data": {
            "text/html": [
              "<div>\n",
              "<style scoped>\n",
              "    .dataframe tbody tr th:only-of-type {\n",
              "        vertical-align: middle;\n",
              "    }\n",
              "\n",
              "    .dataframe tbody tr th {\n",
              "        vertical-align: top;\n",
              "    }\n",
              "\n",
              "    .dataframe thead th {\n",
              "        text-align: right;\n",
              "    }\n",
              "</style>\n",
              "<table border=\"1\" class=\"dataframe\">\n",
              "  <thead>\n",
              "    <tr style=\"text-align: right;\">\n",
              "      <th></th>\n",
              "      <th>Last_Purchased</th>\n",
              "      <th>Order_Frequency</th>\n",
              "      <th>Total_Purchase</th>\n",
              "    </tr>\n",
              "    <tr>\n",
              "      <th>CustomerID</th>\n",
              "      <th></th>\n",
              "      <th></th>\n",
              "      <th></th>\n",
              "    </tr>\n",
              "  </thead>\n",
              "  <tbody>\n",
              "    <tr>\n",
              "      <th>12347.0</th>\n",
              "      <td>40</td>\n",
              "      <td>11</td>\n",
              "      <td>233.40</td>\n",
              "    </tr>\n",
              "    <tr>\n",
              "      <th>12348.0</th>\n",
              "      <td>249</td>\n",
              "      <td>4</td>\n",
              "      <td>282.64</td>\n",
              "    </tr>\n",
              "    <tr>\n",
              "      <th>12349.0</th>\n",
              "      <td>19</td>\n",
              "      <td>4</td>\n",
              "      <td>338.55</td>\n",
              "    </tr>\n",
              "    <tr>\n",
              "      <th>12352.0</th>\n",
              "      <td>37</td>\n",
              "      <td>10</td>\n",
              "      <td>164.90</td>\n",
              "    </tr>\n",
              "    <tr>\n",
              "      <th>12353.0</th>\n",
              "      <td>205</td>\n",
              "      <td>1</td>\n",
              "      <td>17.70</td>\n",
              "    </tr>\n",
              "  </tbody>\n",
              "</table>\n",
              "</div>"
            ],
            "text/plain": [
              "            Last_Purchased  Order_Frequency  Total_Purchase\n",
              "CustomerID                                                 \n",
              "12347.0                 40               11          233.40\n",
              "12348.0                249                4          282.64\n",
              "12349.0                 19                4          338.55\n",
              "12352.0                 37               10          164.90\n",
              "12353.0                205                1           17.70"
            ]
          },
          "metadata": {},
          "execution_count": 30
        }
      ]
    },
    {
      "cell_type": "code",
      "metadata": {
        "colab": {
          "base_uri": "https://localhost:8080/",
          "height": 262
        },
        "id": "7tHSFGo-gkaG",
        "outputId": "0c665c34-e653-414d-ede0-4b765cd51621"
      },
      "source": [
        "# Lets analyze the data and check if needs normalization, before we proceed \n",
        "\n",
        "fig,ax =  plt.subplots(1,3, figsize=(15,3))\n",
        "sns.distplot(Summarized['Last_Purchased'],ax=ax[0])\n",
        "sns.distplot(Summarized['Order_Frequency'],ax=ax[1])\n",
        "sns.distplot(Summarized['Total_Purchase'],ax=ax[2])\n",
        "plt.tight_layout()\n",
        "plt.show()"
      ],
      "execution_count": 31,
      "outputs": [
        {
          "output_type": "stream",
          "text": [
            "/usr/local/lib/python3.7/dist-packages/seaborn/distributions.py:2557: FutureWarning: `distplot` is a deprecated function and will be removed in a future version. Please adapt your code to use either `displot` (a figure-level function with similar flexibility) or `histplot` (an axes-level function for histograms).\n",
            "  warnings.warn(msg, FutureWarning)\n",
            "/usr/local/lib/python3.7/dist-packages/seaborn/distributions.py:2557: FutureWarning: `distplot` is a deprecated function and will be removed in a future version. Please adapt your code to use either `displot` (a figure-level function with similar flexibility) or `histplot` (an axes-level function for histograms).\n",
            "  warnings.warn(msg, FutureWarning)\n",
            "/usr/local/lib/python3.7/dist-packages/seaborn/distributions.py:2557: FutureWarning: `distplot` is a deprecated function and will be removed in a future version. Please adapt your code to use either `displot` (a figure-level function with similar flexibility) or `histplot` (an axes-level function for histograms).\n",
            "  warnings.warn(msg, FutureWarning)\n"
          ],
          "name": "stderr"
        },
        {
          "output_type": "display_data",
          "data": {
            "image/png": "[encoded data removed]",
            "text/plain": [
              "<Figure size 1080x216 with 3 Axes>"
            ]
          },
          "metadata": {
            "needs_background": "light"
          }
        }
      ]
    },
    {
      "cell_type": "code",
      "metadata": {
        "id": "VwLRFIcKilmN"
      },
      "source": [
        "# We observe that all data has skewness\n",
        "# Lets check other methods to manage the skewnwess\n",
        "# Log Transformation, Square Root Transformatoin, Cube root Transformation, Box Cox Transformation\n"
      ],
      "execution_count": 32,
      "outputs": []
    },
    {
      "cell_type": "code",
      "metadata": {
        "id": "YBIgudbwRAng"
      },
      "source": [
        "def skewmanager(x):\n",
        "  fig, ax = plt.subplots(2,2,figsize=(5,5))\n",
        "  sns.distplot(Summarized[x],ax=ax[0,0])\n",
        "  sns.distplot(np.log(Summarized[x]),ax=ax[0,1])\n",
        "  sns.distplot(np.sqrt(Summarized[x]),ax=ax[1,0])\n",
        "  sns.distplot(stats.boxcox(Summarized[x])[0],ax=ax[1,1])\n",
        "  plt.tight_layout()\n",
        "  plt.show()\n",
        "\n",
        "  print(\"Normal Skew Value : \",Summarized[x].skew().round(2)) #limiting the output to 2 decimals\n",
        "  print(\"Log Value :\",np.log(Summarized[x]).skew().round(2))\n",
        "  print(\"Square Root Value :\",np.sqrt(Summarized[x]).skew().round(2))\n",
        "  print(\"Box Cox Value :\",pd.Series(stats.boxcox(Summarized[x])[0]).skew().round(2))\n"
      ],
      "execution_count": 33,
      "outputs": []
    },
    {
      "cell_type": "code",
      "metadata": {
        "colab": {
          "base_uri": "https://localhost:8080/",
          "height": 590
        },
        "id": "4FfkvT_gTPxp",
        "outputId": "f296cf2b-3174-4373-ebc7-0675bdbc2b5e"
      },
      "source": [
        "skewmanager('Order_Frequency')"
      ],
      "execution_count": 34,
      "outputs": [
        {
          "output_type": "stream",
          "text": [
            "/usr/local/lib/python3.7/dist-packages/seaborn/distributions.py:2557: FutureWarning: `distplot` is a deprecated function and will be removed in a future version. Please adapt your code to use either `displot` (a figure-level function with similar flexibility) or `histplot` (an axes-level function for histograms).\n",
            "  warnings.warn(msg, FutureWarning)\n",
            "/usr/local/lib/python3.7/dist-packages/seaborn/distributions.py:2557: FutureWarning: `distplot` is a deprecated function and will be removed in a future version. Please adapt your code to use either `displot` (a figure-level function with similar flexibility) or `histplot` (an axes-level function for histograms).\n",
            "  warnings.warn(msg, FutureWarning)\n",
            "/usr/local/lib/python3.7/dist-packages/seaborn/distributions.py:2557: FutureWarning: `distplot` is a deprecated function and will be removed in a future version. Please adapt your code to use either `displot` (a figure-level function with similar flexibility) or `histplot` (an axes-level function for histograms).\n",
            "  warnings.warn(msg, FutureWarning)\n",
            "/usr/local/lib/python3.7/dist-packages/seaborn/distributions.py:2557: FutureWarning: `distplot` is a deprecated function and will be removed in a future version. Please adapt your code to use either `displot` (a figure-level function with similar flexibility) or `histplot` (an axes-level function for histograms).\n",
            "  warnings.warn(msg, FutureWarning)\n"
          ],
          "name": "stderr"
        },
        {
          "output_type": "display_data",
          "data": {
            "image/png": "[encoded data removed]",
            "text/plain": [
              "<Figure size 360x360 with 4 Axes>"
            ]
          },
          "metadata": {
            "needs_background": "light"
          }
        },
        {
          "output_type": "stream",
          "text": [
            "Normal Skew Value :  16.31\n",
            "Log Value : 0.56\n",
            "Square Root Value : 3.49\n",
            "Box Cox Value : 0.08\n"
          ],
          "name": "stdout"
        }
      ]
    },
    {
      "cell_type": "code",
      "metadata": {
        "colab": {
          "base_uri": "https://localhost:8080/",
          "height": 590
        },
        "id": "apAAv67fTaHf",
        "outputId": "718e7f19-1cd5-4fdc-b5b1-197c0dc6985e"
      },
      "source": [
        "skewmanager('Last_Purchased')"
      ],
      "execution_count": 35,
      "outputs": [
        {
          "output_type": "stream",
          "text": [
            "/usr/local/lib/python3.7/dist-packages/seaborn/distributions.py:2557: FutureWarning: `distplot` is a deprecated function and will be removed in a future version. Please adapt your code to use either `displot` (a figure-level function with similar flexibility) or `histplot` (an axes-level function for histograms).\n",
            "  warnings.warn(msg, FutureWarning)\n",
            "/usr/local/lib/python3.7/dist-packages/seaborn/distributions.py:2557: FutureWarning: `distplot` is a deprecated function and will be removed in a future version. Please adapt your code to use either `displot` (a figure-level function with similar flexibility) or `histplot` (an axes-level function for histograms).\n",
            "  warnings.warn(msg, FutureWarning)\n",
            "/usr/local/lib/python3.7/dist-packages/seaborn/distributions.py:2557: FutureWarning: `distplot` is a deprecated function and will be removed in a future version. Please adapt your code to use either `displot` (a figure-level function with similar flexibility) or `histplot` (an axes-level function for histograms).\n",
            "  warnings.warn(msg, FutureWarning)\n",
            "/usr/local/lib/python3.7/dist-packages/seaborn/distributions.py:2557: FutureWarning: `distplot` is a deprecated function and will be removed in a future version. Please adapt your code to use either `displot` (a figure-level function with similar flexibility) or `histplot` (an axes-level function for histograms).\n",
            "  warnings.warn(msg, FutureWarning)\n"
          ],
          "name": "stderr"
        },
        {
          "output_type": "display_data",
          "data": {
            "image/png": "[encoded data removed]",
            "text/plain": [
              "<Figure size 360x360 with 4 Axes>"
            ]
          },
          "metadata": {
            "needs_background": "light"
          }
        },
        {
          "output_type": "stream",
          "text": [
            "Normal Skew Value :  1.07\n",
            "Log Value : -0.59\n",
            "Square Root Value : 0.46\n",
            "Box Cox Value : -0.08\n"
          ],
          "name": "stdout"
        }
      ]
    },
    {
      "cell_type": "code",
      "metadata": {
        "id": "98Ty6i2TUXEp"
      },
      "source": [
        "# \"CLOSER THE VALUE TO 0 - VARIABLE TENDS TO HAVE SYMMETRICAL FORM\"\n",
        "# Basis this statement, will go ahead with BoxCox"
      ],
      "execution_count": 36,
      "outputs": []
    },
    {
      "cell_type": "code",
      "metadata": {
        "colab": {
          "base_uri": "https://localhost:8080/",
          "height": 456
        },
        "id": "GXLyyrpzU3En",
        "outputId": "ae997f74-6def-41d0-cd10-7b3f2d18ff17"
      },
      "source": [
        "fig,ax = plt.subplots(1,2,figsize=(10,5))\n",
        "sns.distplot(Summarized['Total_Purchase'],ax=ax[0])\n",
        "sns.distplot(np.cbrt(Summarized['Total_Purchase']),ax=ax[1])\n",
        "plt.show()\n",
        "\n",
        "print(\"Normal Skew Value : \",Summarized['Total_Purchase'].skew().round(2))\n",
        "print(\"Cube Root Value :\",np.cbrt(Summarized['Total_Purchase']).skew().round(2))"
      ],
      "execution_count": 37,
      "outputs": [
        {
          "output_type": "stream",
          "text": [
            "/usr/local/lib/python3.7/dist-packages/seaborn/distributions.py:2557: FutureWarning: `distplot` is a deprecated function and will be removed in a future version. Please adapt your code to use either `displot` (a figure-level function with similar flexibility) or `histplot` (an axes-level function for histograms).\n",
            "  warnings.warn(msg, FutureWarning)\n",
            "/usr/local/lib/python3.7/dist-packages/seaborn/distributions.py:2557: FutureWarning: `distplot` is a deprecated function and will be removed in a future version. Please adapt your code to use either `displot` (a figure-level function with similar flexibility) or `histplot` (an axes-level function for histograms).\n",
            "  warnings.warn(msg, FutureWarning)\n"
          ],
          "name": "stderr"
        },
        {
          "output_type": "display_data",
          "data": {
            "image/png": "[encoded data removed]",
            "text/plain": [
              "<Figure size 720x360 with 2 Axes>"
            ]
          },
          "metadata": {
            "needs_background": "light"
          }
        },
        {
          "output_type": "stream",
          "text": [
            "Normal Skew Value :  20.2\n",
            "Cube Root Value : 1.57\n"
          ],
          "name": "stdout"
        }
      ]
    },
    {
      "cell_type": "code",
      "metadata": {
        "colab": {
          "base_uri": "https://localhost:8080/",
          "height": 203
        },
        "id": "Df1ZGtX4hmZS",
        "outputId": "6dd23fd4-62a3-48d3-b32c-9a30cc2f8c08"
      },
      "source": [
        "Summarized_Rev = pd.DataFrame()\n",
        "Summarized_Rev['Last_Purchased'] = stats.boxcox(Summarized['Last_Purchased'])[0]\n",
        "Summarized_Rev['Order_Frequency'] = stats.boxcox(Summarized['Order_Frequency'])[0]\n",
        "Summarized_Rev['Total_Purchase'] = pd.Series(np.cbrt(Summarized['Total_Purchase'])).values\n",
        "Summarized_Rev.head()"
      ],
      "execution_count": 38,
      "outputs": [
        {
          "output_type": "execute_result",
          "data": {
            "text/html": [
              "<div>\n",
              "<style scoped>\n",
              "    .dataframe tbody tr th:only-of-type {\n",
              "        vertical-align: middle;\n",
              "    }\n",
              "\n",
              "    .dataframe tbody tr th {\n",
              "        vertical-align: top;\n",
              "    }\n",
              "\n",
              "    .dataframe thead th {\n",
              "        text-align: right;\n",
              "    }\n",
              "</style>\n",
              "<table border=\"1\" class=\"dataframe\">\n",
              "  <thead>\n",
              "    <tr style=\"text-align: right;\">\n",
              "      <th></th>\n",
              "      <th>Last_Purchased</th>\n",
              "      <th>Order_Frequency</th>\n",
              "      <th>Total_Purchase</th>\n",
              "    </tr>\n",
              "  </thead>\n",
              "  <tbody>\n",
              "    <tr>\n",
              "      <th>0</th>\n",
              "      <td>5.506230</td>\n",
              "      <td>1.802130</td>\n",
              "      <td>6.156969</td>\n",
              "    </tr>\n",
              "    <tr>\n",
              "      <th>1</th>\n",
              "      <td>10.218570</td>\n",
              "      <td>1.170996</td>\n",
              "      <td>6.562629</td>\n",
              "    </tr>\n",
              "    <tr>\n",
              "      <th>2</th>\n",
              "      <td>4.038481</td>\n",
              "      <td>1.170996</td>\n",
              "      <td>6.969596</td>\n",
              "    </tr>\n",
              "    <tr>\n",
              "      <th>3</th>\n",
              "      <td>5.341843</td>\n",
              "      <td>1.749260</td>\n",
              "      <td>5.483698</td>\n",
              "    </tr>\n",
              "    <tr>\n",
              "      <th>4</th>\n",
              "      <td>9.629798</td>\n",
              "      <td>0.000000</td>\n",
              "      <td>2.606100</td>\n",
              "    </tr>\n",
              "  </tbody>\n",
              "</table>\n",
              "</div>"
            ],
            "text/plain": [
              "   Last_Purchased  Order_Frequency  Total_Purchase\n",
              "0        5.506230         1.802130        6.156969\n",
              "1       10.218570         1.170996        6.562629\n",
              "2        4.038481         1.170996        6.969596\n",
              "3        5.341843         1.749260        5.483698\n",
              "4        9.629798         0.000000        2.606100"
            ]
          },
          "metadata": {},
          "execution_count": 38
        }
      ]
    },
    {
      "cell_type": "code",
      "metadata": {
        "colab": {
          "base_uri": "https://localhost:8080/",
          "height": 203
        },
        "id": "qC1q7dAvirXo",
        "outputId": "be7e2a6c-92e7-479c-f1e2-be4b5a179aea"
      },
      "source": [
        "Summarized_Rev.tail()"
      ],
      "execution_count": 39,
      "outputs": [
        {
          "output_type": "execute_result",
          "data": {
            "text/html": [
              "<div>\n",
              "<style scoped>\n",
              "    .dataframe tbody tr th:only-of-type {\n",
              "        vertical-align: middle;\n",
              "    }\n",
              "\n",
              "    .dataframe tbody tr th {\n",
              "        vertical-align: top;\n",
              "    }\n",
              "\n",
              "    .dataframe thead th {\n",
              "        text-align: right;\n",
              "    }\n",
              "</style>\n",
              "<table border=\"1\" class=\"dataframe\">\n",
              "  <thead>\n",
              "    <tr style=\"text-align: right;\">\n",
              "      <th></th>\n",
              "      <th>Last_Purchased</th>\n",
              "      <th>Order_Frequency</th>\n",
              "      <th>Total_Purchase</th>\n",
              "    </tr>\n",
              "  </thead>\n",
              "  <tbody>\n",
              "    <tr>\n",
              "      <th>3333</th>\n",
              "      <td>1.231730</td>\n",
              "      <td>2.082074</td>\n",
              "      <td>7.101382</td>\n",
              "    </tr>\n",
              "    <tr>\n",
              "      <th>3334</th>\n",
              "      <td>3.940329</td>\n",
              "      <td>0.960278</td>\n",
              "      <td>2.474406</td>\n",
              "    </tr>\n",
              "    <tr>\n",
              "      <th>3335</th>\n",
              "      <td>9.264879</td>\n",
              "      <td>0.000000</td>\n",
              "      <td>2.482545</td>\n",
              "    </tr>\n",
              "    <tr>\n",
              "      <th>3336</th>\n",
              "      <td>1.602634</td>\n",
              "      <td>2.396546</td>\n",
              "      <td>5.062157</td>\n",
              "    </tr>\n",
              "    <tr>\n",
              "      <th>3337</th>\n",
              "      <td>5.661083</td>\n",
              "      <td>1.539808</td>\n",
              "      <td>5.245362</td>\n",
              "    </tr>\n",
              "  </tbody>\n",
              "</table>\n",
              "</div>"
            ],
            "text/plain": [
              "      Last_Purchased  Order_Frequency  Total_Purchase\n",
              "3333        1.231730         2.082074        7.101382\n",
              "3334        3.940329         0.960278        2.474406\n",
              "3335        9.264879         0.000000        2.482545\n",
              "3336        1.602634         2.396546        5.062157\n",
              "3337        5.661083         1.539808        5.245362"
            ]
          },
          "metadata": {},
          "execution_count": 39
        }
      ]
    },
    {
      "cell_type": "code",
      "metadata": {
        "id": "e3-I1wVRlUOz",
        "colab": {
          "base_uri": "https://localhost:8080/"
        },
        "outputId": "cc1c7267-7652-465d-e84e-3d8fd5c6f786"
      },
      "source": [
        "from sklearn.preprocessing import StandardScaler\n",
        "scaler = StandardScaler()\n",
        "scaler.fit(Summarized_Rev)\n",
        "Summarized_Normal = scaler.transform(Summarized_Rev)\n",
        "print(\"Mean : \",Summarized_Normal.mean(axis=0).round(2))\n",
        "print(\"Standard :\",Summarized_Normal.std(axis=0).round(2))"
      ],
      "execution_count": 40,
      "outputs": [
        {
          "output_type": "stream",
          "text": [
            "Mean :  [-0. -0.  0.]\n",
            "Standard : [1. 1. 1.]\n"
          ],
          "name": "stdout"
        }
      ]
    },
    {
      "cell_type": "code",
      "metadata": {
        "colab": {
          "base_uri": "https://localhost:8080/",
          "height": 203
        },
        "id": "yqJEJsKoZwDD",
        "outputId": "aced87f3-680f-4efe-ace0-570c3c612c46"
      },
      "source": [
        "pd.DataFrame(Summarized_Normal).head()"
      ],
      "execution_count": 41,
      "outputs": [
        {
          "output_type": "execute_result",
          "data": {
            "text/html": [
              "<div>\n",
              "<style scoped>\n",
              "    .dataframe tbody tr th:only-of-type {\n",
              "        vertical-align: middle;\n",
              "    }\n",
              "\n",
              "    .dataframe tbody tr th {\n",
              "        vertical-align: top;\n",
              "    }\n",
              "\n",
              "    .dataframe thead th {\n",
              "        text-align: right;\n",
              "    }\n",
              "</style>\n",
              "<table border=\"1\" class=\"dataframe\">\n",
              "  <thead>\n",
              "    <tr style=\"text-align: right;\">\n",
              "      <th></th>\n",
              "      <th>0</th>\n",
              "      <th>1</th>\n",
              "      <th>2</th>\n",
              "    </tr>\n",
              "  </thead>\n",
              "  <tbody>\n",
              "    <tr>\n",
              "      <th>0</th>\n",
              "      <td>-0.363650</td>\n",
              "      <td>1.201912</td>\n",
              "      <td>1.127725</td>\n",
              "    </tr>\n",
              "    <tr>\n",
              "      <th>1</th>\n",
              "      <td>1.285207</td>\n",
              "      <td>0.308491</td>\n",
              "      <td>1.326667</td>\n",
              "    </tr>\n",
              "    <tr>\n",
              "      <th>2</th>\n",
              "      <td>-0.877218</td>\n",
              "      <td>0.308491</td>\n",
              "      <td>1.526251</td>\n",
              "    </tr>\n",
              "    <tr>\n",
              "      <th>3</th>\n",
              "      <td>-0.421169</td>\n",
              "      <td>1.127071</td>\n",
              "      <td>0.797541</td>\n",
              "    </tr>\n",
              "    <tr>\n",
              "      <th>4</th>\n",
              "      <td>1.079195</td>\n",
              "      <td>-1.349146</td>\n",
              "      <td>-0.613681</td>\n",
              "    </tr>\n",
              "  </tbody>\n",
              "</table>\n",
              "</div>"
            ],
            "text/plain": [
              "          0         1         2\n",
              "0 -0.363650  1.201912  1.127725\n",
              "1  1.285207  0.308491  1.326667\n",
              "2 -0.877218  0.308491  1.526251\n",
              "3 -0.421169  1.127071  0.797541\n",
              "4  1.079195 -1.349146 -0.613681"
            ]
          },
          "metadata": {},
          "execution_count": 41
        }
      ]
    },
    {
      "cell_type": "code",
      "metadata": {
        "id": "f9hD4GeHal-p"
      },
      "source": [
        "# CHOOSING K-NUMBER"
      ],
      "execution_count": 42,
      "outputs": []
    },
    {
      "cell_type": "code",
      "metadata": {
        "id": "ybk9a4Koa2i2"
      },
      "source": [
        "from sklearn.cluster import KMeans\n",
        "\n",
        "sse = {}\n",
        "for k in range(1,11):\n",
        "    kmeans = KMeans(n_clusters=k,random_state=42)\n",
        "    kmeans.fit(Summarized_Normal)\n",
        "    sse[k] = kmeans.inertia_\n"
      ],
      "execution_count": 43,
      "outputs": []
    },
    {
      "cell_type": "code",
      "metadata": {
        "colab": {
          "base_uri": "https://localhost:8080/"
        },
        "id": "Ek1pDwfMgSBr",
        "outputId": "3aa53808-78dc-4533-f489-2a76189fb8c7"
      },
      "source": [
        "sse"
      ],
      "execution_count": 44,
      "outputs": [
        {
          "output_type": "execute_result",
          "data": {
            "text/plain": [
              "{1: 10013.999999999998,\n",
              " 2: 5740.05222716786,\n",
              " 3: 4604.144377316879,\n",
              " 4: 3783.509552596783,\n",
              " 5: 3172.7038653415198,\n",
              " 6: 2765.3710378584688,\n",
              " 7: 2499.473314752279,\n",
              " 8: 2224.270987589289,\n",
              " 9: 2019.895022290605,\n",
              " 10: 1874.5271143022815}"
            ]
          },
          "metadata": {},
          "execution_count": 44
        }
      ]
    },
    {
      "cell_type": "code",
      "metadata": {
        "colab": {
          "base_uri": "https://localhost:8080/"
        },
        "id": "V9TjYif8g1f4",
        "outputId": "32a50537-558b-4145-9966-3ca131ac915a"
      },
      "source": [
        "kmeans"
      ],
      "execution_count": 45,
      "outputs": [
        {
          "output_type": "execute_result",
          "data": {
            "text/plain": [
              "KMeans(algorithm='auto', copy_x=True, init='k-means++', max_iter=300,\n",
              "       n_clusters=10, n_init=10, n_jobs=None, precompute_distances='auto',\n",
              "       random_state=42, tol=0.0001, verbose=0)"
            ]
          },
          "metadata": {},
          "execution_count": 45
        }
      ]
    },
    {
      "cell_type": "code",
      "metadata": {
        "colab": {
          "base_uri": "https://localhost:8080/",
          "height": 312
        },
        "id": "eN8jnsSmgz4M",
        "outputId": "0ea4c5bf-17d1-418d-d313-1cf02c21020a"
      },
      "source": [
        "plt.title('The Elbow Method')\n",
        "plt.xlabel('k')\n",
        "plt.ylabel('SSE')\n",
        "sns.pointplot(x=list(sse.keys()),y=list(sse.values()))\n",
        "plt.show"
      ],
      "execution_count": 46,
      "outputs": [
        {
          "output_type": "execute_result",
          "data": {
            "text/plain": [
              "<function matplotlib.pyplot.show>"
            ]
          },
          "metadata": {},
          "execution_count": 46
        },
        {
          "output_type": "display_data",
          "data": {
            "image/png": "[encoded data removed]",
            "text/plain": [
              "<Figure size 432x288 with 1 Axes>"
            ]
          },
          "metadata": {
            "needs_background": "light"
          }
        }
      ]
    },
    {
      "cell_type": "code",
      "metadata": {
        "colab": {
          "base_uri": "https://localhost:8080/"
        },
        "id": "9rI3B8FghWKM",
        "outputId": "fb242cef-4f0b-4639-a547-2a7c254133cf"
      },
      "source": [
        "# at the value of 3 the drop becomes steady, hence consider the k=3\n",
        "model = KMeans(n_clusters=3, random_state=42)\n",
        "model.fit(Summarized_Normal)\n",
        "model.labels_.shape"
      ],
      "execution_count": 47,
      "outputs": [
        {
          "output_type": "execute_result",
          "data": {
            "text/plain": [
              "(3338,)"
            ]
          },
          "metadata": {},
          "execution_count": 47
        }
      ]
    },
    {
      "cell_type": "markdown",
      "metadata": {
        "id": "g2eMuITVkUBH"
      },
      "source": [
        "**Clustering**"
      ]
    },
    {
      "cell_type": "code",
      "metadata": {
        "colab": {
          "base_uri": "https://localhost:8080/",
          "height": 234
        },
        "id": "gTkYxI_LkYgI",
        "outputId": "43dd7509-7768-4a28-d996-d6fa0ffaf65c"
      },
      "source": [
        "Summarized[\"Cluster\"] = model.labels_\n",
        "Summarized.head()"
      ],
      "execution_count": 48,
      "outputs": [
        {
          "output_type": "execute_result",
          "data": {
            "text/html": [
              "<div>\n",
              "<style scoped>\n",
              "    .dataframe tbody tr th:only-of-type {\n",
              "        vertical-align: middle;\n",
              "    }\n",
              "\n",
              "    .dataframe tbody tr th {\n",
              "        vertical-align: top;\n",
              "    }\n",
              "\n",
              "    .dataframe thead th {\n",
              "        text-align: right;\n",
              "    }\n",
              "</style>\n",
              "<table border=\"1\" class=\"dataframe\">\n",
              "  <thead>\n",
              "    <tr style=\"text-align: right;\">\n",
              "      <th></th>\n",
              "      <th>Last_Purchased</th>\n",
              "      <th>Order_Frequency</th>\n",
              "      <th>Total_Purchase</th>\n",
              "      <th>Cluster</th>\n",
              "    </tr>\n",
              "    <tr>\n",
              "      <th>CustomerID</th>\n",
              "      <th></th>\n",
              "      <th></th>\n",
              "      <th></th>\n",
              "      <th></th>\n",
              "    </tr>\n",
              "  </thead>\n",
              "  <tbody>\n",
              "    <tr>\n",
              "      <th>12347.0</th>\n",
              "      <td>40</td>\n",
              "      <td>11</td>\n",
              "      <td>233.40</td>\n",
              "      <td>0</td>\n",
              "    </tr>\n",
              "    <tr>\n",
              "      <th>12348.0</th>\n",
              "      <td>249</td>\n",
              "      <td>4</td>\n",
              "      <td>282.64</td>\n",
              "      <td>2</td>\n",
              "    </tr>\n",
              "    <tr>\n",
              "      <th>12349.0</th>\n",
              "      <td>19</td>\n",
              "      <td>4</td>\n",
              "      <td>338.55</td>\n",
              "      <td>0</td>\n",
              "    </tr>\n",
              "    <tr>\n",
              "      <th>12352.0</th>\n",
              "      <td>37</td>\n",
              "      <td>10</td>\n",
              "      <td>164.90</td>\n",
              "      <td>0</td>\n",
              "    </tr>\n",
              "    <tr>\n",
              "      <th>12353.0</th>\n",
              "      <td>205</td>\n",
              "      <td>1</td>\n",
              "      <td>17.70</td>\n",
              "      <td>2</td>\n",
              "    </tr>\n",
              "  </tbody>\n",
              "</table>\n",
              "</div>"
            ],
            "text/plain": [
              "            Last_Purchased  Order_Frequency  Total_Purchase  Cluster\n",
              "CustomerID                                                          \n",
              "12347.0                 40               11          233.40        0\n",
              "12348.0                249                4          282.64        2\n",
              "12349.0                 19                4          338.55        0\n",
              "12352.0                 37               10          164.90        0\n",
              "12353.0                205                1           17.70        2"
            ]
          },
          "metadata": {},
          "execution_count": 48
        }
      ]
    },
    {
      "cell_type": "code",
      "metadata": {
        "colab": {
          "base_uri": "https://localhost:8080/",
          "height": 203
        },
        "id": "LdvtPFFFsiYm",
        "outputId": "362736f6-d582-4f02-874f-a1f12c15bea1"
      },
      "source": [
        "Summarized.groupby('Cluster').agg({\n",
        "    'Last_Purchased':'mean',\n",
        "    'Order_Frequency':'mean',\n",
        "    'Total_Purchase':['mean','count']}).round(2)"
      ],
      "execution_count": 49,
      "outputs": [
        {
          "output_type": "execute_result",
          "data": {
            "text/html": [
              "<div>\n",
              "<style scoped>\n",
              "    .dataframe tbody tr th:only-of-type {\n",
              "        vertical-align: middle;\n",
              "    }\n",
              "\n",
              "    .dataframe tbody tr th {\n",
              "        vertical-align: top;\n",
              "    }\n",
              "\n",
              "    .dataframe thead tr th {\n",
              "        text-align: left;\n",
              "    }\n",
              "\n",
              "    .dataframe thead tr:last-of-type th {\n",
              "        text-align: right;\n",
              "    }\n",
              "</style>\n",
              "<table border=\"1\" class=\"dataframe\">\n",
              "  <thead>\n",
              "    <tr>\n",
              "      <th></th>\n",
              "      <th>Last_Purchased</th>\n",
              "      <th>Order_Frequency</th>\n",
              "      <th colspan=\"2\" halign=\"left\">Total_Purchase</th>\n",
              "    </tr>\n",
              "    <tr>\n",
              "      <th></th>\n",
              "      <th>mean</th>\n",
              "      <th>mean</th>\n",
              "      <th>mean</th>\n",
              "      <th>count</th>\n",
              "    </tr>\n",
              "    <tr>\n",
              "      <th>Cluster</th>\n",
              "      <th></th>\n",
              "      <th></th>\n",
              "      <th></th>\n",
              "      <th></th>\n",
              "    </tr>\n",
              "  </thead>\n",
              "  <tbody>\n",
              "    <tr>\n",
              "      <th>0</th>\n",
              "      <td>39.81</td>\n",
              "      <td>13.30</td>\n",
              "      <td>288.67</td>\n",
              "      <td>1100</td>\n",
              "    </tr>\n",
              "    <tr>\n",
              "      <th>1</th>\n",
              "      <td>42.45</td>\n",
              "      <td>2.63</td>\n",
              "      <td>30.97</td>\n",
              "      <td>1083</td>\n",
              "    </tr>\n",
              "    <tr>\n",
              "      <th>2</th>\n",
              "      <td>220.46</td>\n",
              "      <td>2.18</td>\n",
              "      <td>39.46</td>\n",
              "      <td>1155</td>\n",
              "    </tr>\n",
              "  </tbody>\n",
              "</table>\n",
              "</div>"
            ],
            "text/plain": [
              "        Last_Purchased Order_Frequency Total_Purchase      \n",
              "                  mean            mean           mean count\n",
              "Cluster                                                    \n",
              "0                39.81           13.30         288.67  1100\n",
              "1                42.45            2.63          30.97  1083\n",
              "2               220.46            2.18          39.46  1155"
            ]
          },
          "metadata": {},
          "execution_count": 49
        }
      ]
    },
    {
      "cell_type": "code",
      "metadata": {
        "colab": {
          "base_uri": "https://localhost:8080/",
          "height": 203
        },
        "id": "x30lD7d9tKSS",
        "outputId": "b32f04f8-562c-4bbe-a4e7-b0ec7528009b"
      },
      "source": [
        "df_normalized = pd.DataFrame(Summarized_Normal,columns=['Last_Purchased','Order_Frequency','Total_Purchase'])\n",
        "df_normalized['ID'] = Summarized.index\n",
        "df_normalized['Cluster']=model.labels_\n",
        "df_normalized.head()"
      ],
      "execution_count": 50,
      "outputs": [
        {
          "output_type": "execute_result",
          "data": {
            "text/html": [
              "<div>\n",
              "<style scoped>\n",
              "    .dataframe tbody tr th:only-of-type {\n",
              "        vertical-align: middle;\n",
              "    }\n",
              "\n",
              "    .dataframe tbody tr th {\n",
              "        vertical-align: top;\n",
              "    }\n",
              "\n",
              "    .dataframe thead th {\n",
              "        text-align: right;\n",
              "    }\n",
              "</style>\n",
              "<table border=\"1\" class=\"dataframe\">\n",
              "  <thead>\n",
              "    <tr style=\"text-align: right;\">\n",
              "      <th></th>\n",
              "      <th>Last_Purchased</th>\n",
              "      <th>Order_Frequency</th>\n",
              "      <th>Total_Purchase</th>\n",
              "      <th>ID</th>\n",
              "      <th>Cluster</th>\n",
              "    </tr>\n",
              "  </thead>\n",
              "  <tbody>\n",
              "    <tr>\n",
              "      <th>0</th>\n",
              "      <td>-0.363650</td>\n",
              "      <td>1.201912</td>\n",
              "      <td>1.127725</td>\n",
              "      <td>12347.0</td>\n",
              "      <td>0</td>\n",
              "    </tr>\n",
              "    <tr>\n",
              "      <th>1</th>\n",
              "      <td>1.285207</td>\n",
              "      <td>0.308491</td>\n",
              "      <td>1.326667</td>\n",
              "      <td>12348.0</td>\n",
              "      <td>2</td>\n",
              "    </tr>\n",
              "    <tr>\n",
              "      <th>2</th>\n",
              "      <td>-0.877218</td>\n",
              "      <td>0.308491</td>\n",
              "      <td>1.526251</td>\n",
              "      <td>12349.0</td>\n",
              "      <td>0</td>\n",
              "    </tr>\n",
              "    <tr>\n",
              "      <th>3</th>\n",
              "      <td>-0.421169</td>\n",
              "      <td>1.127071</td>\n",
              "      <td>0.797541</td>\n",
              "      <td>12352.0</td>\n",
              "      <td>0</td>\n",
              "    </tr>\n",
              "    <tr>\n",
              "      <th>4</th>\n",
              "      <td>1.079195</td>\n",
              "      <td>-1.349146</td>\n",
              "      <td>-0.613681</td>\n",
              "      <td>12353.0</td>\n",
              "      <td>2</td>\n",
              "    </tr>\n",
              "  </tbody>\n",
              "</table>\n",
              "</div>"
            ],
            "text/plain": [
              "   Last_Purchased  Order_Frequency  Total_Purchase       ID  Cluster\n",
              "0       -0.363650         1.201912        1.127725  12347.0        0\n",
              "1        1.285207         0.308491        1.326667  12348.0        2\n",
              "2       -0.877218         0.308491        1.526251  12349.0        0\n",
              "3       -0.421169         1.127071        0.797541  12352.0        0\n",
              "4        1.079195        -1.349146       -0.613681  12353.0        2"
            ]
          },
          "metadata": {},
          "execution_count": 50
        }
      ]
    },
    {
      "cell_type": "code",
      "metadata": {
        "colab": {
          "base_uri": "https://localhost:8080/",
          "height": 203
        },
        "id": "BXhNm59LuFvm",
        "outputId": "f3454a9e-6962-47c6-d7d7-d6fb9ab7f73e"
      },
      "source": [
        "# Melting the Data\n",
        "df_nor_melt = pd.melt(df_normalized.reset_index(),\n",
        "                      id_vars = ['ID','Cluster'],\n",
        "                      value_vars = ['Last_Purchased','Order_Frequency','Total_Purchase'],\n",
        "                      var_name ='Attribute',\n",
        "                      value_name='Value')\n",
        "      \n",
        "df_nor_melt.head()"
      ],
      "execution_count": 51,
      "outputs": [
        {
          "output_type": "execute_result",
          "data": {
            "text/html": [
              "<div>\n",
              "<style scoped>\n",
              "    .dataframe tbody tr th:only-of-type {\n",
              "        vertical-align: middle;\n",
              "    }\n",
              "\n",
              "    .dataframe tbody tr th {\n",
              "        vertical-align: top;\n",
              "    }\n",
              "\n",
              "    .dataframe thead th {\n",
              "        text-align: right;\n",
              "    }\n",
              "</style>\n",
              "<table border=\"1\" class=\"dataframe\">\n",
              "  <thead>\n",
              "    <tr style=\"text-align: right;\">\n",
              "      <th></th>\n",
              "      <th>ID</th>\n",
              "      <th>Cluster</th>\n",
              "      <th>Attribute</th>\n",
              "      <th>Value</th>\n",
              "    </tr>\n",
              "  </thead>\n",
              "  <tbody>\n",
              "    <tr>\n",
              "      <th>0</th>\n",
              "      <td>12347.0</td>\n",
              "      <td>0</td>\n",
              "      <td>Last_Purchased</td>\n",
              "      <td>-0.363650</td>\n",
              "    </tr>\n",
              "    <tr>\n",
              "      <th>1</th>\n",
              "      <td>12348.0</td>\n",
              "      <td>2</td>\n",
              "      <td>Last_Purchased</td>\n",
              "      <td>1.285207</td>\n",
              "    </tr>\n",
              "    <tr>\n",
              "      <th>2</th>\n",
              "      <td>12349.0</td>\n",
              "      <td>0</td>\n",
              "      <td>Last_Purchased</td>\n",
              "      <td>-0.877218</td>\n",
              "    </tr>\n",
              "    <tr>\n",
              "      <th>3</th>\n",
              "      <td>12352.0</td>\n",
              "      <td>0</td>\n",
              "      <td>Last_Purchased</td>\n",
              "      <td>-0.421169</td>\n",
              "    </tr>\n",
              "    <tr>\n",
              "      <th>4</th>\n",
              "      <td>12353.0</td>\n",
              "      <td>2</td>\n",
              "      <td>Last_Purchased</td>\n",
              "      <td>1.079195</td>\n",
              "    </tr>\n",
              "  </tbody>\n",
              "</table>\n",
              "</div>"
            ],
            "text/plain": [
              "        ID  Cluster       Attribute     Value\n",
              "0  12347.0        0  Last_Purchased -0.363650\n",
              "1  12348.0        2  Last_Purchased  1.285207\n",
              "2  12349.0        0  Last_Purchased -0.877218\n",
              "3  12352.0        0  Last_Purchased -0.421169\n",
              "4  12353.0        2  Last_Purchased  1.079195"
            ]
          },
          "metadata": {},
          "execution_count": 51
        }
      ]
    },
    {
      "cell_type": "code",
      "metadata": {
        "colab": {
          "base_uri": "https://localhost:8080/",
          "height": 350
        },
        "id": "Mh82HT_uvGnY",
        "outputId": "5e9370b5-cf15-4450-99a7-438f5b8ad06b"
      },
      "source": [
        "sns.lineplot('Attribute','Value',hue='Cluster',data=df_nor_melt)"
      ],
      "execution_count": 52,
      "outputs": [
        {
          "output_type": "stream",
          "text": [
            "/usr/local/lib/python3.7/dist-packages/seaborn/_decorators.py:43: FutureWarning: Pass the following variables as keyword args: x, y. From version 0.12, the only valid positional argument will be `data`, and passing other arguments without an explicit keyword will result in an error or misinterpretation.\n",
            "  FutureWarning\n"
          ],
          "name": "stderr"
        },
        {
          "output_type": "execute_result",
          "data": {
            "text/plain": [
              "<matplotlib.axes._subplots.AxesSubplot at 0x7f8d2640b0d0>"
            ]
          },
          "metadata": {},
          "execution_count": 52
        },
        {
          "output_type": "display_data",
          "data": {
            "image/png": "[encoded data removed]",
            "text/plain": [
              "<Figure size 432x288 with 1 Axes>"
            ]
          },
          "metadata": {
            "needs_background": "light"
          }
        }
      ]
    },
    {
      "cell_type": "code",
      "metadata": {
        "colab": {
          "base_uri": "https://localhost:8080/",
          "height": 203
        },
        "id": "g7PISONZverC",
        "outputId": "711b6996-36a7-4479-c7c3-9f9a9a2aa70f"
      },
      "source": [
        "Summarized.groupby('Cluster').agg({\n",
        "    'Last_Purchased':'mean',\n",
        "    'Order_Frequency':'mean',\n",
        "    'Total_Purchase':['mean','count']}).round(1)"
      ],
      "execution_count": 53,
      "outputs": [
        {
          "output_type": "execute_result",
          "data": {
            "text/html": [
              "<div>\n",
              "<style scoped>\n",
              "    .dataframe tbody tr th:only-of-type {\n",
              "        vertical-align: middle;\n",
              "    }\n",
              "\n",
              "    .dataframe tbody tr th {\n",
              "        vertical-align: top;\n",
              "    }\n",
              "\n",
              "    .dataframe thead tr th {\n",
              "        text-align: left;\n",
              "    }\n",
              "\n",
              "    .dataframe thead tr:last-of-type th {\n",
              "        text-align: right;\n",
              "    }\n",
              "</style>\n",
              "<table border=\"1\" class=\"dataframe\">\n",
              "  <thead>\n",
              "    <tr>\n",
              "      <th></th>\n",
              "      <th>Last_Purchased</th>\n",
              "      <th>Order_Frequency</th>\n",
              "      <th colspan=\"2\" halign=\"left\">Total_Purchase</th>\n",
              "    </tr>\n",
              "    <tr>\n",
              "      <th></th>\n",
              "      <th>mean</th>\n",
              "      <th>mean</th>\n",
              "      <th>mean</th>\n",
              "      <th>count</th>\n",
              "    </tr>\n",
              "    <tr>\n",
              "      <th>Cluster</th>\n",
              "      <th></th>\n",
              "      <th></th>\n",
              "      <th></th>\n",
              "      <th></th>\n",
              "    </tr>\n",
              "  </thead>\n",
              "  <tbody>\n",
              "    <tr>\n",
              "      <th>0</th>\n",
              "      <td>39.8</td>\n",
              "      <td>13.3</td>\n",
              "      <td>288.7</td>\n",
              "      <td>1100</td>\n",
              "    </tr>\n",
              "    <tr>\n",
              "      <th>1</th>\n",
              "      <td>42.4</td>\n",
              "      <td>2.6</td>\n",
              "      <td>31.0</td>\n",
              "      <td>1083</td>\n",
              "    </tr>\n",
              "    <tr>\n",
              "      <th>2</th>\n",
              "      <td>220.5</td>\n",
              "      <td>2.2</td>\n",
              "      <td>39.5</td>\n",
              "      <td>1155</td>\n",
              "    </tr>\n",
              "  </tbody>\n",
              "</table>\n",
              "</div>"
            ],
            "text/plain": [
              "        Last_Purchased Order_Frequency Total_Purchase      \n",
              "                  mean            mean           mean count\n",
              "Cluster                                                    \n",
              "0                 39.8            13.3          288.7  1100\n",
              "1                 42.4             2.6           31.0  1083\n",
              "2                220.5             2.2           39.5  1155"
            ]
          },
          "metadata": {},
          "execution_count": 53
        }
      ]
    },
    {
      "cell_type": "code",
      "metadata": {
        "colab": {
          "base_uri": "https://localhost:8080/",
          "height": 172
        },
        "id": "Ffd0tEJ9rIxK",
        "outputId": "bcaefc77-4061-43ac-8b95-d3aba43f6fb7"
      },
      "source": [
        "cluster_avg = Summarized.groupby('Cluster').mean()\n",
        "population_avg = Summarized.mean()\n",
        "relative_imp = cluster_avg/population_avg-1\n",
        "relative_imp"
      ],
      "execution_count": 55,
      "outputs": [
        {
          "output_type": "execute_result",
          "data": {
            "text/html": [
              "<div>\n",
              "<style scoped>\n",
              "    .dataframe tbody tr th:only-of-type {\n",
              "        vertical-align: middle;\n",
              "    }\n",
              "\n",
              "    .dataframe tbody tr th {\n",
              "        vertical-align: top;\n",
              "    }\n",
              "\n",
              "    .dataframe thead th {\n",
              "        text-align: right;\n",
              "    }\n",
              "</style>\n",
              "<table border=\"1\" class=\"dataframe\">\n",
              "  <thead>\n",
              "    <tr style=\"text-align: right;\">\n",
              "      <th></th>\n",
              "      <th>Cluster</th>\n",
              "      <th>Last_Purchased</th>\n",
              "      <th>Order_Frequency</th>\n",
              "      <th>Total_Purchase</th>\n",
              "    </tr>\n",
              "    <tr>\n",
              "      <th>Cluster</th>\n",
              "      <th></th>\n",
              "      <th></th>\n",
              "      <th></th>\n",
              "      <th></th>\n",
              "    </tr>\n",
              "  </thead>\n",
              "  <tbody>\n",
              "    <tr>\n",
              "      <th>0</th>\n",
              "      <td>NaN</td>\n",
              "      <td>-0.614153</td>\n",
              "      <td>1.220377</td>\n",
              "      <td>1.429279</td>\n",
              "    </tr>\n",
              "    <tr>\n",
              "      <th>1</th>\n",
              "      <td>NaN</td>\n",
              "      <td>-0.588604</td>\n",
              "      <td>-0.561252</td>\n",
              "      <td>-0.739412</td>\n",
              "    </tr>\n",
              "    <tr>\n",
              "      <th>2</th>\n",
              "      <td>NaN</td>\n",
              "      <td>1.136819</td>\n",
              "      <td>-0.635999</td>\n",
              "      <td>-0.667899</td>\n",
              "    </tr>\n",
              "  </tbody>\n",
              "</table>\n",
              "</div>"
            ],
            "text/plain": [
              "         Cluster  Last_Purchased  Order_Frequency  Total_Purchase\n",
              "Cluster                                                          \n",
              "0            NaN       -0.614153         1.220377        1.429279\n",
              "1            NaN       -0.588604        -0.561252       -0.739412\n",
              "2            NaN        1.136819        -0.635999       -0.667899"
            ]
          },
          "metadata": {},
          "execution_count": 55
        }
      ]
    },
    {
      "cell_type": "markdown",
      "metadata": {
        "id": "bjM0rYNes3ek"
      },
      "source": [
        "# <u>//** Final Conclusion **//</u>\n",
        "\n",
        "**<u>Cluster 0</u> - Are the one who have recently purchased, buy Frequently and spend more. PROBABLY A CLUSTER OF PATRIOTIC CUSTOMERS**\n",
        "\n",
        "**<u>Cluster 1</u> - Are those who have recently purchased, less frequent and spend less - PROBABLY CLUSTER OF NEW CUSTOMERS**\n",
        "\n",
        "**<u>Cluster 2</u> - They have not purchased for long time, they are less frequent and purchasing is also less. PROBABLY CLUSTER OF ATTRITED CUSTOMER.**\n"
      ]
    },
    {
      "cell_type": "markdown",
      "metadata": {
        "id": "ec59010Ev37d"
      },
      "source": [
        "With this we have successfully categorize users based on their transactions."
      ]
    },
    {
      "cell_type": "markdown",
      "metadata": {
        "id": "Ljs-0eZ3w5TK"
      },
      "source": [
        "References:\n",
        "\n",
        "https://towardsdatascience.com/top-3-methods-for-handling-skewed-data-1334e0debf45\n",
        "\n",
        "https://www.geeksforgeeks.org/elbow-method-for-optimal-value-of-k-in-kmeans/\n"
      ]
    },
    {
      "cell_type": "code",
      "metadata": {
        "id": "SAOCh3I-xE5a"
      },
      "source": [
        ""
      ],
      "execution_count": null,
      "outputs": []
    }
  ]
}