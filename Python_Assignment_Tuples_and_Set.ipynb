{
  "nbformat": 4,
  "nbformat_minor": 0,
  "metadata": {
    "colab": {
      "name": "Python Assignment - Tuples and Set.ipynb",
      "provenance": [],
      "collapsed_sections": []
    },
    "kernelspec": {
      "name": "python3",
      "display_name": "Python 3"
    }
  },
  "cells": [
    {
      "cell_type": "markdown",
      "metadata": {
        "id": "VUwR6IOR97Pm"
      },
      "source": [
        "1. Write a Python program to add an item in a tuple."
      ]
    },
    {
      "cell_type": "code",
      "metadata": {
        "colab": {
          "base_uri": "https://localhost:8080/"
        },
        "id": "HcyGECp49yvL",
        "outputId": "238761a0-c172-4961-9b0e-396f55e2d911"
      },
      "source": [
        "sample=(2,25,3)\n",
        "\n",
        "lsample = list(sample)\n",
        "lsample.append(100)\n",
        "\n",
        "tsample = tuple(lsample)\n",
        "print(tsample)"
      ],
      "execution_count": 8,
      "outputs": [
        {
          "output_type": "stream",
          "text": [
            "(2, 25, 3, 100)\n"
          ],
          "name": "stdout"
        }
      ]
    },
    {
      "cell_type": "markdown",
      "metadata": {
        "id": "cdJyjeIMFH_s"
      },
      "source": [
        "2. Write a Python program to reverse a tuple."
      ]
    },
    {
      "cell_type": "code",
      "metadata": {
        "colab": {
          "base_uri": "https://localhost:8080/"
        },
        "id": "rG9d9MKEFI0a",
        "outputId": "2844da1e-997c-4c3e-b177-e17590424734"
      },
      "source": [
        "samtuple = (1,2,3,4,5,6,7)\n",
        "tup = samtuple[: :-1]\n",
        "print(tup)\n"
      ],
      "execution_count": 21,
      "outputs": [
        {
          "output_type": "stream",
          "text": [
            "(7, 6, 5, 4, 3, 2, 1)\n"
          ],
          "name": "stdout"
        }
      ]
    },
    {
      "cell_type": "markdown",
      "metadata": {
        "id": "XyVwJwXXKmfa"
      },
      "source": [
        "3. Swap the following two tuples\n",
        "tuple1 = (11, 22)\n",
        "tuple2 = (99, 88)"
      ]
    },
    {
      "cell_type": "code",
      "metadata": {
        "colab": {
          "base_uri": "https://localhost:8080/"
        },
        "id": "CeN7YisWKnjA",
        "outputId": "7029f48a-9118-4e97-e8c6-d91e1d8b1239"
      },
      "source": [
        "tuple1 = (11,22)\n",
        "tuple2 = (99,88)\n",
        "tuple1,tuple2 = tuple2,tuple1\n",
        "print(tuple1)\n",
        "print(tuple2)\n"
      ],
      "execution_count": 22,
      "outputs": [
        {
          "output_type": "stream",
          "text": [
            "(99, 88)\n",
            "(11, 22)\n"
          ],
          "name": "stdout"
        }
      ]
    },
    {
      "cell_type": "markdown",
      "metadata": {
        "id": "KnNIBCqaLHhX"
      },
      "source": [
        "4. Modify the first item (22) of a list inside a following tuple to\n",
        "222\n",
        "tuple1 = (11, [22, 33], 44, 55)"
      ]
    },
    {
      "cell_type": "code",
      "metadata": {
        "colab": {
          "base_uri": "https://localhost:8080/"
        },
        "id": "YWilhlJNLH8Z",
        "outputId": "7958ff85-08fc-48bc-c80d-efe6e4a4a07d"
      },
      "source": [
        "tuple1 = (11, [22, 33], 44, 55)\n",
        "tuple1[1][0]=222\n",
        "\n",
        "print(tuple1)"
      ],
      "execution_count": 23,
      "outputs": [
        {
          "output_type": "stream",
          "text": [
            "(11, [222, 33], 44, 55)\n"
          ],
          "name": "stdout"
        }
      ]
    },
    {
      "cell_type": "markdown",
      "metadata": {
        "id": "ixjdsHPkLmd3"
      },
      "source": [
        "5. Write a Python program to unpack a tuple in several\n",
        "variables"
      ]
    },
    {
      "cell_type": "code",
      "metadata": {
        "colab": {
          "base_uri": "https://localhost:8080/"
        },
        "id": "PKCrkk2QLnEo",
        "outputId": "e7550d7b-7e48-4826-f0aa-b89bf65da535"
      },
      "source": [
        "vartub1 = (\"Gems\",35,\"Lucknow\")\n",
        "\n",
        "(jewellery,age,location) = vartub1\n",
        "\n",
        "print(jewellery)\n",
        "print(age)\n",
        "print(location)"
      ],
      "execution_count": 29,
      "outputs": [
        {
          "output_type": "stream",
          "text": [
            "Gems\n",
            "35\n",
            "Lucknow\n"
          ],
          "name": "stdout"
        }
      ]
    },
    {
      "cell_type": "markdown",
      "metadata": {
        "id": "PGhXeNqqOD2z"
      },
      "source": [
        "6. Write a Python program to add member(s) in an empty\n",
        "set."
      ]
    },
    {
      "cell_type": "code",
      "metadata": {
        "colab": {
          "base_uri": "https://localhost:8080/"
        },
        "id": "U6VW0wlZOFol",
        "outputId": "2693da34-6f2e-498f-d73a-1333ffae1f07"
      },
      "source": [
        "emp = set()\n",
        "emp.add(\"Dubai\")\n",
        "print(emp)\n",
        "\n",
        "#addition of more items\n",
        "emp.update([\"Hongkong\",\"Mumbai\"])\n",
        "print(emp)"
      ],
      "execution_count": 35,
      "outputs": [
        {
          "output_type": "stream",
          "text": [
            "{'Dubai'}\n",
            "{'Dubai', 'Hongkong', 'Mumbai'}\n"
          ],
          "name": "stdout"
        }
      ]
    },
    {
      "cell_type": "markdown",
      "metadata": {
        "id": "nG7l3kZFc8PV"
      },
      "source": [
        "7. Write a Python program to create an intersection of sets"
      ]
    },
    {
      "cell_type": "code",
      "metadata": {
        "colab": {
          "base_uri": "https://localhost:8080/"
        },
        "id": "8PJCIIDrc84Y",
        "outputId": "9c568274-cca1-44f3-b0cf-b523d870f870"
      },
      "source": [
        "list1 = [1,2,3,4,4,5,5,6]\n",
        "list2 = [3,4,5,5]\n",
        "\n",
        "print(list(set(list1).intersection(set(list2))))"
      ],
      "execution_count": 42,
      "outputs": [
        {
          "output_type": "stream",
          "text": [
            "[3, 4, 5]\n"
          ],
          "name": "stdout"
        }
      ]
    },
    {
      "cell_type": "markdown",
      "metadata": {
        "id": "fZKMgDApfUYM"
      },
      "source": [
        "8. Write a Python program to create a symmetric difference\n",
        "in sets."
      ]
    },
    {
      "cell_type": "code",
      "metadata": {
        "colab": {
          "base_uri": "https://localhost:8080/"
        },
        "id": "JTTTfQrxf6jA",
        "outputId": "0861832f-843f-44b0-f440-18b9f03b940e"
      },
      "source": [
        "lname1 = set(['Rohan','Raman'])\n",
        "lname2 = set(['Raman','Soham'])\n",
        "\n",
        "symname = lname1^lname2\n",
        "print(symname)\n",
        "\n"
      ],
      "execution_count": 43,
      "outputs": [
        {
          "output_type": "stream",
          "text": [
            "{'Soham', 'Rohan'}\n"
          ],
          "name": "stdout"
        }
      ]
    },
    {
      "cell_type": "markdown",
      "metadata": {
        "id": "8ezshDUKhd6z"
      },
      "source": [
        "9. Return a set of identical items from a given two Python\n",
        "set\n",
        "\n",
        "set1 = [10, 20, 30, 40, 50]\n",
        "\n",
        "set2 = [30, 40, 50, 60, 70]"
      ]
    },
    {
      "cell_type": "code",
      "metadata": {
        "colab": {
          "base_uri": "https://localhost:8080/"
        },
        "id": "PoGLlgrlhm7B",
        "outputId": "9db581b3-f7c9-4511-a719-a449c2958556"
      },
      "source": [
        "set1 = [10, 20, 30, 40, 50]\n",
        "set2 = [30, 40, 50, 60, 70]\n",
        "\n",
        "print(list(set(set1).intersection(set(set2))))\n",
        "\n"
      ],
      "execution_count": 45,
      "outputs": [
        {
          "output_type": "stream",
          "text": [
            "[40, 50, 30]\n"
          ],
          "name": "stdout"
        }
      ]
    },
    {
      "cell_type": "markdown",
      "metadata": {
        "id": "Eysxn3ldiuuw"
      },
      "source": [
        "10. Remove 10, 20, 30 elements from a following set at\n",
        "once\n",
        "set1 = {10, 20, 30, 40, 50}"
      ]
    },
    {
      "cell_type": "code",
      "metadata": {
        "colab": {
          "base_uri": "https://localhost:8080/"
        },
        "id": "PAT3-hmRhf84",
        "outputId": "c49008e4-0812-4136-83a5-9954e1005556"
      },
      "source": [
        "set1 = {10, 20, 30, 40, 50}\n",
        "set1.difference_update({10,20,30})\n",
        "print(set1)"
      ],
      "execution_count": 48,
      "outputs": [
        {
          "output_type": "stream",
          "text": [
            "{40, 50}\n"
          ],
          "name": "stdout"
        }
      ]
    },
    {
      "cell_type": "markdown",
      "metadata": {
        "id": "4wD7XW2Wjsme"
      },
      "source": [
        "11. Access value 20 from the following tuple\n",
        "example = (\"Pooja\", [10, 20, 30], (25, 50, 15))"
      ]
    },
    {
      "cell_type": "code",
      "metadata": {
        "colab": {
          "base_uri": "https://localhost:8080/"
        },
        "id": "XG41N7oYjtAj",
        "outputId": "85f49b10-b0c9-4753-c3a6-70d1e98636d6"
      },
      "source": [
        "tupex = (\"Pooja\", [10, 20, 30], (25, 50, 15))\n",
        "tupex[1][1]"
      ],
      "execution_count": 50,
      "outputs": [
        {
          "output_type": "execute_result",
          "data": {
            "text/plain": [
              "20"
            ]
          },
          "metadata": {
            "tags": []
          },
          "execution_count": 50
        }
      ]
    },
    {
      "cell_type": "markdown",
      "metadata": {
        "id": "4FWB-Tlskv9h"
      },
      "source": [
        "12. Count the number of occurrences of item 50 from a tuple\n",
        "numbers = (50, 10, 60, 70, 50)"
      ]
    },
    {
      "cell_type": "code",
      "metadata": {
        "colab": {
          "base_uri": "https://localhost:8080/"
        },
        "id": "saMHGLFlkwi8",
        "outputId": "a2de3ad6-f848-41dc-85d3-2ef66a8430c2"
      },
      "source": [
        "tupnum = (50, 10, 60, 70, 50)\n",
        "a=tupnum.count(50)\n",
        "print(a)\n"
      ],
      "execution_count": 52,
      "outputs": [
        {
          "output_type": "stream",
          "text": [
            "2\n"
          ],
          "name": "stdout"
        }
      ]
    }
  ]
}