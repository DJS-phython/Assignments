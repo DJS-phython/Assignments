{
  "nbformat": 4,
  "nbformat_minor": 0,
  "metadata": {
    "colab": {
      "name": "Python Assisgment 6 - Loops - Deepak J Singh.ipynb",
      "provenance": [],
      "collapsed_sections": []
    },
    "kernelspec": {
      "display_name": "Python 3",
      "name": "python3"
    }
  },
  "cells": [
    {
      "cell_type": "markdown",
      "metadata": {
        "id": "eabCNJxAef87"
      },
      "source": [
        "1. Print First 10 natural numbers using while loop\n"
      ]
    },
    {
      "cell_type": "code",
      "metadata": {
        "colab": {
          "base_uri": "https://localhost:8080/"
        },
        "id": "2s2vjZ8AeuuG",
        "outputId": "5baf5dac-a8fb-411c-a9d2-4b6dd088cf54"
      },
      "source": [
        "a=1\n",
        "while a<=10:\n",
        "  print(a)\n",
        "  a=a+1"
      ],
      "execution_count": null,
      "outputs": [
        {
          "output_type": "stream",
          "text": [
            "1\n",
            "2\n",
            "3\n",
            "4\n",
            "5\n",
            "6\n",
            "7\n",
            "8\n",
            "9\n",
            "10\n"
          ],
          "name": "stdout"
        }
      ]
    },
    {
      "cell_type": "markdown",
      "metadata": {
        "id": "fTz5G1r5fC8C"
      },
      "source": [
        "2. Display -10 to -1 using for loop\n"
      ]
    },
    {
      "cell_type": "code",
      "metadata": {
        "colab": {
          "base_uri": "https://localhost:8080/"
        },
        "id": "d3s6HDjrfDXU",
        "outputId": "ef92295f-dee4-4449-ab92-43d3dec3d1ee"
      },
      "source": [
        "a=-10\n",
        "while a<=-1:\n",
        "  print(a)\n",
        "  a=a+1"
      ],
      "execution_count": null,
      "outputs": [
        {
          "output_type": "stream",
          "text": [
            "-10\n",
            "-9\n",
            "-8\n",
            "-7\n",
            "-6\n",
            "-5\n",
            "-4\n",
            "-3\n",
            "-2\n",
            "-1\n"
          ],
          "name": "stdout"
        }
      ]
    },
    {
      "cell_type": "markdown",
      "metadata": {
        "id": "r_pKuS69groF"
      },
      "source": [
        "3. Write a python program to print the factorial of a given\n",
        "number"
      ]
    },
    {
      "cell_type": "code",
      "metadata": {
        "colab": {
          "base_uri": "https://localhost:8080/"
        },
        "id": "MjyMxOVygsF3",
        "outputId": "81cf5b0e-1f06-4208-dda8-240a4be33d2e"
      },
      "source": [
        "n=int(input(\"Insert amount for factorial : \"))\n",
        "f=1\n",
        "for i in range(1,n+1):\n",
        "  f=f*i\n",
        "\n",
        "print(\"Factorial of\",n,\"is \",f)"
      ],
      "execution_count": null,
      "outputs": [
        {
          "output_type": "stream",
          "text": [
            "Insert amount for factorial : 5\n",
            "Factorial of 5 is  120\n"
          ],
          "name": "stdout"
        }
      ]
    },
    {
      "cell_type": "markdown",
      "metadata": {
        "id": "_aAkP3EanqYi"
      },
      "source": [
        "4. Write a python program to print all prime numbers\n",
        "between 0 to 100 , and print how many prime numbers\n",
        "are there."
      ]
    },
    {
      "cell_type": "code",
      "metadata": {
        "colab": {
          "base_uri": "https://localhost:8080/"
        },
        "id": "EqhDd5CZnq-b",
        "outputId": "dfa26524-982e-48e3-9b64-259417376a78"
      },
      "source": [
        "lower = 1\n",
        "upper = 100\n",
        "cnt=0\n",
        "\n",
        "for num in range(lower,upper):\n",
        "  if num>1:\n",
        "      for i in range(2,num):\n",
        "        if (num%i)==0:\n",
        "          break\n",
        "      else:\n",
        "        print(num)\n",
        "        cnt=cnt+1\n",
        "\n",
        "print(f'There are {a} prime numbers from 0 to 100')    "
      ],
      "execution_count": null,
      "outputs": [
        {
          "output_type": "stream",
          "text": [
            "2\n",
            "3\n",
            "5\n",
            "7\n",
            "11\n",
            "13\n",
            "17\n",
            "19\n",
            "23\n",
            "29\n",
            "31\n",
            "37\n",
            "41\n",
            "43\n",
            "47\n",
            "53\n",
            "59\n",
            "61\n",
            "67\n",
            "71\n",
            "73\n",
            "79\n",
            "83\n",
            "89\n",
            "97\n",
            "There are 25 prime numbers from 0 to 100\n"
          ],
          "name": "stdout"
        }
      ]
    },
    {
      "cell_type": "markdown",
      "metadata": {
        "id": "WC9pghTJx5g5"
      },
      "source": [
        "5. Print the following pattern :\n",
        "1\n",
        "1 2\n",
        "1 2 3\n",
        "1 2 3 4\n",
        "1 2 3 4 5\n"
      ]
    },
    {
      "cell_type": "code",
      "metadata": {
        "colab": {
          "base_uri": "https://localhost:8080/"
        },
        "id": "kv7fw48kx6b2",
        "outputId": "e2bb2780-1c40-4248-f5e3-67918edda78d"
      },
      "source": [
        "for i in range(1,6):\n",
        "  for a in range(1,i+1):\n",
        "    print(a,end=\"\")\n",
        "  print()"
      ],
      "execution_count": null,
      "outputs": [
        {
          "output_type": "stream",
          "text": [
            "1\n",
            "12\n",
            "123\n",
            "1234\n",
            "12345\n"
          ],
          "name": "stdout"
        }
      ]
    },
    {
      "cell_type": "markdown",
      "metadata": {
        "id": "KmB6HYGInqQ-"
      },
      "source": [
        "6 Accept n number from user and calculate the sum of all\n",
        "number between 1 and n including n\n"
      ]
    },
    {
      "cell_type": "code",
      "metadata": {
        "colab": {
          "base_uri": "https://localhost:8080/"
        },
        "id": "A6OrN1WXYGcW",
        "outputId": "dd6722b9-321d-4c80-e7c2-bb6e560561eb"
      },
      "source": [
        "in_var = 0\n",
        "in_var1 = 0\n",
        "\n",
        "print(\"Provide numbers to add\")\n",
        "while in_var != -1:\n",
        "  in_var = float(input(\"Type '-1'15 to Calculate the Total of Input provided : \"))\n",
        "  in_var1 = float(in_var1) + float(in_var) \n",
        "\n",
        "print(in_var1 + 1)\n"
      ],
      "execution_count": 4,
      "outputs": [
        {
          "output_type": "stream",
          "text": [
            "Provide numbers to add\n",
            "Type '-1' to Calculate the Total of Input provided : 4\n",
            "Type '-1' to Calculate the Total of Input provided : 2.75\n",
            "Type '-1' to Calculate the Total of Input provided : 4\n",
            "Type '-1' to Calculate the Total of Input provided : 0.15\n",
            "Type '-1' to Calculate the Total of Input provided : 0.10\n",
            "Type '-1' to Calculate the Total of Input provided : -1\n",
            "11.0\n"
          ],
          "name": "stdout"
        }
      ]
    },
    {
      "cell_type": "markdown",
      "metadata": {
        "id": "LLeGrMcMj_OC"
      },
      "source": [
        "7. Given a number count the total number of digits in a\n",
        "number."
      ]
    },
    {
      "cell_type": "code",
      "metadata": {
        "colab": {
          "base_uri": "https://localhost:8080/"
        },
        "id": "V5pddO7okAgo",
        "outputId": "b27ee7d3-f829-4973-d511-376f84ab28e3"
      },
      "source": [
        "num1 = input(\"The numbers to Count the Number of Digits \")\n",
        "\n",
        "if num1.isdigit() == True:\n",
        "  print(f\"Total number of digits in {num1} are {len(num1)}\")\n",
        "else:\n",
        "  print(\"Input is not pure number\")"
      ],
      "execution_count": 5,
      "outputs": [
        {
          "output_type": "stream",
          "text": [
            "The numbers to Count the Number of Digits 123456789\n",
            "Total number of digits in 123456789 are 9\n"
          ],
          "name": "stdout"
        }
      ]
    },
    {
      "cell_type": "markdown",
      "metadata": {
        "id": "ap1_MQO5mgPo"
      },
      "source": [
        "8. Write a Python program to create the multiplication table\n",
        "(from 1 to 10) of a number."
      ]
    },
    {
      "cell_type": "code",
      "metadata": {
        "colab": {
          "base_uri": "https://localhost:8080/"
        },
        "id": "YSzpIxaWmi76",
        "outputId": "1a429ad2-251f-4729-83bc-a9ee317a088b"
      },
      "source": [
        "num4 = int(input(\"Generate Table of : \"))\n",
        "i=1\n",
        "while i <=10:\n",
        "    print(f\"{num4} x {i} = {num4 * i}\")\n",
        "    i=i+1"
      ],
      "execution_count": null,
      "outputs": [
        {
          "output_type": "stream",
          "text": [
            "Generate Table of : 1\n",
            "1 x 1 = 1\n",
            "1 x 2 = 2\n",
            "1 x 3 = 3\n",
            "1 x 4 = 4\n",
            "1 x 5 = 5\n",
            "1 x 6 = 6\n",
            "1 x 7 = 7\n",
            "1 x 8 = 8\n",
            "1 x 9 = 9\n",
            "1 x 10 = 10\n"
          ],
          "name": "stdout"
        }
      ]
    },
    {
      "cell_type": "markdown",
      "metadata": {
        "id": "DAuubokHqvaA"
      },
      "source": [
        "9 Reverse the following list using for loop\n",
        "list1 = [10, 20, 30, 40, 50]\n"
      ]
    },
    {
      "cell_type": "code",
      "metadata": {
        "colab": {
          "base_uri": "https://localhost:8080/"
        },
        "id": "EeW4J-XOqwfy",
        "outputId": "e2663a53-7ff8-43e0-93da-093f9c1e6609"
      },
      "source": [
        "list1 = [10,20,30,40,50]\n",
        "print(list1[::-1])"
      ],
      "execution_count": null,
      "outputs": [
        {
          "output_type": "stream",
          "text": [
            "[50, 40, 30, 20, 10]\n"
          ],
          "name": "stdout"
        }
      ]
    },
    {
      "cell_type": "markdown",
      "metadata": {
        "id": "sJUn3q2Nq9lB"
      },
      "source": [
        "10. Write a Python program to construct the following\n",
        "pattern, using a nested for loop.\n",
        "*\n",
        "* *\n",
        "* * *\n",
        "* * * *\n",
        "* * * * *\n",
        "* * * *\n",
        "* * *\n",
        "* *\n",
        "*\n"
      ]
    },
    {
      "cell_type": "code",
      "metadata": {
        "colab": {
          "base_uri": "https://localhost:8080/"
        },
        "id": "T48kMEyIrUZ7",
        "outputId": "5bd15b94-ef0e-4d88-9a0e-16350766d3b8"
      },
      "source": [
        "n=\"*\"\n",
        "\n",
        "for i in range(1,6):\n",
        "  for a in range(1,i+1):\n",
        "    print(n,end=\" \")\n",
        "  print() \n",
        "  \n",
        "for i1 in range(5,1,-1):\n",
        "  for a1 in range(1,i1):\n",
        "    print(n,end=\" \")\n",
        "  print()\n"
      ],
      "execution_count": null,
      "outputs": [
        {
          "output_type": "stream",
          "text": [
            "* \n",
            "* * \n",
            "* * * \n",
            "* * * * \n",
            "* * * * * \n",
            "* * * * \n",
            "* * * \n",
            "* * \n",
            "* \n"
          ],
          "name": "stdout"
        }
      ]
    },
    {
      "cell_type": "markdown",
      "metadata": {
        "id": "Rt4sUobfwmdv"
      },
      "source": [
        "11. Write a Python program that accepts a string and\n",
        "calculate the number of digits and letters.\n"
      ]
    },
    {
      "cell_type": "code",
      "metadata": {
        "colab": {
          "base_uri": "https://localhost:8080/"
        },
        "id": "bmH14LtlwoRt",
        "outputId": "bafe6428-260e-4547-96a2-1a74ac297ed5"
      },
      "source": [
        "string5 = input(\"Insert Mixed Input (numeric + characters) \")\n",
        "a=len(string5)\n",
        "w=0\n",
        "n=0\n",
        "\n",
        "for c in string5:\n",
        "  if c.isdigit():\n",
        "    n=n+1\n",
        "  elif c.isalpha():\n",
        "    w=w+1\n",
        "\n",
        "print(\"Total Numeric Charanter: \",n)\n",
        "print(\"Total Alphabetical Character: \",w)\n",
        "\n"
      ],
      "execution_count": null,
      "outputs": [
        {
          "output_type": "stream",
          "text": [
            "Insert Mixed Input (numeric + characters) Deepak 123 Singh 456\n",
            "Total Numeric Charanter:  6\n",
            "Total Alphabetical Character:  11\n"
          ],
          "name": "stdout"
        }
      ]
    },
    {
      "cell_type": "markdown",
      "metadata": {
        "id": "O08DadbKO5QT"
      },
      "source": [
        "12. From a list containing ints, strings and floats, make\n",
        "three lists to store them separately."
      ]
    },
    {
      "cell_type": "code",
      "metadata": {
        "colab": {
          "base_uri": "https://localhost:8080/"
        },
        "id": "DonwS_lqO6Dc",
        "outputId": "a7e36dbc-a9a8-4f56-f11d-ba1b9553f3a4"
      },
      "source": [
        "oglist = [2,3.5,\"how r u\",5,12.5]\n",
        "int1=[]\n",
        "flt1=[]\n",
        "str1=[]\n",
        "\n",
        "for i in oglist:\n",
        "  if type(i)==int:\n",
        "    int1.append(i)\n",
        "  elif type(i)==float:\n",
        "    flt1.append(i)\n",
        "  elif type(i)==str:\n",
        "    str1.append(i)\n",
        "\n",
        "print(\"This is Integer list :\",int1)\n",
        "print('This is Floating number list :',flt1)\n",
        "print('This is String :',str1)"
      ],
      "execution_count": 24,
      "outputs": [
        {
          "output_type": "stream",
          "text": [
            "This is Integer list : [2, 5]\n",
            "This is Floating number list : [3.5, 12.5]\n",
            "This is String : ['how r u']\n"
          ],
          "name": "stdout"
        }
      ]
    }
  ]
}