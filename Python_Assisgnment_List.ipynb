{
  "nbformat": 4,
  "nbformat_minor": 0,
  "metadata": {
    "colab": {
      "name": "Python Assisgnment - List.ipynb",
      "provenance": [],
      "collapsed_sections": []
    },
    "kernelspec": {
      "name": "python3",
      "display_name": "Python 3"
    }
  },
  "cells": [
    {
      "cell_type": "markdown",
      "metadata": {
        "id": "Hfd45_eTMmM1"
      },
      "source": [
        "1. City = [‘Gurgaon’, ’Mumbai’, ’Bangalore’]\n",
        "i) Print the second item from the list.\n",
        "ii) Change the value from \"Gurgaon\" to \"Kerala\"\n",
        "iii) Remove the last element of the list."
      ]
    },
    {
      "cell_type": "code",
      "metadata": {
        "colab": {
          "base_uri": "https://localhost:8080/"
        },
        "id": "dv8jOkTbMcY7",
        "outputId": "c4728b6e-eb50-4de6-a65d-345fd87c58ad"
      },
      "source": [
        "city = ['Gurgaon','Mumbai','Bangalore']\n",
        "\n",
        "#) Print the second item from the list\n",
        "print(city[1])\n",
        "\n",
        "#ii) Change the value from \"Gurgaon\" to \"Kerala\"\n",
        "for i,n in enumerate(city):\n",
        "  if n==\"Gurgaon\":\n",
        "    city[i]='Kerala'\n",
        "\n",
        "print(city)\n",
        "\n",
        "# iii) Remove the last element of the list.\n",
        "city.pop()\n",
        "print(city)"
      ],
      "execution_count": null,
      "outputs": [
        {
          "output_type": "stream",
          "text": [
            "Mumbai\n",
            "['Kerala', 'Mumbai', 'Bangalore']\n",
            "['Kerala', 'Mumbai']\n"
          ],
          "name": "stdout"
        }
      ]
    },
    {
      "cell_type": "markdown",
      "metadata": {
        "id": "KJ5HTH1wQNcT"
      },
      "source": [
        "2. Use negative indexing to print the last item in the list. Make\n",
        "a list by yourself.\n"
      ]
    },
    {
      "cell_type": "code",
      "metadata": {
        "colab": {
          "base_uri": "https://localhost:8080/"
        },
        "id": "hbfxmas7QOsx",
        "outputId": "37db17cf-6725-4060-ebdd-0982139a633e"
      },
      "source": [
        "food = ['rice','wheat','grains','crushed']\n",
        "print(food[-1])"
      ],
      "execution_count": null,
      "outputs": [
        {
          "output_type": "stream",
          "text": [
            "crushed\n"
          ],
          "name": "stdout"
        }
      ]
    },
    {
      "cell_type": "markdown",
      "metadata": {
        "id": "4nWGsYjFQq_p"
      },
      "source": [
        "3. Use a range of indexes to print the third, fourth, and fifth\n",
        "item in the list. Make a list by yourself."
      ]
    },
    {
      "cell_type": "code",
      "metadata": {
        "colab": {
          "base_uri": "https://localhost:8080/"
        },
        "id": "bf0OQMYpQsJ2",
        "outputId": "9c429b2b-d581-49f4-a549-f4e87536d697"
      },
      "source": [
        "food = ['rice','wheat','grains','crushed','vegetables','non-veg']\n",
        "print(food[2:5])"
      ],
      "execution_count": null,
      "outputs": [
        {
          "output_type": "stream",
          "text": [
            "['grains', 'crushed', 'vegetables']\n"
          ],
          "name": "stdout"
        }
      ]
    },
    {
      "cell_type": "markdown",
      "metadata": {
        "id": "eWhGf-3TSCgn"
      },
      "source": [
        "4. Remove the last element from the city list"
      ]
    },
    {
      "cell_type": "code",
      "metadata": {
        "colab": {
          "base_uri": "https://localhost:8080/"
        },
        "id": "vmLf2itiSDQn",
        "outputId": "b4a19c22-8abf-44f2-c2b6-9a00f8c3ee68"
      },
      "source": [
        "city.pop()\n",
        "print(city)"
      ],
      "execution_count": null,
      "outputs": [
        {
          "output_type": "stream",
          "text": [
            "['Kerala']\n"
          ],
          "name": "stdout"
        }
      ]
    },
    {
      "cell_type": "markdown",
      "metadata": {
        "id": "MqRbURxOSOAW"
      },
      "source": [
        "5. fruits=[‘apple’,’lichi’,’guava’,’cherry’,’mango’,’watermelo\n",
        "n’,’banana’]\n",
        "i ) Add \"orange\" at the end of the above list.\n",
        "ii) Add \"lemon\" as the second item in the fruits list"
      ]
    },
    {
      "cell_type": "code",
      "metadata": {
        "colab": {
          "base_uri": "https://localhost:8080/"
        },
        "id": "H0rInXwcSOob",
        "outputId": "6a189f03-df94-4e27-dd6e-25c3c5a26f28"
      },
      "source": [
        "fruits=['apple','lichi','guava','cherry','mango','watermelon','banana']\n",
        "\n",
        "#i ) Add \"orange\" at the end of the above list.\n",
        "fruits.append('orange')\n",
        "print(fruits)\n",
        "\n",
        "#ii) Add \"lemon\" as the second item in the fruits list\n",
        "fruits.insert(1,\"lemon\")\n",
        "print(fruits)\n"
      ],
      "execution_count": null,
      "outputs": [
        {
          "output_type": "stream",
          "text": [
            "['apple', 'lichi', 'guava', 'cherry', 'mango', 'watermelon', 'banana', 'orange']\n",
            "['apple', 'lemon', 'lichi', 'guava', 'cherry', 'mango', 'watermelon', 'banana', 'orange']\n"
          ],
          "name": "stdout"
        }
      ]
    },
    {
      "cell_type": "markdown",
      "metadata": {
        "id": "d2wZdTxzToQy"
      },
      "source": [
        "6. Remove ‘cherry’ from the fruit list given above."
      ]
    },
    {
      "cell_type": "code",
      "metadata": {
        "colab": {
          "base_uri": "https://localhost:8080/"
        },
        "id": "rJ4enhvPTo8x",
        "outputId": "94b1c9c0-061f-49a9-9d6f-04f2bf7c2024"
      },
      "source": [
        "for i1,v1 in enumerate(fruits):\n",
        "  if v1==\"cherry\":\n",
        "    fruits.pop(i1)\n",
        "\n",
        "print(fruits)"
      ],
      "execution_count": null,
      "outputs": [
        {
          "output_type": "stream",
          "text": [
            "['apple', 'lemon', 'lichi', 'guava', 'mango', 'watermelon', 'banana', 'orange']\n"
          ],
          "name": "stdout"
        }
      ]
    },
    {
      "cell_type": "markdown",
      "metadata": {
        "id": "GN5JOsGLUqYC"
      },
      "source": [
        "7. Write the python program to let the user input a list of\n",
        "numbers and print the list in descending order."
      ]
    },
    {
      "cell_type": "code",
      "metadata": {
        "colab": {
          "base_uri": "https://localhost:8080/"
        },
        "id": "aN1HktQpUrEA",
        "outputId": "5f95613f-bb3d-478b-8ffe-706d2a909ef7"
      },
      "source": [
        "list = []\n",
        "\n",
        "while True:\n",
        "  a=input(\"input number : \")\n",
        "  if a.isdigit() == False:\n",
        "    break;\n",
        "  list.append(a)\n",
        "\n",
        "list.sort(reverse=True)\n",
        "print(list)"
      ],
      "execution_count": null,
      "outputs": [
        {
          "output_type": "stream",
          "text": [
            "input number : 95\n",
            "input number : 99\n",
            "input number : 20\n",
            "input number : 45\n",
            "input number : a\n",
            "['99', '95', '45', '20']\n"
          ],
          "name": "stdout"
        }
      ]
    },
    {
      "cell_type": "markdown",
      "metadata": {
        "id": "aoTmE0fzE1sI"
      },
      "source": [
        "8. Write the python program to let the user input two lists and\n",
        "combine both the lists."
      ]
    },
    {
      "cell_type": "code",
      "metadata": {
        "colab": {
          "base_uri": "https://localhost:8080/"
        },
        "id": "w0GyN8WOE2bR",
        "outputId": "c7595906-2cad-4b88-d839-8326828cdb59"
      },
      "source": [
        "firstlist = []\n",
        "secondlist = []\n",
        "\n",
        "n=int(input(\"Enter Element in first List : \"))\n",
        "for i in range (0,n):\n",
        "  ele = int(input())\n",
        "  firstlist.append(ele)\n",
        "\n",
        "n1=int(input(\"Enter Element in second List : \"))\n",
        "for i in range (0,n1):\n",
        "  ele = int(input())\n",
        "  secondlist.append(ele)\n",
        "\n",
        "firstlist.extend(secondlist)\n",
        "print(\"Both list combined to give output as : \", firstlist)\n"
      ],
      "execution_count": null,
      "outputs": [
        {
          "output_type": "stream",
          "text": [
            "Enter Element in first List : 2\n",
            "12\n",
            "24\n",
            "Enter Element in second List : 3\n",
            "36\n",
            "48\n",
            "60\n",
            "Both list combined to give output as :  [12, 24, 36, 48, 60]\n"
          ],
          "name": "stdout"
        }
      ]
    },
    {
      "cell_type": "markdown",
      "metadata": {
        "id": "zhGsmtvqNJF-"
      },
      "source": [
        "9. List = [10, 45, 78, 11, 9, 23]. Shuffle this list."
      ]
    },
    {
      "cell_type": "code",
      "metadata": {
        "colab": {
          "base_uri": "https://localhost:8080/"
        },
        "id": "JhmA6wNKNJuV",
        "outputId": "6dd7c4d5-59c5-438e-c0d3-afe2ce065448"
      },
      "source": [
        "list = [10, 45, 78, 11, 9, 23]\n",
        "import random\n",
        "random.shuffle(list)\n",
        "print(\"Shuffled list : \",list)\n",
        "random.shuffle(list)\n",
        "print(\"re-Shuffled list : \",list)"
      ],
      "execution_count": null,
      "outputs": [
        {
          "output_type": "stream",
          "text": [
            "Shuffled list :  [9, 78, 45, 11, 23, 10]\n",
            "re-Shuffled list :  [10, 45, 78, 11, 9, 23]\n"
          ],
          "name": "stdout"
        }
      ]
    },
    {
      "cell_type": "markdown",
      "metadata": {
        "id": "yepkHdnoSh_u"
      },
      "source": [
        "10. x = [10, [3.141, 20, [30, 'baz', 2.718]], 'foo']\n",
        "\n",
        "i) What is the expression that returns the 'z' in 'baz'? \n",
        "\n",
        "ii) What expression returns the list ['baz', 2.718]?"
      ]
    },
    {
      "cell_type": "code",
      "metadata": {
        "colab": {
          "base_uri": "https://localhost:8080/"
        },
        "id": "Nk35lV7qS59X",
        "outputId": "f77cc39d-712e-4e04-f0ac-2fb524aa8ea5"
      },
      "source": [
        "x = [10, [3.141, 20, [30, 'baz', 2.718]], 'foo']\n",
        "\n",
        "#1.\n",
        "print(x[1][2][1][2])\n",
        "\n",
        "#2.\n",
        "print(x[1][2][-2:])  \n"
      ],
      "execution_count": null,
      "outputs": [
        {
          "output_type": "stream",
          "text": [
            "z\n",
            "['baz', 2.718]\n"
          ],
          "name": "stdout"
        }
      ]
    },
    {
      "cell_type": "markdown",
      "metadata": {
        "id": "avcfmHwylp6y"
      },
      "source": [
        "11. Extract element 20 from the above list."
      ]
    },
    {
      "cell_type": "code",
      "metadata": {
        "colab": {
          "base_uri": "https://localhost:8080/"
        },
        "id": "f9zMlLE3SimR",
        "outputId": "33fcc413-c778-485b-c662-eb6485993a69"
      },
      "source": [
        "x = [10, [3.141, 20, [30, 'baz', 2.718]], 'foo']\n",
        "print(x[1][1])"
      ],
      "execution_count": null,
      "outputs": [
        {
          "output_type": "stream",
          "text": [
            "20\n"
          ],
          "name": "stdout"
        }
      ]
    },
    {
      "cell_type": "markdown",
      "metadata": {
        "id": "B9LgbFBVl0K6"
      },
      "source": [
        "12. You have a list a = [1, 2, 7, 8]\n",
        "Write a Python statement using slice assignment that will fill in\n",
        "the missing values so that a equals [1, 2, 3, 4, 5, 6, 7, 8]"
      ]
    },
    {
      "cell_type": "code",
      "metadata": {
        "colab": {
          "base_uri": "https://localhost:8080/"
        },
        "id": "qEPR3w7ol0-f",
        "outputId": "e386dd47-4dbb-4046-a6d8-9e45d3c33975"
      },
      "source": [
        "a=[1,2,7,8]\n",
        "b=[3,4,5,6]\n",
        "a.extend(b)\n",
        "a.sort()\n",
        "print(a)"
      ],
      "execution_count": null,
      "outputs": [
        {
          "output_type": "stream",
          "text": [
            "[1, 2, 3, 4, 5, 6, 7, 8]\n"
          ],
          "name": "stdout"
        }
      ]
    }
  ]
}