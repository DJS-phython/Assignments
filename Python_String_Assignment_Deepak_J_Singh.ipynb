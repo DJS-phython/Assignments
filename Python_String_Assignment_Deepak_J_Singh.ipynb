{
  "nbformat": 4,
  "nbformat_minor": 0,
  "metadata": {
    "colab": {
      "name": "Python String Assignment - Deepak J Singh.ipynb",
      "provenance": [],
      "collapsed_sections": []
    },
    "kernelspec": {
      "name": "python3",
      "display_name": "Python 3"
    }
  },
  "cells": [
    {
      "cell_type": "markdown",
      "metadata": {
        "id": "wCskIyxhDLei"
      },
      "source": [
        "1. Define different types of variables (integer, boolean,\n",
        "string, float, complex) and print their values and their\n",
        "types"
      ]
    },
    {
      "cell_type": "code",
      "metadata": {
        "colab": {
          "base_uri": "https://localhost:8080/"
        },
        "id": "LT2TAIbHDOlb",
        "outputId": "0a734869-71ce-45dd-e1df-7a3a657d4286"
      },
      "source": [
        "int1=int(5)\n",
        "flt1=float(10)\n",
        "str1 = \"Deepak\"\n",
        "bool1 = bool(int1==flt1)\n",
        "comp1 = complex(int1,flt1)\n",
        "\n",
        "print(int1, flt1, str1,bool1, comp1)\n",
        "print(type(int1), type(flt1), type(str1), type(bool1),type(comp1))"
      ],
      "execution_count": null,
      "outputs": [
        {
          "output_type": "stream",
          "text": [
            "5 10.0 Deepak False (5+10j)\n",
            "<class 'int'> <class 'float'> <class 'str'> <class 'bool'> <class 'complex'>\n"
          ],
          "name": "stdout"
        }
      ]
    },
    {
      "cell_type": "markdown",
      "metadata": {
        "id": "fNpDqIqUFBhB"
      },
      "source": [
        "2. In the above question convert float variable into integer\n",
        "type and integer variable into str type."
      ]
    },
    {
      "cell_type": "code",
      "metadata": {
        "colab": {
          "base_uri": "https://localhost:8080/"
        },
        "id": "fDBE9MajFCJ5",
        "outputId": "876587ce-a153-4f31-950f-b8f18e383f92"
      },
      "source": [
        "flt_2_int = int(flt1)\n",
        "int_2_str = str(int1)\n",
        "print(flt_2_int, type(flt_2_int))\n",
        "print(int_2_str, type(int_2_str))"
      ],
      "execution_count": null,
      "outputs": [
        {
          "output_type": "stream",
          "text": [
            "10 <class 'int'>\n",
            "5 <class 'str'>\n"
          ],
          "name": "stdout"
        }
      ]
    },
    {
      "cell_type": "markdown",
      "metadata": {
        "id": "9omyMbQpFrAg"
      },
      "source": [
        "3. What will you get converting “abc” into boolean ?"
      ]
    },
    {
      "cell_type": "code",
      "metadata": {
        "colab": {
          "base_uri": "https://localhost:8080/"
        },
        "id": "80j0q4TnFrqS",
        "outputId": "8e3d0a63-9299-42fb-db5a-2d2920d35d69"
      },
      "source": [
        "print(bool(\"abc\"))"
      ],
      "execution_count": null,
      "outputs": [
        {
          "output_type": "stream",
          "text": [
            "True\n"
          ],
          "name": "stdout"
        }
      ]
    },
    {
      "cell_type": "markdown",
      "metadata": {
        "id": "iZmFGEe6F9qu"
      },
      "source": [
        "4. Print the substring from index 2 to index 4 for any given\n",
        "string. For example ( llo ) from “Hello World”"
      ]
    },
    {
      "cell_type": "code",
      "metadata": {
        "colab": {
          "base_uri": "https://localhost:8080/"
        },
        "id": "bEVyrprYF-gU",
        "outputId": "9b360b6a-9071-47df-f8f8-dc18b2f8a096"
      },
      "source": [
        "str3=input(\"Enter atleast 5 letter word to be printed as partial \")\n",
        "print(str3[2:5])"
      ],
      "execution_count": null,
      "outputs": [
        {
          "output_type": "stream",
          "text": [
            "Enter atleast 5 letter word to be printed as partial Hello World\n",
            "llo\n"
          ],
          "name": "stdout"
        }
      ]
    },
    {
      "cell_type": "markdown",
      "metadata": {
        "id": "tWXGGth2IHDh"
      },
      "source": [
        "5. Write a program to check a substring in a given string.\n",
        "For example 'e' is present in the word 'Umbrella'"
      ]
    },
    {
      "cell_type": "code",
      "metadata": {
        "colab": {
          "base_uri": "https://localhost:8080/"
        },
        "id": "wwKKxCXlIHnT",
        "outputId": "50dc2171-416f-4aff-e2db-6f0d5e085afc"
      },
      "source": [
        "str4 = input(\"Enter any word : \")\n",
        "var1 = input(\"Character to check in specified word :\")\n",
        "if var1 in str4:\n",
        "  print(f\"{var1} present in {str4}\")\n",
        "else:\n",
        "  print(\"Not Present\")"
      ],
      "execution_count": null,
      "outputs": [
        {
          "output_type": "stream",
          "text": [
            "Enter any word : Umbrella\n",
            "Character to check in specified word :e\n",
            "e present in Umbrella\n"
          ],
          "name": "stdout"
        }
      ]
    },
    {
      "cell_type": "markdown",
      "metadata": {
        "id": "39Zvl-3KKWlO"
      },
      "source": [
        "6. Use the correct comparison operator to check if 5 is not\n",
        "equal to 10.\n"
      ]
    },
    {
      "cell_type": "code",
      "metadata": {
        "colab": {
          "base_uri": "https://localhost:8080/"
        },
        "id": "gnIEMvI6KXb8",
        "outputId": "14d19f0d-48b2-473a-90f6-7909a9476684"
      },
      "source": [
        "a=5\n",
        "b=10\n",
        "print(a!=b)"
      ],
      "execution_count": null,
      "outputs": [
        {
          "output_type": "stream",
          "text": [
            "True\n"
          ],
          "name": "stdout"
        }
      ]
    },
    {
      "cell_type": "markdown",
      "metadata": {
        "id": "6NOztQlAKyrI"
      },
      "source": [
        "7. Write a program to get a string from the user and sort the\n",
        "words of the string in alphabetical order."
      ]
    },
    {
      "cell_type": "code",
      "metadata": {
        "colab": {
          "base_uri": "https://localhost:8080/"
        },
        "id": "TUNeqFYcK0Ez",
        "outputId": "44ec9d2a-c7c6-428c-b4f8-3bbc3761685d"
      },
      "source": [
        "str5=input(\"type any word \")\n",
        "\n",
        "print(sorted(str5))"
      ],
      "execution_count": null,
      "outputs": [
        {
          "output_type": "stream",
          "text": [
            "type any word zyx\n",
            "['x', 'y', 'z']\n"
          ],
          "name": "stdout"
        }
      ]
    },
    {
      "cell_type": "markdown",
      "metadata": {
        "id": "QuO43fRCMhHu"
      },
      "source": [
        "8. Join two words using special characters like ‘ – ‘ ,’#’"
      ]
    },
    {
      "cell_type": "code",
      "metadata": {
        "colab": {
          "base_uri": "https://localhost:8080/"
        },
        "id": "JR7C-lSeMhl7",
        "outputId": "553aba7d-b171-403c-aa0c-63366064c28c"
      },
      "source": [
        "#words = input(\"Enter your words :\")\n",
        "wor=\"deepak singh\"\n",
        "stuff = wor.split(\" \")\n",
        "\n",
        "print('-'.join(stuff))\n",
        "\n",
        "print(\"#\".join(stuff))\n"
      ],
      "execution_count": null,
      "outputs": [
        {
          "output_type": "stream",
          "text": [
            "deepak-singh\n",
            "deepak#singh\n"
          ],
          "name": "stdout"
        }
      ]
    },
    {
      "cell_type": "code",
      "metadata": {
        "id": "oNlwjbPWbFBi"
      },
      "source": [
        ""
      ],
      "execution_count": null,
      "outputs": []
    },
    {
      "cell_type": "markdown",
      "metadata": {
        "id": "gIPxIdFfPoPK"
      },
      "source": [
        "9. Find all occurrences of “INDIA” in a given string\n",
        "ignoring the case.\n",
        "input_str = \"Welcome to INDIA. india is awesome."
      ]
    },
    {
      "cell_type": "code",
      "metadata": {
        "id": "PqANevHqPouo",
        "colab": {
          "base_uri": "https://localhost:8080/"
        },
        "outputId": "6196edd4-b709-41b9-f0dd-e5482f3cc7b3"
      },
      "source": [
        "a = \"Welcome to INDIA. india is awesome.\"\n",
        "stuff1 = a.split(\" \")\n",
        "print(stuff1)\n",
        "i=\"india\"\n",
        "b=0\n",
        "for check1 in range(len(stuff1)):\n",
        "  if stuff1[check1] == \"india\":\n",
        "    b = b+1\n",
        "  continue\n",
        "\n",
        "print(\"Occurence of INDIA in given string is :\",b)\n",
        "\n",
        "# i understand there are 2 india but facing challenge to remove the \".\" and streamline the case.\n",
        "## Tried but this is it. Please assist with correct code on this\n"
      ],
      "execution_count": null,
      "outputs": [
        {
          "output_type": "stream",
          "text": [
            "['Welcome', 'to', 'INDIA.', 'india', 'is', 'awesome.']\n",
            "Occurence of INDIA in given string is : 1\n"
          ],
          "name": "stdout"
        }
      ]
    },
    {
      "cell_type": "markdown",
      "metadata": {
        "id": "dK7sqUe8wbrP"
      },
      "source": [
        "10. Replace first two ‘l’ with ‘n’ in ‘Hello World’"
      ]
    },
    {
      "cell_type": "code",
      "metadata": {
        "colab": {
          "base_uri": "https://localhost:8080/"
        },
        "id": "9ayij-pIwdUx",
        "outputId": "70f5fba5-ab75-4729-863a-6eda7d2b0155"
      },
      "source": [
        "str6 = \"hello world\"\n",
        "print(str6.replace(\"l\",\"n\",2))"
      ],
      "execution_count": null,
      "outputs": [
        {
          "output_type": "stream",
          "text": [
            "henno world\n"
          ],
          "name": "stdout"
        }
      ]
    },
    {
      "cell_type": "markdown",
      "metadata": {
        "id": "WFfZ1xba1XvA"
      },
      "source": [
        "11. Write a program that takes your full name as input and\n",
        "displays the abbreviations of the first and middle names\n",
        "except the last name which is displayed as it is. For\n",
        "example, if your name is Robert Brett Roser, then the\n",
        "output should be R.B.Roser."
      ]
    },
    {
      "cell_type": "code",
      "metadata": {
        "colab": {
          "base_uri": "https://localhost:8080/"
        },
        "id": "Rzu7Suxf1Ynq",
        "outputId": "c8a7cab3-7050-49ae-8774-cadf52fb4498"
      },
      "source": [
        "a=input(\"Enter full name: \")\n",
        "b=a.split(' ')\n",
        "c1=\"\"\n",
        "\n",
        "for i in range(len(b)-1): # this will consider the one less lenght then the total lenght of b variable\n",
        "  s=b[i]                  # This will store the first word\n",
        "  x=s[0]                  # This will store the first alphabet\n",
        "  c1+=x                   # This will update the variable c1 with first characters fetched above\n",
        "  #c1.append(x) \n",
        "\n",
        "print(\".\".join(c1),b[-1])\n",
        "\n",
        "## ****  close to the output but not satisfactory.\n",
        "## **** also need to understand why append is not working here\n"
      ],
      "execution_count": null,
      "outputs": [
        {
          "output_type": "stream",
          "text": [
            "Enter full name: Deepak J Singh\n",
            "D.J Singh\n"
          ],
          "name": "stdout"
        }
      ]
    },
    {
      "cell_type": "code",
      "metadata": {
        "id": "oG-mWXQREUYR"
      },
      "source": [
        ""
      ],
      "execution_count": null,
      "outputs": []
    },
    {
      "cell_type": "markdown",
      "metadata": {
        "id": "WuSxDsJAGUne"
      },
      "source": [
        "12. Write a program to check if a given string is a\n",
        "Palindrome.\n",
        "A palindrome reads the same from front and back e.g.-\n",
        "aba, ccaacc, mom, etc."
      ]
    },
    {
      "cell_type": "code",
      "metadata": {
        "colab": {
          "base_uri": "https://localhost:8080/"
        },
        "id": "Y9o9ThHYGVQ_",
        "outputId": "c61bacec-a89d-44ee-a990-6b66e65d866b"
      },
      "source": [
        "a=input(\"Text to check palindrome : \")\n",
        "b=(a[::-1])\n",
        "\n",
        "if b==a:\n",
        "  print(\"Its a Palindrome\")\n",
        "else:\n",
        "  print(\"Its not a Palindrome\")"
      ],
      "execution_count": null,
      "outputs": [
        {
          "output_type": "stream",
          "text": [
            "Text to check palindrome : aba\n",
            "Its a Palindrome\n"
          ],
          "name": "stdout"
        }
      ]
    }
  ]
}