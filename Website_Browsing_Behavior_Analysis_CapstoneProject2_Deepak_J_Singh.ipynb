{
  "nbformat": 4,
  "nbformat_minor": 0,
  "metadata": {
    "colab": {
      "name": "Website Browsing Behavior Analysis_CapstoneProject2 - Deepak J Singh.ipynb",
      "provenance": [],
      "collapsed_sections": []
    },
    "kernelspec": {
      "display_name": "Python 3",
      "language": "python",
      "name": "python3"
    },
    "language_info": {
      "codemirror_mode": {
        "name": "ipython",
        "version": 3
      },
      "file_extension": ".py",
      "mimetype": "text/x-python",
      "name": "python",
      "nbconvert_exporter": "python",
      "pygments_lexer": "ipython3",
      "version": "3.6.8"
    }
  },
  "cells": [
    {
      "cell_type": "markdown",
      "metadata": {
        "id": "KdL38tbkpinT"
      },
      "source": [
        "Website Behavior Analysis\n",
        "--\n",
        "\n",
        "**Problem**: The client is an online ecommerce player. They have shared a user level log data for their browsing behavior (Timestamp, UserId and website section visited). You have been provided with the final conversion data too (Timestamp, UserID, Products Purchased in the transaction, Overall Cart Value).\n",
        "\n",
        "**Task**: Based on this data you are required to build features and model on these characteristics of users to calculate a score/rank for conversion probability of that user."
      ]
    },
    {
      "cell_type": "code",
      "metadata": {
        "colab": {
          "base_uri": "https://localhost:8080/"
        },
        "id": "qufWfdoFpinW",
        "outputId": "5cccdda2-953c-4a7f-aaa0-2c02237be1d7"
      },
      "source": [
        "import pandas as pd\n",
        "import numpy as np\n",
        "\n",
        "import seaborn as sns\n",
        "import matplotlib.pyplot as plt\n",
        "%matplotlib inline\n",
        "\n",
        "import warnings\n",
        "warnings.filterwarnings('ignore')\n",
        "print('Libraries Import Succesfull')"
      ],
      "execution_count": null,
      "outputs": [
        {
          "output_type": "stream",
          "text": [
            "Libraries Import Succesfull\n"
          ],
          "name": "stdout"
        }
      ]
    },
    {
      "cell_type": "code",
      "metadata": {
        "colab": {
          "background_save": true,
          "resources": {
            "http://localhost:8080/nbextensions/google.colab/files.js": {
              "data": "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",
              "headers": [
                [
                  "content-type",
                  "application/javascript"
                ]
              ],
              "ok": true,
              "status": 200,
              "status_text": ""
            }
          },
          "base_uri": "https://localhost:8080/",
          "height": 56
        },
        "id": "9qTN5pLDuXry",
        "outputId": "46178058-b056-4c66-8ae7-bdad0269b933"
      },
      "source": [
        "from google.colab import files\n",
        "files.upload()"
      ],
      "execution_count": null,
      "outputs": [
        {
          "output_type": "display_data",
          "data": {
            "text/html": [
              "\n",
              "     <input type=\"file\" id=\"files-ef84710c-2076-4b31-a2bc-f1b7c5381ec7\" name=\"files[]\" multiple disabled\n",
              "        style=\"border:none\" />\n",
              "     <output id=\"result-ef84710c-2076-4b31-a2bc-f1b7c5381ec7\">\n",
              "      Upload widget is only available when the cell has been executed in the\n",
              "      current browser session. Please rerun this cell to enable.\n",
              "      </output>\n",
              "      <script src=\"/nbextensions/google.colab/files.js\"></script> "
            ],
            "text/plain": [
              "<IPython.core.display.HTML object>"
            ]
          },
          "metadata": {
            "tags": []
          }
        },
        {
          "output_type": "stream",
          "text": [
            "Saving Site_Browsing_Behavior.txt to Site_Browsing_Behavior (2).txt\n"
          ],
          "name": "stdout"
        }
      ]
    },
    {
      "cell_type": "code",
      "metadata": {
        "id": "Dp0l6x7mpinX"
      },
      "source": [
        "site_browsing = pd.read_csv('Site_Browing_Behavior.txt', delimiter='\\t', header=None) \n",
        "\n",
        "site_browsing.columns=['Timestamp', 'UserID','Website_section_visited']"
      ],
      "execution_count": null,
      "outputs": []
    },
    {
      "cell_type": "code",
      "metadata": {
        "id": "1NwPBSdjpinX",
        "outputId": "dd84d085-c510-4c2c-d8e3-aca9c2b22059"
      },
      "source": [
        "site_browsing.head()"
      ],
      "execution_count": null,
      "outputs": [
        {
          "output_type": "execute_result",
          "data": {
            "text/html": [
              "<div>\n",
              "<style scoped>\n",
              "    .dataframe tbody tr th:only-of-type {\n",
              "        vertical-align: middle;\n",
              "    }\n",
              "\n",
              "    .dataframe tbody tr th {\n",
              "        vertical-align: top;\n",
              "    }\n",
              "\n",
              "    .dataframe thead th {\n",
              "        text-align: right;\n",
              "    }\n",
              "</style>\n",
              "<table border=\"1\" class=\"dataframe\">\n",
              "  <thead>\n",
              "    <tr style=\"text-align: right;\">\n",
              "      <th></th>\n",
              "      <th>Timestamp</th>\n",
              "      <th>UserID</th>\n",
              "      <th>Website_section_visited</th>\n",
              "    </tr>\n",
              "  </thead>\n",
              "  <tbody>\n",
              "    <tr>\n",
              "      <th>0</th>\n",
              "      <td>2017-07-26 00:01:40.965</td>\n",
              "      <td>0</td>\n",
              "      <td>product</td>\n",
              "    </tr>\n",
              "    <tr>\n",
              "      <th>1</th>\n",
              "      <td>2017-07-26 00:03:18.448</td>\n",
              "      <td>0</td>\n",
              "      <td>product</td>\n",
              "    </tr>\n",
              "    <tr>\n",
              "      <th>2</th>\n",
              "      <td>2017-07-26 00:36:59.028</td>\n",
              "      <td>0</td>\n",
              "      <td>default</td>\n",
              "    </tr>\n",
              "    <tr>\n",
              "      <th>3</th>\n",
              "      <td>2017-07-26 00:41:17.273</td>\n",
              "      <td>0</td>\n",
              "      <td>product-listing-category</td>\n",
              "    </tr>\n",
              "    <tr>\n",
              "      <th>4</th>\n",
              "      <td>2017-07-26 00:45:39.197</td>\n",
              "      <td>0</td>\n",
              "      <td>content</td>\n",
              "    </tr>\n",
              "  </tbody>\n",
              "</table>\n",
              "</div>"
            ],
            "text/plain": [
              "                 Timestamp  UserID   Website_section_visited\n",
              "0  2017-07-26 00:01:40.965       0                   product\n",
              "1  2017-07-26 00:03:18.448       0                   product\n",
              "2  2017-07-26 00:36:59.028       0                   default\n",
              "3  2017-07-26 00:41:17.273       0  product-listing-category\n",
              "4  2017-07-26 00:45:39.197       0                   content"
            ]
          },
          "metadata": {
            "tags": []
          },
          "execution_count": 3
        }
      ]
    },
    {
      "cell_type": "code",
      "metadata": {
        "id": "qWL32ONhpinY",
        "outputId": "b4203608-9d6b-40c9-bdcc-093d898a84e1"
      },
      "source": [
        "## plotting and checking unique no. of sections on our web site\n",
        "plt.figure(figsize=(12,8))\n",
        "sns.countplot(site_browsing['Website_section_visited'])\n",
        "plt.xticks(rotation=90);"
      ],
      "execution_count": null,
      "outputs": [
        {
          "output_type": "display_data",
          "data": {
            "image/png": "[encoded data removed]",
            "text/plain": [
              "<Figure size 864x576 with 1 Axes>"
            ]
          },
          "metadata": {
            "tags": []
          }
        }
      ]
    },
    {
      "cell_type": "code",
      "metadata": {
        "id": "gw4Y30aSpinY",
        "outputId": "b1df891e-d916-4538-9e29-c0d331017ca8"
      },
      "source": [
        "print(\"Shape of Dataset : \",site_browsing.shape)"
      ],
      "execution_count": null,
      "outputs": [
        {
          "output_type": "stream",
          "text": [
            "Shape of Dataset :  (5535924, 3)\n"
          ],
          "name": "stdout"
        }
      ]
    },
    {
      "cell_type": "code",
      "metadata": {
        "id": "czVVvA6cpinY",
        "outputId": "100c37f1-03df-4b68-a5ed-6716cb656f08"
      },
      "source": [
        "site_browsing.isnull().sum()"
      ],
      "execution_count": null,
      "outputs": [
        {
          "output_type": "execute_result",
          "data": {
            "text/plain": [
              "Timestamp                  0\n",
              "UserID                     0\n",
              "Website_section_visited    0\n",
              "dtype: int64"
            ]
          },
          "metadata": {
            "tags": []
          },
          "execution_count": 6
        }
      ]
    },
    {
      "cell_type": "code",
      "metadata": {
        "id": "eeTrQoeHpinZ",
        "outputId": "f7327dca-ae1a-4378-b6a3-2876621d772f"
      },
      "source": [
        "site_browsing.info()"
      ],
      "execution_count": null,
      "outputs": [
        {
          "output_type": "stream",
          "text": [
            "<class 'pandas.core.frame.DataFrame'>\n",
            "RangeIndex: 5535924 entries, 0 to 5535923\n",
            "Data columns (total 3 columns):\n",
            " #   Column                   Dtype \n",
            "---  ------                   ----- \n",
            " 0   Timestamp                object\n",
            " 1   UserID                   int64 \n",
            " 2   Website_section_visited  object\n",
            "dtypes: int64(1), object(2)\n",
            "memory usage: 84.5+ MB\n"
          ],
          "name": "stdout"
        }
      ]
    },
    {
      "cell_type": "code",
      "metadata": {
        "id": "nQE4V0T0pinZ",
        "outputId": "7433c9f1-4048-4de2-8f4d-afd5598b0cab"
      },
      "source": [
        "#Number of UserIds in dataset\n",
        "site_browsing['UserID'].nunique()"
      ],
      "execution_count": null,
      "outputs": [
        {
          "output_type": "execute_result",
          "data": {
            "text/plain": [
              "516932"
            ]
          },
          "metadata": {
            "tags": []
          },
          "execution_count": 8
        }
      ]
    },
    {
      "cell_type": "code",
      "metadata": {
        "id": "51Z6tOd4pina",
        "outputId": "08bf2876-58fc-42cc-8a50-6f6397efe0dd"
      },
      "source": [
        "site_browsing['Website_section_visited'].value_counts()"
      ],
      "execution_count": null,
      "outputs": [
        {
          "output_type": "execute_result",
          "data": {
            "text/plain": [
              "product                     1855680\n",
              "product-listing-category     823365\n",
              "home                         752124\n",
              "default                      552025\n",
              "content                      488874\n",
              "iroa                         428497\n",
              "cart                         323325\n",
              "product-listing-search       262481\n",
              "shoplive                      35810\n",
              "productNotFound                9333\n",
              "product-listing-custom         2970\n",
              "signupcomplete                 1312\n",
              "mys                              63\n",
              "error                            60\n",
              "lorigreiner                       3\n",
              "wishlist                          1\n",
              "category                          1\n",
              "Name: Website_section_visited, dtype: int64"
            ]
          },
          "metadata": {
            "tags": []
          },
          "execution_count": 9
        }
      ]
    },
    {
      "cell_type": "code",
      "metadata": {
        "id": "zqPB3oIUpina",
        "outputId": "0853c6bd-e8a6-4ee7-cae9-e29feb1bce9e"
      },
      "source": [
        "# to analyse how many times an account visited\n",
        "Login_count = site_browsing.groupby('UserID').Website_section_visited.agg(['count']).reindex(\n",
        "    site_browsing.UserID).reset_index()\n",
        "\n",
        "Login_count.columns=['UserID','No_of_times_visited']\n",
        "\n",
        "Login_count.drop_duplicates(inplace=True)\n",
        "\n",
        "Login_count.head()"
      ],
      "execution_count": null,
      "outputs": [
        {
          "output_type": "execute_result",
          "data": {
            "text/html": [
              "<div>\n",
              "<style scoped>\n",
              "    .dataframe tbody tr th:only-of-type {\n",
              "        vertical-align: middle;\n",
              "    }\n",
              "\n",
              "    .dataframe tbody tr th {\n",
              "        vertical-align: top;\n",
              "    }\n",
              "\n",
              "    .dataframe thead th {\n",
              "        text-align: right;\n",
              "    }\n",
              "</style>\n",
              "<table border=\"1\" class=\"dataframe\">\n",
              "  <thead>\n",
              "    <tr style=\"text-align: right;\">\n",
              "      <th></th>\n",
              "      <th>UserID</th>\n",
              "      <th>No_of_times_visited</th>\n",
              "    </tr>\n",
              "  </thead>\n",
              "  <tbody>\n",
              "    <tr>\n",
              "      <th>0</th>\n",
              "      <td>0</td>\n",
              "      <td>1407879</td>\n",
              "    </tr>\n",
              "    <tr>\n",
              "      <th>101129</th>\n",
              "      <td>544439661706349</td>\n",
              "      <td>10</td>\n",
              "    </tr>\n",
              "    <tr>\n",
              "      <th>101130</th>\n",
              "      <td>634394594974068</td>\n",
              "      <td>19</td>\n",
              "    </tr>\n",
              "    <tr>\n",
              "      <th>101134</th>\n",
              "      <td>887103105578626</td>\n",
              "      <td>10</td>\n",
              "    </tr>\n",
              "    <tr>\n",
              "      <th>101136</th>\n",
              "      <td>962713767308725</td>\n",
              "      <td>18</td>\n",
              "    </tr>\n",
              "  </tbody>\n",
              "</table>\n",
              "</div>"
            ],
            "text/plain": [
              "                 UserID  No_of_times_visited\n",
              "0                     0              1407879\n",
              "101129  544439661706349                   10\n",
              "101130  634394594974068                   19\n",
              "101134  887103105578626                   10\n",
              "101136  962713767308725                   18"
            ]
          },
          "metadata": {
            "tags": []
          },
          "execution_count": 10
        }
      ]
    },
    {
      "cell_type": "markdown",
      "metadata": {
        "id": "mFZLKLG0pina"
      },
      "source": [
        "#### Reading Final_Conversion Dataset"
      ]
    },
    {
      "cell_type": "code",
      "metadata": {
        "id": "D7bXuqoypina",
        "outputId": "e9392f1a-2ac8-4a08-e5a9-c77671ba265d"
      },
      "source": [
        "final_conversion=pd.read_csv('datasets/Final_Conversions.txt', sep=\"\\t\", header = None)\n",
        "\n",
        "final_conversion.columns=['Timestamp', 'UserID', 'Products_Purchased', 'Cart_Value']\n",
        "\n",
        "final_conversion.head()"
      ],
      "execution_count": null,
      "outputs": [
        {
          "output_type": "execute_result",
          "data": {
            "text/html": [
              "<div>\n",
              "<style scoped>\n",
              "    .dataframe tbody tr th:only-of-type {\n",
              "        vertical-align: middle;\n",
              "    }\n",
              "\n",
              "    .dataframe tbody tr th {\n",
              "        vertical-align: top;\n",
              "    }\n",
              "\n",
              "    .dataframe thead th {\n",
              "        text-align: right;\n",
              "    }\n",
              "</style>\n",
              "<table border=\"1\" class=\"dataframe\">\n",
              "  <thead>\n",
              "    <tr style=\"text-align: right;\">\n",
              "      <th></th>\n",
              "      <th>Timestamp</th>\n",
              "      <th>UserID</th>\n",
              "      <th>Products_Purchased</th>\n",
              "      <th>Cart_Value</th>\n",
              "    </tr>\n",
              "  </thead>\n",
              "  <tbody>\n",
              "    <tr>\n",
              "      <th>0</th>\n",
              "      <td>2017-07-26 00:00:10.465</td>\n",
              "      <td>0</td>\n",
              "      <td>A293532</td>\n",
              "      <td>52.14</td>\n",
              "    </tr>\n",
              "    <tr>\n",
              "      <th>1</th>\n",
              "      <td>2017-07-26 00:00:12.301</td>\n",
              "      <td>0</td>\n",
              "      <td>H209597</td>\n",
              "      <td>31.50</td>\n",
              "    </tr>\n",
              "    <tr>\n",
              "      <th>2</th>\n",
              "      <td>2017-07-26 00:00:12.388</td>\n",
              "      <td>0</td>\n",
              "      <td>H211370</td>\n",
              "      <td>30.48</td>\n",
              "    </tr>\n",
              "    <tr>\n",
              "      <th>3</th>\n",
              "      <td>2017-07-26 00:00:14.389</td>\n",
              "      <td>0</td>\n",
              "      <td>A282331</td>\n",
              "      <td>51.00</td>\n",
              "    </tr>\n",
              "    <tr>\n",
              "      <th>4</th>\n",
              "      <td>2017-07-26 00:00:16.837</td>\n",
              "      <td>0</td>\n",
              "      <td>H211410</td>\n",
              "      <td>16.74</td>\n",
              "    </tr>\n",
              "  </tbody>\n",
              "</table>\n",
              "</div>"
            ],
            "text/plain": [
              "                 Timestamp  UserID Products_Purchased  Cart_Value\n",
              "0  2017-07-26 00:00:10.465       0            A293532       52.14\n",
              "1  2017-07-26 00:00:12.301       0            H209597       31.50\n",
              "2  2017-07-26 00:00:12.388       0            H211370       30.48\n",
              "3  2017-07-26 00:00:14.389       0            A282331       51.00\n",
              "4  2017-07-26 00:00:16.837       0            H211410       16.74"
            ]
          },
          "metadata": {
            "tags": []
          },
          "execution_count": 11
        }
      ]
    },
    {
      "cell_type": "code",
      "metadata": {
        "id": "dt5FrAHSpinb",
        "outputId": "659e3d2f-26e6-48c9-cd7f-db8c20196398"
      },
      "source": [
        "final_conversion.shape"
      ],
      "execution_count": null,
      "outputs": [
        {
          "output_type": "execute_result",
          "data": {
            "text/plain": [
              "(79795, 4)"
            ]
          },
          "metadata": {
            "tags": []
          },
          "execution_count": 12
        }
      ]
    },
    {
      "cell_type": "code",
      "metadata": {
        "id": "QOf5T2YHpinb"
      },
      "source": [
        "# Merging two Dataframes\n",
        "df_final = pd.merge(final_conversion,site_browsing, on=['UserID'], how='inner', left_index=True, right_index=True)\n"
      ],
      "execution_count": null,
      "outputs": []
    },
    {
      "cell_type": "code",
      "metadata": {
        "id": "8fQrbqTzpinb",
        "outputId": "3945c1a0-c558-4410-d903-c5c4747ec8a2"
      },
      "source": [
        "df_final.head()"
      ],
      "execution_count": null,
      "outputs": [
        {
          "output_type": "execute_result",
          "data": {
            "text/html": [
              "<div>\n",
              "<style scoped>\n",
              "    .dataframe tbody tr th:only-of-type {\n",
              "        vertical-align: middle;\n",
              "    }\n",
              "\n",
              "    .dataframe tbody tr th {\n",
              "        vertical-align: top;\n",
              "    }\n",
              "\n",
              "    .dataframe thead th {\n",
              "        text-align: right;\n",
              "    }\n",
              "</style>\n",
              "<table border=\"1\" class=\"dataframe\">\n",
              "  <thead>\n",
              "    <tr style=\"text-align: right;\">\n",
              "      <th></th>\n",
              "      <th>Timestamp_x</th>\n",
              "      <th>UserID</th>\n",
              "      <th>Products_Purchased</th>\n",
              "      <th>Cart_Value</th>\n",
              "      <th>Timestamp_y</th>\n",
              "      <th>Website_section_visited</th>\n",
              "    </tr>\n",
              "  </thead>\n",
              "  <tbody>\n",
              "    <tr>\n",
              "      <th>0</th>\n",
              "      <td>2017-07-26 00:00:10.465</td>\n",
              "      <td>0</td>\n",
              "      <td>A293532</td>\n",
              "      <td>52.14</td>\n",
              "      <td>2017-07-26 00:01:40.965</td>\n",
              "      <td>product</td>\n",
              "    </tr>\n",
              "    <tr>\n",
              "      <th>1</th>\n",
              "      <td>2017-07-26 00:00:12.301</td>\n",
              "      <td>0</td>\n",
              "      <td>H209597</td>\n",
              "      <td>31.50</td>\n",
              "      <td>2017-07-26 00:03:18.448</td>\n",
              "      <td>product</td>\n",
              "    </tr>\n",
              "    <tr>\n",
              "      <th>2</th>\n",
              "      <td>2017-07-26 00:00:12.388</td>\n",
              "      <td>0</td>\n",
              "      <td>H211370</td>\n",
              "      <td>30.48</td>\n",
              "      <td>2017-07-26 00:36:59.028</td>\n",
              "      <td>default</td>\n",
              "    </tr>\n",
              "    <tr>\n",
              "      <th>3</th>\n",
              "      <td>2017-07-26 00:00:14.389</td>\n",
              "      <td>0</td>\n",
              "      <td>A282331</td>\n",
              "      <td>51.00</td>\n",
              "      <td>2017-07-26 00:41:17.273</td>\n",
              "      <td>product-listing-category</td>\n",
              "    </tr>\n",
              "    <tr>\n",
              "      <th>4</th>\n",
              "      <td>2017-07-26 00:00:16.837</td>\n",
              "      <td>0</td>\n",
              "      <td>H211410</td>\n",
              "      <td>16.74</td>\n",
              "      <td>2017-07-26 00:45:39.197</td>\n",
              "      <td>content</td>\n",
              "    </tr>\n",
              "  </tbody>\n",
              "</table>\n",
              "</div>"
            ],
            "text/plain": [
              "               Timestamp_x  UserID Products_Purchased  Cart_Value  \\\n",
              "0  2017-07-26 00:00:10.465       0            A293532       52.14   \n",
              "1  2017-07-26 00:00:12.301       0            H209597       31.50   \n",
              "2  2017-07-26 00:00:12.388       0            H211370       30.48   \n",
              "3  2017-07-26 00:00:14.389       0            A282331       51.00   \n",
              "4  2017-07-26 00:00:16.837       0            H211410       16.74   \n",
              "\n",
              "               Timestamp_y   Website_section_visited  \n",
              "0  2017-07-26 00:01:40.965                   product  \n",
              "1  2017-07-26 00:03:18.448                   product  \n",
              "2  2017-07-26 00:36:59.028                   default  \n",
              "3  2017-07-26 00:41:17.273  product-listing-category  \n",
              "4  2017-07-26 00:45:39.197                   content  "
            ]
          },
          "metadata": {
            "tags": []
          },
          "execution_count": 14
        }
      ]
    },
    {
      "cell_type": "code",
      "metadata": {
        "id": "kAs_86OHpinb",
        "outputId": "baf57953-8726-469a-dcd8-58cd8835b202"
      },
      "source": [
        "# splitting last three values from timestamp\n",
        "df_final['Timestamp_x'] = df_final['Timestamp_x'].astype(str)\n",
        "df_final['Timestamp_y'] = df_final['Timestamp_y'].astype(str)\n",
        "\n",
        "df_final['Timestamp_x'] = df_final['Timestamp_x'].str.split('.' , expand=True)\n",
        "print(df_final['Timestamp_x'][:3])\n",
        "\n",
        "print(\"-------------------------------\")\n",
        "\n",
        "df_final['Timestamp_y'] = df_final['Timestamp_y'].str.split('.' , expand=True)\n",
        "print(df_final['Timestamp_y'][:3])"
      ],
      "execution_count": null,
      "outputs": [
        {
          "output_type": "stream",
          "text": [
            "0    2017-07-26 00:00:10\n",
            "1    2017-07-26 00:00:12\n",
            "2    2017-07-26 00:00:12\n",
            "Name: Timestamp_x, dtype: object\n",
            "-------------------------------\n",
            "0    2017-07-26 00:01:40\n",
            "1    2017-07-26 00:03:18\n",
            "2    2017-07-26 00:36:59\n",
            "Name: Timestamp_y, dtype: object\n"
          ],
          "name": "stdout"
        }
      ]
    },
    {
      "cell_type": "code",
      "metadata": {
        "id": "7v2K1hpApinc"
      },
      "source": [
        "df_final['Date_time_x'] = pd.to_datetime(df_final['Timestamp_x'])\n",
        "df_final['Date_time_y'] = pd.to_datetime(df_final['Timestamp_y'])"
      ],
      "execution_count": null,
      "outputs": []
    },
    {
      "cell_type": "code",
      "metadata": {
        "id": "FoLm1UpHpinc"
      },
      "source": [
        "#Time Conversion\n",
        "import datetime\n",
        "from datetime import timedelta\n",
        "\n",
        "def Time_conversion(df_final):\n",
        "    time_delta = df_final['Date_time_y'] - df_final['Date_time_x']\n",
        "        \n",
        "    total_seconds = time_delta.total_seconds()\n",
        "    \n",
        "    minutes = total_seconds/60\n",
        "    \n",
        "    return abs(minutes)"
      ],
      "execution_count": null,
      "outputs": []
    },
    {
      "cell_type": "code",
      "metadata": {
        "id": "eP-1wZFDpinc",
        "outputId": "2eb6bac0-ba16-41fd-9b4e-39b3c151ae0b"
      },
      "source": [
        "df_final['Time_spent_Minutes_day'] = df_final.apply(Time_conversion , axis=1)\n",
        "\n",
        "df_final.drop(['Timestamp_x','Timestamp_y','Date_time_x','Date_time_y'], axis=1, inplace=True)\n",
        "\n",
        "df_final.head()"
      ],
      "execution_count": null,
      "outputs": [
        {
          "output_type": "execute_result",
          "data": {
            "text/html": [
              "<div>\n",
              "<style scoped>\n",
              "    .dataframe tbody tr th:only-of-type {\n",
              "        vertical-align: middle;\n",
              "    }\n",
              "\n",
              "    .dataframe tbody tr th {\n",
              "        vertical-align: top;\n",
              "    }\n",
              "\n",
              "    .dataframe thead th {\n",
              "        text-align: right;\n",
              "    }\n",
              "</style>\n",
              "<table border=\"1\" class=\"dataframe\">\n",
              "  <thead>\n",
              "    <tr style=\"text-align: right;\">\n",
              "      <th></th>\n",
              "      <th>UserID</th>\n",
              "      <th>Products_Purchased</th>\n",
              "      <th>Cart_Value</th>\n",
              "      <th>Website_section_visited</th>\n",
              "      <th>Time_spent_Minutes_day</th>\n",
              "    </tr>\n",
              "  </thead>\n",
              "  <tbody>\n",
              "    <tr>\n",
              "      <th>0</th>\n",
              "      <td>0</td>\n",
              "      <td>A293532</td>\n",
              "      <td>52.14</td>\n",
              "      <td>product</td>\n",
              "      <td>1.500000</td>\n",
              "    </tr>\n",
              "    <tr>\n",
              "      <th>1</th>\n",
              "      <td>0</td>\n",
              "      <td>H209597</td>\n",
              "      <td>31.50</td>\n",
              "      <td>product</td>\n",
              "      <td>3.100000</td>\n",
              "    </tr>\n",
              "    <tr>\n",
              "      <th>2</th>\n",
              "      <td>0</td>\n",
              "      <td>H211370</td>\n",
              "      <td>30.48</td>\n",
              "      <td>default</td>\n",
              "      <td>36.783333</td>\n",
              "    </tr>\n",
              "    <tr>\n",
              "      <th>3</th>\n",
              "      <td>0</td>\n",
              "      <td>A282331</td>\n",
              "      <td>51.00</td>\n",
              "      <td>product-listing-category</td>\n",
              "      <td>41.050000</td>\n",
              "    </tr>\n",
              "    <tr>\n",
              "      <th>4</th>\n",
              "      <td>0</td>\n",
              "      <td>H211410</td>\n",
              "      <td>16.74</td>\n",
              "      <td>content</td>\n",
              "      <td>45.383333</td>\n",
              "    </tr>\n",
              "  </tbody>\n",
              "</table>\n",
              "</div>"
            ],
            "text/plain": [
              "   UserID Products_Purchased  Cart_Value   Website_section_visited  \\\n",
              "0       0            A293532       52.14                   product   \n",
              "1       0            H209597       31.50                   product   \n",
              "2       0            H211370       30.48                   default   \n",
              "3       0            A282331       51.00  product-listing-category   \n",
              "4       0            H211410       16.74                   content   \n",
              "\n",
              "   Time_spent_Minutes_day  \n",
              "0                1.500000  \n",
              "1                3.100000  \n",
              "2               36.783333  \n",
              "3               41.050000  \n",
              "4               45.383333  "
            ]
          },
          "metadata": {
            "tags": []
          },
          "execution_count": 18
        }
      ]
    },
    {
      "cell_type": "code",
      "metadata": {
        "id": "B5GJDZPapind",
        "outputId": "5903c4b3-c0b6-4df8-c153-cc00831c04df"
      },
      "source": [
        "# Total Money Spent by Each UserID\n",
        "df_cart = df_final.groupby('UserID')['Cart_Value'].agg(['sum']).reindex(df_final['UserID']).reset_index()\n",
        "\n",
        "df_cart.drop_duplicates(inplace=True)\n",
        "\n",
        "df_cart.columns = ['UserID','Total_cart_value']\n",
        "\n",
        "df_cart.head()"
      ],
      "execution_count": null,
      "outputs": [
        {
          "output_type": "execute_result",
          "data": {
            "text/html": [
              "<div>\n",
              "<style scoped>\n",
              "    .dataframe tbody tr th:only-of-type {\n",
              "        vertical-align: middle;\n",
              "    }\n",
              "\n",
              "    .dataframe tbody tr th {\n",
              "        vertical-align: top;\n",
              "    }\n",
              "\n",
              "    .dataframe thead th {\n",
              "        text-align: right;\n",
              "    }\n",
              "</style>\n",
              "<table border=\"1\" class=\"dataframe\">\n",
              "  <thead>\n",
              "    <tr style=\"text-align: right;\">\n",
              "      <th></th>\n",
              "      <th>UserID</th>\n",
              "      <th>Total_cart_value</th>\n",
              "    </tr>\n",
              "  </thead>\n",
              "  <tbody>\n",
              "    <tr>\n",
              "      <th>0</th>\n",
              "      <td>0</td>\n",
              "      <td>1375101.66</td>\n",
              "    </tr>\n",
              "    <tr>\n",
              "      <th>548</th>\n",
              "      <td>5942997097932061</td>\n",
              "      <td>157.95</td>\n",
              "    </tr>\n",
              "    <tr>\n",
              "      <th>549</th>\n",
              "      <td>23951842225160889</td>\n",
              "      <td>60.96</td>\n",
              "    </tr>\n",
              "    <tr>\n",
              "      <th>551</th>\n",
              "      <td>30833658052409950</td>\n",
              "      <td>216.12</td>\n",
              "    </tr>\n",
              "    <tr>\n",
              "      <th>552</th>\n",
              "      <td>33873861847792934</td>\n",
              "      <td>53.24</td>\n",
              "    </tr>\n",
              "  </tbody>\n",
              "</table>\n",
              "</div>"
            ],
            "text/plain": [
              "                UserID  Total_cart_value\n",
              "0                    0        1375101.66\n",
              "548   5942997097932061            157.95\n",
              "549  23951842225160889             60.96\n",
              "551  30833658052409950            216.12\n",
              "552  33873861847792934             53.24"
            ]
          },
          "metadata": {
            "tags": []
          },
          "execution_count": 19
        }
      ]
    },
    {
      "cell_type": "code",
      "metadata": {
        "id": "uStPwxNXpind",
        "outputId": "328a4cba-029a-43dc-eb09-1fcb1e5a74ca"
      },
      "source": [
        "# Total Transactions by Each UserID\n",
        "df_cart_Products=df_final.groupby('UserID')['Products_Purchased'].agg(['count']).reindex(df_final['UserID']).reset_index()\n",
        "\n",
        "df_cart_Products.drop_duplicates(inplace=True)\n",
        "\n",
        "df_cart_Products.columns=['UserID','Total_Products_Purchased']\n",
        "\n",
        "df_cart_Products.head()"
      ],
      "execution_count": null,
      "outputs": [
        {
          "output_type": "execute_result",
          "data": {
            "text/html": [
              "<div>\n",
              "<style scoped>\n",
              "    .dataframe tbody tr th:only-of-type {\n",
              "        vertical-align: middle;\n",
              "    }\n",
              "\n",
              "    .dataframe tbody tr th {\n",
              "        vertical-align: top;\n",
              "    }\n",
              "\n",
              "    .dataframe thead th {\n",
              "        text-align: right;\n",
              "    }\n",
              "</style>\n",
              "<table border=\"1\" class=\"dataframe\">\n",
              "  <thead>\n",
              "    <tr style=\"text-align: right;\">\n",
              "      <th></th>\n",
              "      <th>UserID</th>\n",
              "      <th>Total_Products_Purchased</th>\n",
              "    </tr>\n",
              "  </thead>\n",
              "  <tbody>\n",
              "    <tr>\n",
              "      <th>0</th>\n",
              "      <td>0</td>\n",
              "      <td>20197</td>\n",
              "    </tr>\n",
              "    <tr>\n",
              "      <th>548</th>\n",
              "      <td>5942997097932061</td>\n",
              "      <td>1</td>\n",
              "    </tr>\n",
              "    <tr>\n",
              "      <th>549</th>\n",
              "      <td>23951842225160889</td>\n",
              "      <td>2</td>\n",
              "    </tr>\n",
              "    <tr>\n",
              "      <th>551</th>\n",
              "      <td>30833658052409950</td>\n",
              "      <td>5</td>\n",
              "    </tr>\n",
              "    <tr>\n",
              "      <th>552</th>\n",
              "      <td>33873861847792934</td>\n",
              "      <td>1</td>\n",
              "    </tr>\n",
              "  </tbody>\n",
              "</table>\n",
              "</div>"
            ],
            "text/plain": [
              "                UserID  Total_Products_Purchased\n",
              "0                    0                     20197\n",
              "548   5942997097932061                         1\n",
              "549  23951842225160889                         2\n",
              "551  30833658052409950                         5\n",
              "552  33873861847792934                         1"
            ]
          },
          "metadata": {
            "tags": []
          },
          "execution_count": 20
        }
      ]
    },
    {
      "cell_type": "code",
      "metadata": {
        "id": "Il2Pbcwepine",
        "outputId": "4db2094f-fc9e-4d6a-8d7d-5685014b4c62"
      },
      "source": [
        "# Total Time spend by Each UserID\n",
        "df_cart_timestamp=df_final.groupby('UserID')['Time_spent_Minutes_day'].agg(['sum']).reindex(df_final['UserID']).reset_index()\n",
        "\n",
        "df_cart_timestamp.drop_duplicates(inplace=True)\n",
        "\n",
        "pd.set_option('display.float_format', lambda x: '%.3f' % x)\n",
        "\n",
        "df_cart_timestamp.columns=['UserID','Total_Time_Spent']\n",
        "\n",
        "df_cart_timestamp.head()"
      ],
      "execution_count": null,
      "outputs": [
        {
          "output_type": "execute_result",
          "data": {
            "text/html": [
              "<div>\n",
              "<style scoped>\n",
              "    .dataframe tbody tr th:only-of-type {\n",
              "        vertical-align: middle;\n",
              "    }\n",
              "\n",
              "    .dataframe tbody tr th {\n",
              "        vertical-align: top;\n",
              "    }\n",
              "\n",
              "    .dataframe thead th {\n",
              "        text-align: right;\n",
              "    }\n",
              "</style>\n",
              "<table border=\"1\" class=\"dataframe\">\n",
              "  <thead>\n",
              "    <tr style=\"text-align: right;\">\n",
              "      <th></th>\n",
              "      <th>UserID</th>\n",
              "      <th>Total_Time_Spent</th>\n",
              "    </tr>\n",
              "  </thead>\n",
              "  <tbody>\n",
              "    <tr>\n",
              "      <th>0</th>\n",
              "      <td>0</td>\n",
              "      <td>11780947.583</td>\n",
              "    </tr>\n",
              "    <tr>\n",
              "      <th>548</th>\n",
              "      <td>5942997097932061</td>\n",
              "      <td>0.450</td>\n",
              "    </tr>\n",
              "    <tr>\n",
              "      <th>549</th>\n",
              "      <td>23951842225160889</td>\n",
              "      <td>52.067</td>\n",
              "    </tr>\n",
              "    <tr>\n",
              "      <th>551</th>\n",
              "      <td>30833658052409950</td>\n",
              "      <td>381.183</td>\n",
              "    </tr>\n",
              "    <tr>\n",
              "      <th>552</th>\n",
              "      <td>33873861847792934</td>\n",
              "      <td>10.050</td>\n",
              "    </tr>\n",
              "  </tbody>\n",
              "</table>\n",
              "</div>"
            ],
            "text/plain": [
              "                UserID  Total_Time_Spent\n",
              "0                    0      11780947.583\n",
              "548   5942997097932061             0.450\n",
              "549  23951842225160889            52.067\n",
              "551  30833658052409950           381.183\n",
              "552  33873861847792934            10.050"
            ]
          },
          "metadata": {
            "tags": []
          },
          "execution_count": 21
        }
      ]
    },
    {
      "cell_type": "code",
      "metadata": {
        "id": "w8hd61QFpine",
        "outputId": "01f89784-623f-47c8-85ab-b5341ee7edec"
      },
      "source": [
        "df_final.head()"
      ],
      "execution_count": null,
      "outputs": [
        {
          "output_type": "execute_result",
          "data": {
            "text/html": [
              "<div>\n",
              "<style scoped>\n",
              "    .dataframe tbody tr th:only-of-type {\n",
              "        vertical-align: middle;\n",
              "    }\n",
              "\n",
              "    .dataframe tbody tr th {\n",
              "        vertical-align: top;\n",
              "    }\n",
              "\n",
              "    .dataframe thead th {\n",
              "        text-align: right;\n",
              "    }\n",
              "</style>\n",
              "<table border=\"1\" class=\"dataframe\">\n",
              "  <thead>\n",
              "    <tr style=\"text-align: right;\">\n",
              "      <th></th>\n",
              "      <th>UserID</th>\n",
              "      <th>Products_Purchased</th>\n",
              "      <th>Cart_Value</th>\n",
              "      <th>Website_section_visited</th>\n",
              "      <th>Time_spent_Minutes_day</th>\n",
              "    </tr>\n",
              "  </thead>\n",
              "  <tbody>\n",
              "    <tr>\n",
              "      <th>0</th>\n",
              "      <td>0</td>\n",
              "      <td>A293532</td>\n",
              "      <td>52.140</td>\n",
              "      <td>product</td>\n",
              "      <td>1.500</td>\n",
              "    </tr>\n",
              "    <tr>\n",
              "      <th>1</th>\n",
              "      <td>0</td>\n",
              "      <td>H209597</td>\n",
              "      <td>31.500</td>\n",
              "      <td>product</td>\n",
              "      <td>3.100</td>\n",
              "    </tr>\n",
              "    <tr>\n",
              "      <th>2</th>\n",
              "      <td>0</td>\n",
              "      <td>H211370</td>\n",
              "      <td>30.480</td>\n",
              "      <td>default</td>\n",
              "      <td>36.783</td>\n",
              "    </tr>\n",
              "    <tr>\n",
              "      <th>3</th>\n",
              "      <td>0</td>\n",
              "      <td>A282331</td>\n",
              "      <td>51.000</td>\n",
              "      <td>product-listing-category</td>\n",
              "      <td>41.050</td>\n",
              "    </tr>\n",
              "    <tr>\n",
              "      <th>4</th>\n",
              "      <td>0</td>\n",
              "      <td>H211410</td>\n",
              "      <td>16.740</td>\n",
              "      <td>content</td>\n",
              "      <td>45.383</td>\n",
              "    </tr>\n",
              "  </tbody>\n",
              "</table>\n",
              "</div>"
            ],
            "text/plain": [
              "   UserID Products_Purchased  Cart_Value   Website_section_visited  \\\n",
              "0       0            A293532      52.140                   product   \n",
              "1       0            H209597      31.500                   product   \n",
              "2       0            H211370      30.480                   default   \n",
              "3       0            A282331      51.000  product-listing-category   \n",
              "4       0            H211410      16.740                   content   \n",
              "\n",
              "   Time_spent_Minutes_day  \n",
              "0                   1.500  \n",
              "1                   3.100  \n",
              "2                  36.783  \n",
              "3                  41.050  \n",
              "4                  45.383  "
            ]
          },
          "metadata": {
            "tags": []
          },
          "execution_count": 22
        }
      ]
    },
    {
      "cell_type": "code",
      "metadata": {
        "id": "y1EpToeGpine",
        "outputId": "718953f5-2679-4470-f64d-c6794641b5fb"
      },
      "source": [
        "# Merging 4 dataset with\n",
        "df_final.drop_duplicates(subset='UserID', keep=\"first\",inplace=True)\n",
        "\n",
        "df_final=pd.merge(df_final,df_cart, on=['UserID'], how='inner', left_index=True, right_index=True)\n",
        "\n",
        "df_final=pd.merge(df_final,df_cart_Products, on=['UserID'], how='inner', left_index=True, right_index=True)\n",
        "\n",
        "df_final=pd.merge(df_final,df_cart_timestamp, on=['UserID'], how='inner', left_index=True, right_index=True)\n",
        "\n",
        "df_final=pd.merge(df_final,Login_count, on=['UserID'], how='inner')\n",
        "\n",
        "df_final.head()"
      ],
      "execution_count": null,
      "outputs": [
        {
          "output_type": "execute_result",
          "data": {
            "text/html": [
              "<div>\n",
              "<style scoped>\n",
              "    .dataframe tbody tr th:only-of-type {\n",
              "        vertical-align: middle;\n",
              "    }\n",
              "\n",
              "    .dataframe tbody tr th {\n",
              "        vertical-align: top;\n",
              "    }\n",
              "\n",
              "    .dataframe thead th {\n",
              "        text-align: right;\n",
              "    }\n",
              "</style>\n",
              "<table border=\"1\" class=\"dataframe\">\n",
              "  <thead>\n",
              "    <tr style=\"text-align: right;\">\n",
              "      <th></th>\n",
              "      <th>UserID</th>\n",
              "      <th>Products_Purchased</th>\n",
              "      <th>Cart_Value</th>\n",
              "      <th>Website_section_visited</th>\n",
              "      <th>Time_spent_Minutes_day</th>\n",
              "      <th>Total_cart_value</th>\n",
              "      <th>Total_Products_Purchased</th>\n",
              "      <th>Total_Time_Spent</th>\n",
              "      <th>No_of_times_visited</th>\n",
              "    </tr>\n",
              "  </thead>\n",
              "  <tbody>\n",
              "    <tr>\n",
              "      <th>0</th>\n",
              "      <td>0</td>\n",
              "      <td>A293532</td>\n",
              "      <td>52.140</td>\n",
              "      <td>product</td>\n",
              "      <td>1.500</td>\n",
              "      <td>1375101.660</td>\n",
              "      <td>20197</td>\n",
              "      <td>11780947.583</td>\n",
              "      <td>1407879</td>\n",
              "    </tr>\n",
              "    <tr>\n",
              "      <th>1</th>\n",
              "      <td>23951842225160889</td>\n",
              "      <td>H211370</td>\n",
              "      <td>33.480</td>\n",
              "      <td>product-listing-search</td>\n",
              "      <td>26.033</td>\n",
              "      <td>60.960</td>\n",
              "      <td>2</td>\n",
              "      <td>52.067</td>\n",
              "      <td>8</td>\n",
              "    </tr>\n",
              "    <tr>\n",
              "      <th>2</th>\n",
              "      <td>30833658052409950</td>\n",
              "      <td>H211394</td>\n",
              "      <td>44.680</td>\n",
              "      <td>content</td>\n",
              "      <td>54.917</td>\n",
              "      <td>216.120</td>\n",
              "      <td>5</td>\n",
              "      <td>381.183</td>\n",
              "      <td>13</td>\n",
              "    </tr>\n",
              "    <tr>\n",
              "      <th>3</th>\n",
              "      <td>33873861847792934</td>\n",
              "      <td>H211800</td>\n",
              "      <td>53.240</td>\n",
              "      <td>product</td>\n",
              "      <td>10.050</td>\n",
              "      <td>53.240</td>\n",
              "      <td>1</td>\n",
              "      <td>10.050</td>\n",
              "      <td>5</td>\n",
              "    </tr>\n",
              "    <tr>\n",
              "      <th>4</th>\n",
              "      <td>42949238806579040</td>\n",
              "      <td>A286591</td>\n",
              "      <td>30.000</td>\n",
              "      <td>default</td>\n",
              "      <td>14.433</td>\n",
              "      <td>52.480</td>\n",
              "      <td>2</td>\n",
              "      <td>1424.217</td>\n",
              "      <td>20</td>\n",
              "    </tr>\n",
              "  </tbody>\n",
              "</table>\n",
              "</div>"
            ],
            "text/plain": [
              "              UserID Products_Purchased  Cart_Value Website_section_visited  \\\n",
              "0                  0            A293532      52.140                 product   \n",
              "1  23951842225160889            H211370      33.480  product-listing-search   \n",
              "2  30833658052409950            H211394      44.680                 content   \n",
              "3  33873861847792934            H211800      53.240                 product   \n",
              "4  42949238806579040            A286591      30.000                 default   \n",
              "\n",
              "   Time_spent_Minutes_day  Total_cart_value  Total_Products_Purchased  \\\n",
              "0                   1.500       1375101.660                     20197   \n",
              "1                  26.033            60.960                         2   \n",
              "2                  54.917           216.120                         5   \n",
              "3                  10.050            53.240                         1   \n",
              "4                  14.433            52.480                         2   \n",
              "\n",
              "   Total_Time_Spent  No_of_times_visited  \n",
              "0      11780947.583              1407879  \n",
              "1            52.067                    8  \n",
              "2           381.183                   13  \n",
              "3            10.050                    5  \n",
              "4          1424.217                   20  "
            ]
          },
          "metadata": {
            "tags": []
          },
          "execution_count": 23
        }
      ]
    },
    {
      "cell_type": "code",
      "metadata": {
        "id": "VoVbk_y4pinf"
      },
      "source": [
        "df_final.drop(['Products_Purchased','Cart_Value',\n",
        "               'Website_section_visited','Time_spent_Minutes_day'],axis=1,inplace=True)"
      ],
      "execution_count": null,
      "outputs": []
    },
    {
      "cell_type": "code",
      "metadata": {
        "id": "rnZl0wmepinf",
        "outputId": "e0229018-c9f5-4ca8-ba4b-6d1ba7573744"
      },
      "source": [
        "df_final.head()"
      ],
      "execution_count": null,
      "outputs": [
        {
          "output_type": "execute_result",
          "data": {
            "text/html": [
              "<div>\n",
              "<style scoped>\n",
              "    .dataframe tbody tr th:only-of-type {\n",
              "        vertical-align: middle;\n",
              "    }\n",
              "\n",
              "    .dataframe tbody tr th {\n",
              "        vertical-align: top;\n",
              "    }\n",
              "\n",
              "    .dataframe thead th {\n",
              "        text-align: right;\n",
              "    }\n",
              "</style>\n",
              "<table border=\"1\" class=\"dataframe\">\n",
              "  <thead>\n",
              "    <tr style=\"text-align: right;\">\n",
              "      <th></th>\n",
              "      <th>UserID</th>\n",
              "      <th>Total_cart_value</th>\n",
              "      <th>Total_Products_Purchased</th>\n",
              "      <th>Total_Time_Spent</th>\n",
              "      <th>No_of_times_visited</th>\n",
              "    </tr>\n",
              "  </thead>\n",
              "  <tbody>\n",
              "    <tr>\n",
              "      <th>0</th>\n",
              "      <td>0</td>\n",
              "      <td>1375101.660</td>\n",
              "      <td>20197</td>\n",
              "      <td>11780947.583</td>\n",
              "      <td>1407879</td>\n",
              "    </tr>\n",
              "    <tr>\n",
              "      <th>1</th>\n",
              "      <td>23951842225160889</td>\n",
              "      <td>60.960</td>\n",
              "      <td>2</td>\n",
              "      <td>52.067</td>\n",
              "      <td>8</td>\n",
              "    </tr>\n",
              "    <tr>\n",
              "      <th>2</th>\n",
              "      <td>30833658052409950</td>\n",
              "      <td>216.120</td>\n",
              "      <td>5</td>\n",
              "      <td>381.183</td>\n",
              "      <td>13</td>\n",
              "    </tr>\n",
              "    <tr>\n",
              "      <th>3</th>\n",
              "      <td>33873861847792934</td>\n",
              "      <td>53.240</td>\n",
              "      <td>1</td>\n",
              "      <td>10.050</td>\n",
              "      <td>5</td>\n",
              "    </tr>\n",
              "    <tr>\n",
              "      <th>4</th>\n",
              "      <td>42949238806579040</td>\n",
              "      <td>52.480</td>\n",
              "      <td>2</td>\n",
              "      <td>1424.217</td>\n",
              "      <td>20</td>\n",
              "    </tr>\n",
              "  </tbody>\n",
              "</table>\n",
              "</div>"
            ],
            "text/plain": [
              "              UserID  Total_cart_value  Total_Products_Purchased  \\\n",
              "0                  0       1375101.660                     20197   \n",
              "1  23951842225160889            60.960                         2   \n",
              "2  30833658052409950           216.120                         5   \n",
              "3  33873861847792934            53.240                         1   \n",
              "4  42949238806579040            52.480                         2   \n",
              "\n",
              "   Total_Time_Spent  No_of_times_visited  \n",
              "0      11780947.583              1407879  \n",
              "1            52.067                    8  \n",
              "2           381.183                   13  \n",
              "3            10.050                    5  \n",
              "4          1424.217                   20  "
            ]
          },
          "metadata": {
            "tags": []
          },
          "execution_count": 25
        }
      ]
    },
    {
      "cell_type": "code",
      "metadata": {
        "id": "j9IU2QQYpinf",
        "outputId": "055ef4fe-ceff-434e-a13b-f32a7ae1bb3f"
      },
      "source": [
        "#Buy Probability\n",
        "df_final['Buy_probability'] = (df_final['Total_Products_Purchased']/df_final['No_of_times_visited'])\n",
        "df_final.head()"
      ],
      "execution_count": null,
      "outputs": [
        {
          "output_type": "execute_result",
          "data": {
            "text/html": [
              "<div>\n",
              "<style scoped>\n",
              "    .dataframe tbody tr th:only-of-type {\n",
              "        vertical-align: middle;\n",
              "    }\n",
              "\n",
              "    .dataframe tbody tr th {\n",
              "        vertical-align: top;\n",
              "    }\n",
              "\n",
              "    .dataframe thead th {\n",
              "        text-align: right;\n",
              "    }\n",
              "</style>\n",
              "<table border=\"1\" class=\"dataframe\">\n",
              "  <thead>\n",
              "    <tr style=\"text-align: right;\">\n",
              "      <th></th>\n",
              "      <th>UserID</th>\n",
              "      <th>Total_cart_value</th>\n",
              "      <th>Total_Products_Purchased</th>\n",
              "      <th>Total_Time_Spent</th>\n",
              "      <th>No_of_times_visited</th>\n",
              "      <th>Buy_probability</th>\n",
              "    </tr>\n",
              "  </thead>\n",
              "  <tbody>\n",
              "    <tr>\n",
              "      <th>0</th>\n",
              "      <td>0</td>\n",
              "      <td>1375101.660</td>\n",
              "      <td>20197</td>\n",
              "      <td>11780947.583</td>\n",
              "      <td>1407879</td>\n",
              "      <td>0.014</td>\n",
              "    </tr>\n",
              "    <tr>\n",
              "      <th>1</th>\n",
              "      <td>23951842225160889</td>\n",
              "      <td>60.960</td>\n",
              "      <td>2</td>\n",
              "      <td>52.067</td>\n",
              "      <td>8</td>\n",
              "      <td>0.250</td>\n",
              "    </tr>\n",
              "    <tr>\n",
              "      <th>2</th>\n",
              "      <td>30833658052409950</td>\n",
              "      <td>216.120</td>\n",
              "      <td>5</td>\n",
              "      <td>381.183</td>\n",
              "      <td>13</td>\n",
              "      <td>0.385</td>\n",
              "    </tr>\n",
              "    <tr>\n",
              "      <th>3</th>\n",
              "      <td>33873861847792934</td>\n",
              "      <td>53.240</td>\n",
              "      <td>1</td>\n",
              "      <td>10.050</td>\n",
              "      <td>5</td>\n",
              "      <td>0.200</td>\n",
              "    </tr>\n",
              "    <tr>\n",
              "      <th>4</th>\n",
              "      <td>42949238806579040</td>\n",
              "      <td>52.480</td>\n",
              "      <td>2</td>\n",
              "      <td>1424.217</td>\n",
              "      <td>20</td>\n",
              "      <td>0.100</td>\n",
              "    </tr>\n",
              "  </tbody>\n",
              "</table>\n",
              "</div>"
            ],
            "text/plain": [
              "              UserID  Total_cart_value  Total_Products_Purchased  \\\n",
              "0                  0       1375101.660                     20197   \n",
              "1  23951842225160889            60.960                         2   \n",
              "2  30833658052409950           216.120                         5   \n",
              "3  33873861847792934            53.240                         1   \n",
              "4  42949238806579040            52.480                         2   \n",
              "\n",
              "   Total_Time_Spent  No_of_times_visited  Buy_probability  \n",
              "0      11780947.583              1407879            0.014  \n",
              "1            52.067                    8            0.250  \n",
              "2           381.183                   13            0.385  \n",
              "3            10.050                    5            0.200  \n",
              "4          1424.217                   20            0.100  "
            ]
          },
          "metadata": {
            "tags": []
          },
          "execution_count": 26
        }
      ]
    },
    {
      "cell_type": "code",
      "metadata": {
        "id": "G5GXVtc_pinf",
        "outputId": "d58b3d0d-4959-4429-8828-c13c40366a61"
      },
      "source": [
        "#User Rank Score\n",
        "df_final['User_Score_Rank']=(df_final['Buy_probability']*df_final['Total_cart_value'])\n",
        "df_final.head()"
      ],
      "execution_count": null,
      "outputs": [
        {
          "output_type": "execute_result",
          "data": {
            "text/html": [
              "<div>\n",
              "<style scoped>\n",
              "    .dataframe tbody tr th:only-of-type {\n",
              "        vertical-align: middle;\n",
              "    }\n",
              "\n",
              "    .dataframe tbody tr th {\n",
              "        vertical-align: top;\n",
              "    }\n",
              "\n",
              "    .dataframe thead th {\n",
              "        text-align: right;\n",
              "    }\n",
              "</style>\n",
              "<table border=\"1\" class=\"dataframe\">\n",
              "  <thead>\n",
              "    <tr style=\"text-align: right;\">\n",
              "      <th></th>\n",
              "      <th>UserID</th>\n",
              "      <th>Total_cart_value</th>\n",
              "      <th>Total_Products_Purchased</th>\n",
              "      <th>Total_Time_Spent</th>\n",
              "      <th>No_of_times_visited</th>\n",
              "      <th>Buy_probability</th>\n",
              "      <th>User_Score_Rank</th>\n",
              "    </tr>\n",
              "  </thead>\n",
              "  <tbody>\n",
              "    <tr>\n",
              "      <th>0</th>\n",
              "      <td>0</td>\n",
              "      <td>1375101.660</td>\n",
              "      <td>20197</td>\n",
              "      <td>11780947.583</td>\n",
              "      <td>1407879</td>\n",
              "      <td>0.014</td>\n",
              "      <td>19726.786</td>\n",
              "    </tr>\n",
              "    <tr>\n",
              "      <th>1</th>\n",
              "      <td>23951842225160889</td>\n",
              "      <td>60.960</td>\n",
              "      <td>2</td>\n",
              "      <td>52.067</td>\n",
              "      <td>8</td>\n",
              "      <td>0.250</td>\n",
              "      <td>15.240</td>\n",
              "    </tr>\n",
              "    <tr>\n",
              "      <th>2</th>\n",
              "      <td>30833658052409950</td>\n",
              "      <td>216.120</td>\n",
              "      <td>5</td>\n",
              "      <td>381.183</td>\n",
              "      <td>13</td>\n",
              "      <td>0.385</td>\n",
              "      <td>83.123</td>\n",
              "    </tr>\n",
              "    <tr>\n",
              "      <th>3</th>\n",
              "      <td>33873861847792934</td>\n",
              "      <td>53.240</td>\n",
              "      <td>1</td>\n",
              "      <td>10.050</td>\n",
              "      <td>5</td>\n",
              "      <td>0.200</td>\n",
              "      <td>10.648</td>\n",
              "    </tr>\n",
              "    <tr>\n",
              "      <th>4</th>\n",
              "      <td>42949238806579040</td>\n",
              "      <td>52.480</td>\n",
              "      <td>2</td>\n",
              "      <td>1424.217</td>\n",
              "      <td>20</td>\n",
              "      <td>0.100</td>\n",
              "      <td>5.248</td>\n",
              "    </tr>\n",
              "  </tbody>\n",
              "</table>\n",
              "</div>"
            ],
            "text/plain": [
              "              UserID  Total_cart_value  Total_Products_Purchased  \\\n",
              "0                  0       1375101.660                     20197   \n",
              "1  23951842225160889            60.960                         2   \n",
              "2  30833658052409950           216.120                         5   \n",
              "3  33873861847792934            53.240                         1   \n",
              "4  42949238806579040            52.480                         2   \n",
              "\n",
              "   Total_Time_Spent  No_of_times_visited  Buy_probability  User_Score_Rank  \n",
              "0      11780947.583              1407879            0.014        19726.786  \n",
              "1            52.067                    8            0.250           15.240  \n",
              "2           381.183                   13            0.385           83.123  \n",
              "3            10.050                    5            0.200           10.648  \n",
              "4          1424.217                   20            0.100            5.248  "
            ]
          },
          "metadata": {
            "tags": []
          },
          "execution_count": 27
        }
      ]
    },
    {
      "cell_type": "code",
      "metadata": {
        "id": "_oZoApEdpinf",
        "outputId": "90f39b99-c9d4-4cf8-b3bc-ca56f5db513b"
      },
      "source": [
        "# Dropping first row\n",
        "df_final.drop(df_final.index[0],inplace=True)\n",
        "df_final.head()"
      ],
      "execution_count": null,
      "outputs": [
        {
          "output_type": "execute_result",
          "data": {
            "text/html": [
              "<div>\n",
              "<style scoped>\n",
              "    .dataframe tbody tr th:only-of-type {\n",
              "        vertical-align: middle;\n",
              "    }\n",
              "\n",
              "    .dataframe tbody tr th {\n",
              "        vertical-align: top;\n",
              "    }\n",
              "\n",
              "    .dataframe thead th {\n",
              "        text-align: right;\n",
              "    }\n",
              "</style>\n",
              "<table border=\"1\" class=\"dataframe\">\n",
              "  <thead>\n",
              "    <tr style=\"text-align: right;\">\n",
              "      <th></th>\n",
              "      <th>UserID</th>\n",
              "      <th>Total_cart_value</th>\n",
              "      <th>Total_Products_Purchased</th>\n",
              "      <th>Total_Time_Spent</th>\n",
              "      <th>No_of_times_visited</th>\n",
              "      <th>Buy_probability</th>\n",
              "      <th>User_Score_Rank</th>\n",
              "    </tr>\n",
              "  </thead>\n",
              "  <tbody>\n",
              "    <tr>\n",
              "      <th>1</th>\n",
              "      <td>23951842225160889</td>\n",
              "      <td>60.960</td>\n",
              "      <td>2</td>\n",
              "      <td>52.067</td>\n",
              "      <td>8</td>\n",
              "      <td>0.250</td>\n",
              "      <td>15.240</td>\n",
              "    </tr>\n",
              "    <tr>\n",
              "      <th>2</th>\n",
              "      <td>30833658052409950</td>\n",
              "      <td>216.120</td>\n",
              "      <td>5</td>\n",
              "      <td>381.183</td>\n",
              "      <td>13</td>\n",
              "      <td>0.385</td>\n",
              "      <td>83.123</td>\n",
              "    </tr>\n",
              "    <tr>\n",
              "      <th>3</th>\n",
              "      <td>33873861847792934</td>\n",
              "      <td>53.240</td>\n",
              "      <td>1</td>\n",
              "      <td>10.050</td>\n",
              "      <td>5</td>\n",
              "      <td>0.200</td>\n",
              "      <td>10.648</td>\n",
              "    </tr>\n",
              "    <tr>\n",
              "      <th>4</th>\n",
              "      <td>42949238806579040</td>\n",
              "      <td>52.480</td>\n",
              "      <td>2</td>\n",
              "      <td>1424.217</td>\n",
              "      <td>20</td>\n",
              "      <td>0.100</td>\n",
              "      <td>5.248</td>\n",
              "    </tr>\n",
              "    <tr>\n",
              "      <th>5</th>\n",
              "      <td>53342625381053594</td>\n",
              "      <td>111.980</td>\n",
              "      <td>2</td>\n",
              "      <td>80.583</td>\n",
              "      <td>18</td>\n",
              "      <td>0.111</td>\n",
              "      <td>12.442</td>\n",
              "    </tr>\n",
              "  </tbody>\n",
              "</table>\n",
              "</div>"
            ],
            "text/plain": [
              "              UserID  Total_cart_value  Total_Products_Purchased  \\\n",
              "1  23951842225160889            60.960                         2   \n",
              "2  30833658052409950           216.120                         5   \n",
              "3  33873861847792934            53.240                         1   \n",
              "4  42949238806579040            52.480                         2   \n",
              "5  53342625381053594           111.980                         2   \n",
              "\n",
              "   Total_Time_Spent  No_of_times_visited  Buy_probability  User_Score_Rank  \n",
              "1            52.067                    8            0.250           15.240  \n",
              "2           381.183                   13            0.385           83.123  \n",
              "3            10.050                    5            0.200           10.648  \n",
              "4          1424.217                   20            0.100            5.248  \n",
              "5            80.583                   18            0.111           12.442  "
            ]
          },
          "metadata": {
            "tags": []
          },
          "execution_count": 28
        }
      ]
    },
    {
      "cell_type": "code",
      "metadata": {
        "id": "RReF2MM1ping",
        "outputId": "a96b11d1-4109-4ab4-83c4-7cf164edbd51"
      },
      "source": [
        "sns.distplot(df_final['Total_cart_value'],kde = False,bins=50)\n",
        "\n",
        "plt.title(\"Total_cart_value\")\n",
        "\n",
        "## Just checking , is our data heavily rigth skewed.\n",
        "## Yes, it is."
      ],
      "execution_count": null,
      "outputs": [
        {
          "output_type": "execute_result",
          "data": {
            "text/plain": [
              "Text(0.5, 1.0, 'Total_cart_value')"
            ]
          },
          "metadata": {
            "tags": []
          },
          "execution_count": 29
        },
        {
          "output_type": "display_data",
          "data": {
            "image/png": "[encoded data removed]",
            "text/plain": [
              "<Figure size 432x288 with 1 Axes>"
            ]
          },
          "metadata": {
            "tags": []
          }
        }
      ]
    },
    {
      "cell_type": "code",
      "metadata": {
        "id": "xAwNyUejping",
        "outputId": "5384ae1d-30c1-4693-e8c1-f632b7bd4698"
      },
      "source": [
        "from sklearn.model_selection import train_test_split\n",
        "from sklearn.preprocessing import StandardScaler\n",
        "\n",
        "X = df_final.drop(['User_Score_Rank'], axis=1) \n",
        "y = df_final[['User_Score_Rank']] \n",
        "\n",
        "\n",
        "sc = StandardScaler()\n",
        "X = sc.fit_transform(X) \n",
        "\n",
        "\n",
        "X_train, X_test, y_train, y_test = train_test_split(X, y, test_size=0.20, random_state=42)\n",
        "print(X_train.shape, X_test.shape)\n",
        "print(y_train.shape, y_test.shape)"
      ],
      "execution_count": null,
      "outputs": [
        {
          "output_type": "stream",
          "text": [
            "(32682, 6) (8171, 6)\n",
            "(32682, 1) (8171, 1)\n"
          ],
          "name": "stdout"
        }
      ]
    },
    {
      "cell_type": "code",
      "metadata": {
        "id": "wIskp83Jping"
      },
      "source": [
        "from xgboost import XGBRegressor\n",
        "from sklearn.metrics import mean_squared_error,r2_score\n",
        "from math import sqrt\n",
        "\n",
        "classifier=XGBRegressor(learning_rate=0.02, n_estimators=1000, seed=42)\n",
        "\n",
        "classifier.fit(X_train,y_train)\n",
        "\n",
        "pred=classifier.predict(X_test)\n",
        "\n",
        "print(\"RMSE : \",sqrt(mean_squared_error(y_test,pred)))\n",
        "print(\"MSE : \",mean_squared_error(y_test,pred))\n",
        "print(\"R2 : \",r2_score(y_test,pred))"
      ],
      "execution_count": null,
      "outputs": []
    },
    {
      "cell_type": "code",
      "metadata": {
        "id": "H3cRjk2xping",
        "outputId": "a5388467-591a-409e-af19-af40cdb3e8f5"
      },
      "source": [
        "from sklearn.metrics import mean_squared_error,r2_score\n",
        "from math import sqrt\n",
        "from sklearn.ensemble import RandomForestRegressor\n",
        "\n",
        "classifier_rf = RandomForestRegressor()\n",
        "\n",
        "classifier_rf.fit(X_train,y_train)\n",
        "\n",
        "pred=classifier_rf.predict(X_test)\n",
        "\n",
        "print(\"RMSE : \",sqrt(mean_squared_error(y_test,pred)))\n",
        "print(\"MSE : \",mean_squared_error(y_test,pred))\n",
        "print(\"R2 : \",r2_score(y_test,pred))"
      ],
      "execution_count": null,
      "outputs": [
        {
          "output_type": "stream",
          "text": [
            "RMSE :  5.333950151107286\n",
            "MSE :  28.451024214497448\n",
            "R2 :  0.9738830001265785\n"
          ],
          "name": "stdout"
        }
      ]
    },
    {
      "cell_type": "code",
      "metadata": {
        "id": "-3xzPCSgping",
        "outputId": "66e654cf-1fac-4cd1-9f0f-21570f85dfda"
      },
      "source": [
        "from sklearn.model_selection import RandomizedSearchCV\n",
        "\n",
        "n_estimators = [200, 300, 400, 500, 600]\n",
        "max_features = ['auto', 'sqrt']\n",
        "max_depth = [20,40,50,60,80]\n",
        "min_samples_split = [2, 5, 10,15,20]\n",
        "min_samples_leaf = [1, 2, 3, 4, 5]\n",
        "bootstrap = [True, False]\n",
        "\n",
        "random_grid = {'n_estimators': n_estimators,\n",
        "               'max_features': max_features,\n",
        "               'max_depth': max_depth,\n",
        "               'min_samples_split': min_samples_split,\n",
        "               'min_samples_leaf': min_samples_leaf,\n",
        "               'bootstrap': bootstrap}\n",
        "\n",
        "random_cv2 = RandomizedSearchCV(estimator = RandomForestRegressor(), \n",
        "             param_distributions = random_grid, n_iter = 50,\n",
        "             scoring = 'neg_mean_absolute_error', cv = 5, \n",
        "             verbose=5, random_state=42, n_jobs = -1,return_train_score = True)\n",
        "\n",
        "random_cv2.fit(X_train,y_train)"
      ],
      "execution_count": null,
      "outputs": [
        {
          "output_type": "stream",
          "text": [
            "Fitting 5 folds for each of 50 candidates, totalling 250 fits\n"
          ],
          "name": "stdout"
        },
        {
          "output_type": "stream",
          "text": [
            "[Parallel(n_jobs=-1)]: Using backend LokyBackend with 4 concurrent workers.\n",
            "[Parallel(n_jobs=-1)]: Done  10 tasks      | elapsed:  6.0min\n",
            "[Parallel(n_jobs=-1)]: Done  64 tasks      | elapsed: 26.2min\n",
            "[Parallel(n_jobs=-1)]: Done 154 tasks      | elapsed: 59.7min\n"
          ],
          "name": "stderr"
        }
      ]
    },
    {
      "cell_type": "code",
      "metadata": {
        "id": "HGllge-Rpinh"
      },
      "source": [
        "random_cv2.best_params_"
      ],
      "execution_count": null,
      "outputs": []
    },
    {
      "cell_type": "code",
      "metadata": {
        "id": "uV07Hn11pinh",
        "outputId": "dd82cd49-4911-4d6f-f245-823afadffa2b"
      },
      "source": [
        "classifier=RandomForestRegressor(**random_cv2.best_params_)\n",
        "classifier.fit(X_train,y_train)\n",
        "\n",
        "pred=classifier.predict(X_test)\n",
        "\n",
        "print(\"RMSE : \",sqrt(mean_squared_error(y_test,pred)))\n",
        "print(\"MSE : \",mean_squared_error(y_test,pred))\n",
        "print(\"R2 : \",r2_score(y_test,pred))"
      ],
      "execution_count": null,
      "outputs": [
        {
          "output_type": "stream",
          "text": [
            "RMSE :  5.10814488019535\n",
            "MSE :  26.093144117065968\n",
            "R2 :  0.976047447836506\n"
          ],
          "name": "stdout"
        }
      ]
    },
    {
      "cell_type": "code",
      "metadata": {
        "id": "2VEDtYoIpinh",
        "outputId": "f62ac837-c581-42b8-c086-315ea936e05a"
      },
      "source": [
        "imp = pd.Series(data=classifier.feature_importances_, index=['Total_cart_value', 'Total_Products_Purchased', \n",
        "                                                             'Total_Time_Spent','No_of_times_visited', \n",
        "                                                             'Buy_probability']).sort_values(ascending=False)\n",
        "plt.title(\"Feature importance\")\n",
        "ax = sns.barplot(y=imp.index, x=imp.values, orient='h')"
      ],
      "execution_count": null,
      "outputs": [
        {
          "output_type": "display_data",
          "data": {
            "image/png": "[encoded data removed]",
            "text/plain": [
              "<Figure size 432x288 with 1 Axes>"
            ]
          },
          "metadata": {
            "tags": []
          }
        }
      ]
    },
    {
      "cell_type": "markdown",
      "metadata": {
        "id": "aiwy4FqYpinh"
      },
      "source": [
        "**`Note`** : Seems the most features are `Total_Cart_Value` and `Buy_probability`\n",
        "\n",
        "Hence Users with higher `Total_Cart_Value` and `Buy_probability` should be targeted."
      ]
    }
  ]
}